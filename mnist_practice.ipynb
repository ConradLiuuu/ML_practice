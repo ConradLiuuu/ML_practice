{
 "cells": [
  {
   "cell_type": "code",
   "execution_count": 48,
   "metadata": {},
   "outputs": [],
   "source": [
    "import numpy as np\n",
    "from keras.models import Sequential\n",
    "from keras.layers.core import Dense, Dropout, Activation\n",
    "#from keras.layers import Conv2D, MaxPooling2D, Flatten\n",
    "from keras.optimizers import SGD, Adam\n",
    "from keras.utils import np_utils\n",
    "from keras.datasets import mnist"
   ]
  },
  {
   "cell_type": "code",
   "execution_count": 49,
   "metadata": {},
   "outputs": [],
   "source": [
    "def load_data():\n",
    "    (x_train, y_train), (x_test, y_test) = mnist.load_data()\n",
    "    number = 10000\n",
    "    x_train = x_train[0:number]\n",
    "    y_train = y_train[0:number]\n",
    "    x_train = x_train.reshape(number, 28*28)\n",
    "    x_test = x_test.reshape(x_test.shape[0], 28*28)\n",
    "    x_train = x_train.astype('float32')\n",
    "    x_test = x_test.astype('float32')\n",
    "    \n",
    "    # convert class vectors to binary class matrices\n",
    "    y_train = np_utils.to_categorical(y_train, 10)\n",
    "    y_test = np_utils.to_categorical(y_test, 10)\n",
    "    x_train = x_train\n",
    "    x_test = x_test\n",
    "    #normalization\n",
    "    x_train = x_train / 255\n",
    "    x_test = x_test /255\n",
    "    \n",
    "    return (x_train, y_train), (x_test, y_test)"
   ]
  },
  {
   "cell_type": "code",
   "execution_count": 50,
   "metadata": {},
   "outputs": [],
   "source": [
    "(x_train, y_train), (x_test, y_test) = load_data()"
   ]
  },
  {
   "cell_type": "code",
   "execution_count": 51,
   "metadata": {},
   "outputs": [],
   "source": [
    "model = Sequential()\n",
    "# input layer\n",
    "model.add(Dense(input_dim=28*28, units=512, activation='sigmoid'))\n",
    "# hidden layer\n",
    "model.add(Dense(units=512, activation='sigmoid'))\n",
    "model.add(Dense(units=512, activation='sigmoid'))\n",
    "#for i in range(10):\n",
    "    #model.add(Dense(units=512, activation='sigmoid'))\n",
    "# output layer\n",
    "model.add(Dense(units=10, activation='softmax'))"
   ]
  },
  {
   "cell_type": "code",
   "execution_count": 57,
   "metadata": {},
   "outputs": [
    {
     "name": "stdout",
     "output_type": "stream",
     "text": [
      "Epoch 1/20\n",
      "10000/10000 [==============================] - 1s 86us/step - loss: 0.2939 - acc: 0.9115\n",
      "Epoch 2/20\n",
      "10000/10000 [==============================] - 1s 57us/step - loss: 0.2329 - acc: 0.9297\n",
      "Epoch 3/20\n",
      "10000/10000 [==============================] - 1s 77us/step - loss: 0.2173 - acc: 0.9352\n",
      "Epoch 4/20\n",
      "10000/10000 [==============================] - 1s 77us/step - loss: 0.1965 - acc: 0.9402\n",
      "Epoch 5/20\n",
      "10000/10000 [==============================] - 1s 78us/step - loss: 0.1738 - acc: 0.9477\n",
      "Epoch 6/20\n",
      "10000/10000 [==============================] - 1s 54us/step - loss: 0.1610 - acc: 0.9513\n",
      "Epoch 7/20\n",
      "10000/10000 [==============================] - 1s 77us/step - loss: 0.1464 - acc: 0.9556\n",
      "Epoch 8/20\n",
      "10000/10000 [==============================] - 1s 77us/step - loss: 0.1265 - acc: 0.9613\n",
      "Epoch 9/20\n",
      "10000/10000 [==============================] - 1s 77us/step - loss: 0.1174 - acc: 0.9646\n",
      "Epoch 10/20\n",
      "10000/10000 [==============================] - 1s 77us/step - loss: 0.0980 - acc: 0.9715\n",
      "Epoch 11/20\n",
      "10000/10000 [==============================] - 1s 77us/step - loss: 0.0885 - acc: 0.9746\n",
      "Epoch 12/20\n",
      "10000/10000 [==============================] - 1s 77us/step - loss: 0.0798 - acc: 0.9770\n",
      "Epoch 13/20\n",
      "10000/10000 [==============================] - 0s 46us/step - loss: 0.0713 - acc: 0.9772\n",
      "Epoch 14/20\n",
      "10000/10000 [==============================] - 1s 54us/step - loss: 0.0623 - acc: 0.9811\n",
      "Epoch 15/20\n",
      "10000/10000 [==============================] - 1s 54us/step - loss: 0.0554 - acc: 0.9829\n",
      "Epoch 16/20\n",
      "10000/10000 [==============================] - 1s 54us/step - loss: 0.0426 - acc: 0.9883\n",
      "Epoch 17/20\n",
      "10000/10000 [==============================] - 1s 53us/step - loss: 0.0390 - acc: 0.9892\n",
      "Epoch 18/20\n",
      "10000/10000 [==============================] - 1s 56us/step - loss: 0.0344 - acc: 0.9895\n",
      "Epoch 19/20\n",
      "10000/10000 [==============================] - 1s 71us/step - loss: 0.0285 - acc: 0.9922\n",
      "Epoch 20/20\n",
      "10000/10000 [==============================] - 1s 69us/step - loss: 0.0249 - acc: 0.9939\n",
      "10000/10000 [==============================] - 0s 23us/step\n",
      "\n",
      "Training accuracy: 0.9961000084877014\n",
      "10000/10000 [==============================] - 0s 2us/step\n",
      "\n",
      "Test accuracy: 0.947700023651123\n"
     ]
    }
   ],
   "source": [
    "#model.compile(loss='mse', optimizer=SGD(lr=0.1), metrics=['accuracy'])\n",
    "model.compile(loss='categorical_crossentropy', optimizer='adam', metrics=['accuracy'])\n",
    "model.fit(x_train, y_train, batch_size=100, epochs=20)\n",
    "\n",
    "result = model.evaluate(x_train, y_train, batch_size=10000)\n",
    "print ('\\nTraining accuracy:', result[1])\n",
    "\n",
    "result = model.evaluate(x_test, y_test, batch_size=10000)\n",
    "# result[0]=Total loss, result[1]=Accuracy\n",
    "print ('\\nTest accuracy:', result[1])"
   ]
  },
  {
   "cell_type": "code",
   "execution_count": null,
   "metadata": {},
   "outputs": [],
   "source": []
  }
 ],
 "metadata": {
  "kernelspec": {
   "display_name": "Python 3",
   "language": "python",
   "name": "python3"
  },
  "language_info": {
   "codemirror_mode": {
    "name": "ipython",
    "version": 3
   },
   "file_extension": ".py",
   "mimetype": "text/x-python",
   "name": "python",
   "nbconvert_exporter": "python",
   "pygments_lexer": "ipython3",
   "version": "3.6.9"
  }
 },
 "nbformat": 4,
 "nbformat_minor": 4
}
