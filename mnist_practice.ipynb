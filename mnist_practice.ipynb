{
 "cells": [
  {
   "cell_type": "code",
   "execution_count": 1,
   "metadata": {},
   "outputs": [
    {
     "name": "stderr",
     "output_type": "stream",
     "text": [
      "Using TensorFlow backend.\n",
      "/home/lab606a/.virtualenvs/keras/lib/python3.6/site-packages/tensorflow/python/framework/dtypes.py:523: FutureWarning: Passing (type, 1) or '1type' as a synonym of type is deprecated; in a future version of numpy, it will be understood as (type, (1,)) / '(1,)type'.\n",
      "  _np_qint8 = np.dtype([(\"qint8\", np.int8, 1)])\n",
      "/home/lab606a/.virtualenvs/keras/lib/python3.6/site-packages/tensorflow/python/framework/dtypes.py:524: FutureWarning: Passing (type, 1) or '1type' as a synonym of type is deprecated; in a future version of numpy, it will be understood as (type, (1,)) / '(1,)type'.\n",
      "  _np_quint8 = np.dtype([(\"quint8\", np.uint8, 1)])\n",
      "/home/lab606a/.virtualenvs/keras/lib/python3.6/site-packages/tensorflow/python/framework/dtypes.py:525: FutureWarning: Passing (type, 1) or '1type' as a synonym of type is deprecated; in a future version of numpy, it will be understood as (type, (1,)) / '(1,)type'.\n",
      "  _np_qint16 = np.dtype([(\"qint16\", np.int16, 1)])\n",
      "/home/lab606a/.virtualenvs/keras/lib/python3.6/site-packages/tensorflow/python/framework/dtypes.py:526: FutureWarning: Passing (type, 1) or '1type' as a synonym of type is deprecated; in a future version of numpy, it will be understood as (type, (1,)) / '(1,)type'.\n",
      "  _np_quint16 = np.dtype([(\"quint16\", np.uint16, 1)])\n",
      "/home/lab606a/.virtualenvs/keras/lib/python3.6/site-packages/tensorflow/python/framework/dtypes.py:527: FutureWarning: Passing (type, 1) or '1type' as a synonym of type is deprecated; in a future version of numpy, it will be understood as (type, (1,)) / '(1,)type'.\n",
      "  _np_qint32 = np.dtype([(\"qint32\", np.int32, 1)])\n",
      "/home/lab606a/.virtualenvs/keras/lib/python3.6/site-packages/tensorflow/python/framework/dtypes.py:532: FutureWarning: Passing (type, 1) or '1type' as a synonym of type is deprecated; in a future version of numpy, it will be understood as (type, (1,)) / '(1,)type'.\n",
      "  np_resource = np.dtype([(\"resource\", np.ubyte, 1)])\n"
     ]
    }
   ],
   "source": [
    "import numpy as np\n",
    "from keras.models import Sequential\n",
    "from keras.layers.core import Dense, Dropout, Activation\n",
    "#from keras.layers import Conv2D, MaxPooling2D, Flatten\n",
    "from keras.optimizers import SGD, Adam\n",
    "from keras.utils import np_utils\n",
    "from keras.datasets import mnist"
   ]
  },
  {
   "cell_type": "code",
   "execution_count": 18,
   "metadata": {},
   "outputs": [],
   "source": [
    "def load_data():\n",
    "    (x_train, y_train), (x_test, y_test) = mnist.load_data()\n",
    "    print(\"shape of x_train\", x_train.shape)\n",
    "    print(\"shape of y_train\", y_train.shape)\n",
    "    print(\"shape of x_test\", x_test.shape)\n",
    "    print(\"shape of y_test\", y_test.shape)\n",
    "    number = 10000\n",
    "    x_train = x_train[0:number]\n",
    "    y_train = y_train[0:number]\n",
    "    x_train = x_train.reshape(number, 28*28)\n",
    "    x_test = x_test.reshape(x_test.shape[0], 28*28)\n",
    "    x_train = x_train.astype('float32')\n",
    "    x_test = x_test.astype('float32')\n",
    "    \n",
    "    ## convert class vectors to binary class matrices\n",
    "    ## y_train and y_test doing one-hot-encoding by np_utils.to_categorial()\n",
    "    y_train = np_utils.to_categorical(y_train, 10)\n",
    "    y_test = np_utils.to_categorical(y_test, 10)\n",
    "    x_train = x_train\n",
    "    x_test = x_test\n",
    "    print(\"converted shape of x_train\", x_train.shape)\n",
    "    print(\"converted shape of y_train\", y_train.shape)\n",
    "    print(\"converted shape of x_test\", x_test.shape)\n",
    "    print(\"converted shape of y_test\", y_test.shape)\n",
    "    \n",
    "    #normalization\n",
    "    x_train = x_train / 255\n",
    "    x_test = x_test /255\n",
    "    \n",
    "    ## add noise\n",
    "    #x_test = np.random.normal(x_test)\n",
    "    \n",
    "    return (x_train, y_train), (x_test, y_test)"
   ]
  },
  {
   "cell_type": "code",
   "execution_count": 19,
   "metadata": {},
   "outputs": [
    {
     "name": "stdout",
     "output_type": "stream",
     "text": [
      "shape of x_train (60000, 28, 28)\n",
      "shape of y_train (60000,)\n",
      "shape of x_test (10000, 28, 28)\n",
      "shape of y_test (10000,)\n",
      "converted shape of x_train (10000, 784)\n",
      "converted shape of y_train (10000, 10)\n",
      "converted shape of x_test (10000, 784)\n",
      "converted shape of y_test (10000, 10)\n"
     ]
    }
   ],
   "source": [
    "(x_train, y_train), (x_test, y_test) = load_data()\n",
    "## mnist input training data size:60000\n",
    "## mnist input testing data size:10000"
   ]
  },
  {
   "cell_type": "code",
   "execution_count": 4,
   "metadata": {},
   "outputs": [],
   "source": [
    "model = Sequential()\n",
    "\n",
    "## input layer\n",
    "model.add(Dense(input_dim=28*28, units=512, activation='sigmoid'))\n",
    "#model.add(Dropout(0.5)) # when noise comes can try droout\n",
    "\n",
    "## hidden layer\n",
    "model.add(Dense(units=512, activation='sigmoid'))\n",
    "#model.add(Dropout(0.5))\n",
    "model.add(Dense(units=512, activation='sigmoid'))\n",
    "#model.add(Dropout(0.5))\n",
    "#for i in range(10):\n",
    "    #model.add(Dense(units=512, activation='sigmoid'))\n",
    "\n",
    "## output layer\n",
    "model.add(Dense(units=10, activation='softmax'))"
   ]
  },
  {
   "cell_type": "code",
   "execution_count": 5,
   "metadata": {},
   "outputs": [
    {
     "name": "stdout",
     "output_type": "stream",
     "text": [
      "Epoch 1/20\n",
      "10000/10000 [==============================] - 1s 147us/step - loss: 1.4946 - acc: 0.5074\n",
      "Epoch 2/20\n",
      "10000/10000 [==============================] - 0s 38us/step - loss: 0.4263 - acc: 0.8773\n",
      "Epoch 3/20\n",
      "10000/10000 [==============================] - 1s 61us/step - loss: 0.3054 - acc: 0.9123\n",
      "Epoch 4/20\n",
      "10000/10000 [==============================] - 0s 50us/step - loss: 0.2532 - acc: 0.9265\n",
      "Epoch 5/20\n",
      "10000/10000 [==============================] - 0s 50us/step - loss: 0.2200 - acc: 0.9313\n",
      "Epoch 6/20\n",
      "10000/10000 [==============================] - 0s 47us/step - loss: 0.1943 - acc: 0.9398\n",
      "Epoch 7/20\n",
      "10000/10000 [==============================] - 1s 50us/step - loss: 0.1635 - acc: 0.9512\n",
      "Epoch 8/20\n",
      "10000/10000 [==============================] - 0s 49us/step - loss: 0.1511 - acc: 0.9541\n",
      "Epoch 9/20\n",
      "10000/10000 [==============================] - 0s 40us/step - loss: 0.1278 - acc: 0.9646\n",
      "Epoch 10/20\n",
      "10000/10000 [==============================] - 1s 53us/step - loss: 0.1145 - acc: 0.9659\n",
      "Epoch 11/20\n",
      "10000/10000 [==============================] - 1s 51us/step - loss: 0.1037 - acc: 0.9678\n",
      "Epoch 12/20\n",
      "10000/10000 [==============================] - 0s 40us/step - loss: 0.0850 - acc: 0.9765\n",
      "Epoch 13/20\n",
      "10000/10000 [==============================] - 0s 21us/step - loss: 0.0776 - acc: 0.9783\n",
      "Epoch 14/20\n",
      "10000/10000 [==============================] - 0s 18us/step - loss: 0.0744 - acc: 0.9795\n",
      "Epoch 15/20\n",
      "10000/10000 [==============================] - 0s 17us/step - loss: 0.0604 - acc: 0.9814\n",
      "Epoch 16/20\n",
      "10000/10000 [==============================] - 0s 23us/step - loss: 0.0497 - acc: 0.9866\n",
      "Epoch 17/20\n",
      "10000/10000 [==============================] - 0s 36us/step - loss: 0.0421 - acc: 0.9893\n",
      "Epoch 18/20\n",
      "10000/10000 [==============================] - 0s 26us/step - loss: 0.0326 - acc: 0.9924\n",
      "Epoch 19/20\n",
      "10000/10000 [==============================] - 0s 17us/step - loss: 0.0311 - acc: 0.9920\n",
      "Epoch 20/20\n",
      "10000/10000 [==============================] - 0s 18us/step - loss: 0.0237 - acc: 0.9946\n",
      "10000/10000 [==============================] - 0s 3us/step\n",
      "\n",
      "Training accuracy: 0.9969000220298767\n",
      "10000/10000 [==============================] - 0s 1us/step\n",
      "\n",
      "Test accuracy: 0.9484999775886536\n"
     ]
    }
   ],
   "source": [
    "#model.compile(loss='mse', optimizer=SGD(lr=0.1), metrics=['accuracy'])\n",
    "model.compile(loss='categorical_crossentropy', optimizer='adam', metrics=['accuracy'])\n",
    "model.fit(x_train, y_train, batch_size=100, epochs=20)\n",
    "\n",
    "result = model.evaluate(x_train, y_train, batch_size=100)\n",
    "print ('\\nTraining accuracy:', result[1])\n",
    "\n",
    "result = model.evaluate(x_test, y_test, batch_size=100)\n",
    "# result[0]=Total loss, result[1]=Accuracy\n",
    "print ('\\nTest accuracy:', result[1])"
   ]
  }
 ],
 "metadata": {
  "kernelspec": {
   "display_name": "Python 3",
   "language": "python",
   "name": "python3"
  },
  "language_info": {
   "codemirror_mode": {
    "name": "ipython",
    "version": 3
   },
   "file_extension": ".py",
   "mimetype": "text/x-python",
   "name": "python",
   "nbconvert_exporter": "python",
   "pygments_lexer": "ipython3",
   "version": "3.6.9"
  }
 },
 "nbformat": 4,
 "nbformat_minor": 4
}
