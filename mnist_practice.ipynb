{
 "cells": [
  {
   "cell_type": "code",
   "execution_count": 1,
   "metadata": {},
   "outputs": [
    {
     "name": "stderr",
     "output_type": "stream",
     "text": [
      "Using TensorFlow backend.\n",
      "/home/lab606a/.virtualenvs/keras/lib/python3.6/site-packages/tensorflow/python/framework/dtypes.py:523: FutureWarning: Passing (type, 1) or '1type' as a synonym of type is deprecated; in a future version of numpy, it will be understood as (type, (1,)) / '(1,)type'.\n",
      "  _np_qint8 = np.dtype([(\"qint8\", np.int8, 1)])\n",
      "/home/lab606a/.virtualenvs/keras/lib/python3.6/site-packages/tensorflow/python/framework/dtypes.py:524: FutureWarning: Passing (type, 1) or '1type' as a synonym of type is deprecated; in a future version of numpy, it will be understood as (type, (1,)) / '(1,)type'.\n",
      "  _np_quint8 = np.dtype([(\"quint8\", np.uint8, 1)])\n",
      "/home/lab606a/.virtualenvs/keras/lib/python3.6/site-packages/tensorflow/python/framework/dtypes.py:525: FutureWarning: Passing (type, 1) or '1type' as a synonym of type is deprecated; in a future version of numpy, it will be understood as (type, (1,)) / '(1,)type'.\n",
      "  _np_qint16 = np.dtype([(\"qint16\", np.int16, 1)])\n",
      "/home/lab606a/.virtualenvs/keras/lib/python3.6/site-packages/tensorflow/python/framework/dtypes.py:526: FutureWarning: Passing (type, 1) or '1type' as a synonym of type is deprecated; in a future version of numpy, it will be understood as (type, (1,)) / '(1,)type'.\n",
      "  _np_quint16 = np.dtype([(\"quint16\", np.uint16, 1)])\n",
      "/home/lab606a/.virtualenvs/keras/lib/python3.6/site-packages/tensorflow/python/framework/dtypes.py:527: FutureWarning: Passing (type, 1) or '1type' as a synonym of type is deprecated; in a future version of numpy, it will be understood as (type, (1,)) / '(1,)type'.\n",
      "  _np_qint32 = np.dtype([(\"qint32\", np.int32, 1)])\n",
      "/home/lab606a/.virtualenvs/keras/lib/python3.6/site-packages/tensorflow/python/framework/dtypes.py:532: FutureWarning: Passing (type, 1) or '1type' as a synonym of type is deprecated; in a future version of numpy, it will be understood as (type, (1,)) / '(1,)type'.\n",
      "  np_resource = np.dtype([(\"resource\", np.ubyte, 1)])\n"
     ]
    }
   ],
   "source": [
    "import numpy as np\n",
    "from keras.models import Sequential\n",
    "from keras.layers.core import Dense, Dropout, Activation\n",
    "#from keras.layers import Conv2D, MaxPooling2D, Flatten\n",
    "from keras.optimizers import SGD, Adam\n",
    "from keras.utils import np_utils\n",
    "from keras.datasets import mnist"
   ]
  },
  {
   "cell_type": "code",
   "execution_count": 2,
   "metadata": {},
   "outputs": [],
   "source": [
    "def load_data():\n",
    "    (x_train, y_train), (x_test, y_test) = mnist.load_data()\n",
    "    print(\"shape of x_train\", x_train.shape)\n",
    "    print(\"shape of y_train\", y_train.shape)\n",
    "    print(\"shape of x_test\", x_test.shape)\n",
    "    print(\"shape of y_test\", y_test.shape)\n",
    "    number = 10000\n",
    "    x_train = x_train[0:number]\n",
    "    y_train = y_train[0:number]\n",
    "    x_train = x_train.reshape(number, 28*28)\n",
    "    x_test = x_test.reshape(x_test.shape[0], 28*28)\n",
    "    x_train = x_train.astype('float32')\n",
    "    x_test = x_test.astype('float32')\n",
    "    \n",
    "    ## convert class vectors to binary class matrices\n",
    "    ## y_train and y_test doing one-hot-encoding by np_utils.to_categorial()\n",
    "    y_train = np_utils.to_categorical(y_train, 10)\n",
    "    y_test = np_utils.to_categorical(y_test, 10)\n",
    "    x_train = x_train\n",
    "    x_test = x_test\n",
    "    print(\"converted shape of x_train\", x_train.shape)\n",
    "    print(\"converted shape of y_train\", y_train.shape)\n",
    "    print(\"converted shape of x_test\", x_test.shape)\n",
    "    print(\"converted shape of y_test\", y_test.shape)\n",
    "    \n",
    "    #normalization\n",
    "    x_train = x_train / 255\n",
    "    x_test = x_test /255\n",
    "    \n",
    "    ## add noise\n",
    "    #x_test = np.random.normal(x_test)\n",
    "    \n",
    "    return (x_train, y_train), (x_test, y_test)"
   ]
  },
  {
   "cell_type": "code",
   "execution_count": 3,
   "metadata": {},
   "outputs": [
    {
     "name": "stdout",
     "output_type": "stream",
     "text": [
      "shape of x_train (60000, 28, 28)\n",
      "shape of y_train (60000,)\n",
      "shape of x_test (10000, 28, 28)\n",
      "shape of y_test (10000,)\n",
      "converted shape of x_train (10000, 784)\n",
      "converted shape of y_train (10000, 10)\n",
      "converted shape of x_test (10000, 784)\n",
      "converted shape of y_test (10000, 10)\n"
     ]
    }
   ],
   "source": [
    "(x_train, y_train), (x_test, y_test) = load_data()\n",
    "## mnist input training data size:60000\n",
    "## mnist input testing data size:10000"
   ]
  },
  {
   "cell_type": "code",
   "execution_count": 4,
   "metadata": {},
   "outputs": [],
   "source": [
    "model = Sequential()\n",
    "\n",
    "## input layer\n",
    "model.add(Dense(input_dim=28*28, units=512, activation='sigmoid'))\n",
    "#model.add(Dropout(0.5)) # when noise comes can try droout\n",
    "\n",
    "## hidden layer\n",
    "model.add(Dense(units=512, activation='sigmoid'))\n",
    "#model.add(Dropout(0.5))\n",
    "model.add(Dense(units=512, activation='sigmoid'))\n",
    "#model.add(Dropout(0.5))\n",
    "#for i in range(10):\n",
    "    #model.add(Dense(units=512, activation='sigmoid'))\n",
    "\n",
    "## output layer\n",
    "model.add(Dense(units=10, activation='softmax'))"
   ]
  },
  {
   "cell_type": "code",
   "execution_count": 5,
   "metadata": {},
   "outputs": [
    {
     "name": "stdout",
     "output_type": "stream",
     "text": [
      "Epoch 1/20\n",
      "10000/10000 [==============================] - 1s 84us/step - loss: 1.4026 - acc: 0.5421\n",
      "Epoch 2/20\n",
      "10000/10000 [==============================] - 0s 30us/step - loss: 0.4004 - acc: 0.8861\n",
      "Epoch 3/20\n",
      "10000/10000 [==============================] - 0s 34us/step - loss: 0.2990 - acc: 0.9122\n",
      "Epoch 4/20\n",
      "10000/10000 [==============================] - 0s 25us/step - loss: 0.2518 - acc: 0.9240\n",
      "Epoch 5/20\n",
      "10000/10000 [==============================] - 0s 44us/step - loss: 0.2161 - acc: 0.9362\n",
      "Epoch 6/20\n",
      "10000/10000 [==============================] - 0s 46us/step - loss: 0.1889 - acc: 0.9439\n",
      "Epoch 7/20\n",
      "10000/10000 [==============================] - 0s 44us/step - loss: 0.1717 - acc: 0.9458\n",
      "Epoch 8/20\n",
      "10000/10000 [==============================] - 0s 44us/step - loss: 0.1497 - acc: 0.9541\n",
      "Epoch 9/20\n",
      "10000/10000 [==============================] - 0s 29us/step - loss: 0.1325 - acc: 0.9604\n",
      "Epoch 10/20\n",
      "10000/10000 [==============================] - 0s 38us/step - loss: 0.1154 - acc: 0.9647\n",
      "Epoch 11/20\n",
      "10000/10000 [==============================] - 0s 38us/step - loss: 0.1003 - acc: 0.9708\n",
      "Epoch 12/20\n",
      "10000/10000 [==============================] - 0s 38us/step - loss: 0.0887 - acc: 0.9731\n",
      "Epoch 13/20\n",
      "10000/10000 [==============================] - 0s 34us/step - loss: 0.0800 - acc: 0.9769\n",
      "Epoch 14/20\n",
      "10000/10000 [==============================] - 0s 23us/step - loss: 0.0707 - acc: 0.9799\n",
      "Epoch 15/20\n",
      "10000/10000 [==============================] - 0s 25us/step - loss: 0.0564 - acc: 0.9838\n",
      "Epoch 16/20\n",
      "10000/10000 [==============================] - 0s 45us/step - loss: 0.0487 - acc: 0.9864\n",
      "Epoch 17/20\n",
      "10000/10000 [==============================] - 1s 55us/step - loss: 0.0427 - acc: 0.9887\n",
      "Epoch 18/20\n",
      "10000/10000 [==============================] - 1s 55us/step - loss: 0.0383 - acc: 0.9895\n",
      "Epoch 19/20\n",
      "10000/10000 [==============================] - 1s 52us/step - loss: 0.0295 - acc: 0.9924\n",
      "Epoch 20/20\n",
      "10000/10000 [==============================] - 0s 46us/step - loss: 0.0261 - acc: 0.9941\n",
      "10000/10000 [==============================] - 0s 11us/step\n",
      "\n",
      "Training accuracy: 0.9965000033378602\n",
      "10000/10000 [==============================] - 0s 9us/step\n",
      "\n",
      "Test accuracy: 0.9465000033378601\n"
     ]
    }
   ],
   "source": [
    "#model.compile(loss='mse', optimizer=SGD(lr=0.1), metrics=['accuracy'])\n",
    "model.compile(loss='categorical_crossentropy', optimizer='adam', metrics=['accuracy'])\n",
    "model.fit(x_train, y_train, batch_size=100, epochs=20)\n",
    "\n",
    "result = model.evaluate(x_train, y_train, batch_size=100)\n",
    "print ('\\nTraining accuracy:', result[1])\n",
    "\n",
    "result = model.evaluate(x_test, y_test, batch_size=100)\n",
    "# result[0]=Total loss, result[1]=Accuracy\n",
    "print ('\\nTest accuracy:', result[1])"
   ]
  },
  {
   "cell_type": "code",
   "execution_count": 6,
   "metadata": {},
   "outputs": [
    {
     "data": {
      "image/svg+xml": [
       "<svg height=\"337pt\" viewBox=\"0.00 0.00 126.00 337.00\" width=\"126pt\" xmlns=\"http://www.w3.org/2000/svg\" xmlns:xlink=\"http://www.w3.org/1999/xlink\">\n",
       "<g class=\"graph\" id=\"graph0\" transform=\"scale(1 1) rotate(0) translate(4 333)\">\n",
       "<title>G</title>\n",
       "<polygon fill=\"#ffffff\" points=\"-4,4 -4,-333 122,-333 122,4 -4,4\" stroke=\"transparent\"/>\n",
       "<!-- 140016614238920 -->\n",
       "<g class=\"node\" id=\"node1\">\n",
       "<title>140016614238920</title>\n",
       "<polygon fill=\"none\" points=\"8,-219.5 8,-255.5 110,-255.5 110,-219.5 8,-219.5\" stroke=\"#000000\"/>\n",
       "<text fill=\"#000000\" font-family=\"Times,serif\" font-size=\"14.00\" text-anchor=\"middle\" x=\"59\" y=\"-233.8\">dense_1: Dense</text>\n",
       "</g>\n",
       "<!-- 140016614239368 -->\n",
       "<g class=\"node\" id=\"node2\">\n",
       "<title>140016614239368</title>\n",
       "<polygon fill=\"none\" points=\"8,-146.5 8,-182.5 110,-182.5 110,-146.5 8,-146.5\" stroke=\"#000000\"/>\n",
       "<text fill=\"#000000\" font-family=\"Times,serif\" font-size=\"14.00\" text-anchor=\"middle\" x=\"59\" y=\"-160.8\">dense_2: Dense</text>\n",
       "</g>\n",
       "<!-- 140016614238920&#45;&gt;140016614239368 -->\n",
       "<g class=\"edge\" id=\"edge2\">\n",
       "<title>140016614238920-&gt;140016614239368</title>\n",
       "<path d=\"M59,-219.4551C59,-211.3828 59,-201.6764 59,-192.6817\" fill=\"none\" stroke=\"#000000\"/>\n",
       "<polygon fill=\"#000000\" points=\"62.5001,-192.5903 59,-182.5904 55.5001,-192.5904 62.5001,-192.5903\" stroke=\"#000000\"/>\n",
       "</g>\n",
       "<!-- 140016614240208 -->\n",
       "<g class=\"node\" id=\"node3\">\n",
       "<title>140016614240208</title>\n",
       "<polygon fill=\"none\" points=\"8,-73.5 8,-109.5 110,-109.5 110,-73.5 8,-73.5\" stroke=\"#000000\"/>\n",
       "<text fill=\"#000000\" font-family=\"Times,serif\" font-size=\"14.00\" text-anchor=\"middle\" x=\"59\" y=\"-87.8\">dense_3: Dense</text>\n",
       "</g>\n",
       "<!-- 140016614239368&#45;&gt;140016614240208 -->\n",
       "<g class=\"edge\" id=\"edge3\">\n",
       "<title>140016614239368-&gt;140016614240208</title>\n",
       "<path d=\"M59,-146.4551C59,-138.3828 59,-128.6764 59,-119.6817\" fill=\"none\" stroke=\"#000000\"/>\n",
       "<polygon fill=\"#000000\" points=\"62.5001,-119.5903 59,-109.5904 55.5001,-119.5904 62.5001,-119.5903\" stroke=\"#000000\"/>\n",
       "</g>\n",
       "<!-- 140016614280552 -->\n",
       "<g class=\"node\" id=\"node4\">\n",
       "<title>140016614280552</title>\n",
       "<polygon fill=\"none\" points=\"8,-.5 8,-36.5 110,-36.5 110,-.5 8,-.5\" stroke=\"#000000\"/>\n",
       "<text fill=\"#000000\" font-family=\"Times,serif\" font-size=\"14.00\" text-anchor=\"middle\" x=\"59\" y=\"-14.8\">dense_4: Dense</text>\n",
       "</g>\n",
       "<!-- 140016614240208&#45;&gt;140016614280552 -->\n",
       "<g class=\"edge\" id=\"edge4\">\n",
       "<title>140016614240208-&gt;140016614280552</title>\n",
       "<path d=\"M59,-73.4551C59,-65.3828 59,-55.6764 59,-46.6817\" fill=\"none\" stroke=\"#000000\"/>\n",
       "<polygon fill=\"#000000\" points=\"62.5001,-46.5903 59,-36.5904 55.5001,-46.5904 62.5001,-46.5903\" stroke=\"#000000\"/>\n",
       "</g>\n",
       "<!-- 140016614239760 -->\n",
       "<g class=\"node\" id=\"node5\">\n",
       "<title>140016614239760</title>\n",
       "<polygon fill=\"none\" points=\"0,-292.5 0,-328.5 118,-328.5 118,-292.5 0,-292.5\" stroke=\"#000000\"/>\n",
       "<text fill=\"#000000\" font-family=\"Times,serif\" font-size=\"14.00\" text-anchor=\"middle\" x=\"59\" y=\"-306.8\">140016614239760</text>\n",
       "</g>\n",
       "<!-- 140016614239760&#45;&gt;140016614238920 -->\n",
       "<g class=\"edge\" id=\"edge1\">\n",
       "<title>140016614239760-&gt;140016614238920</title>\n",
       "<path d=\"M59,-292.4551C59,-284.3828 59,-274.6764 59,-265.6817\" fill=\"none\" stroke=\"#000000\"/>\n",
       "<polygon fill=\"#000000\" points=\"62.5001,-265.5903 59,-255.5904 55.5001,-265.5904 62.5001,-265.5903\" stroke=\"#000000\"/>\n",
       "</g>\n",
       "</g>\n",
       "</svg>"
      ],
      "text/plain": [
       "<IPython.core.display.SVG object>"
      ]
     },
     "execution_count": 6,
     "metadata": {},
     "output_type": "execute_result"
    }
   ],
   "source": [
    "from IPython.display import SVG\n",
    "from keras.utils.vis_utils import model_to_dot\n",
    "SVG(model_to_dot(model).create(prog='dot', format='svg'))"
   ]
  }
 ],
 "metadata": {
  "kernelspec": {
   "display_name": "Python 3",
   "language": "python",
   "name": "python3"
  },
  "language_info": {
   "codemirror_mode": {
    "name": "ipython",
    "version": 3
   },
   "file_extension": ".py",
   "mimetype": "text/x-python",
   "name": "python",
   "nbconvert_exporter": "python",
   "pygments_lexer": "ipython3",
   "version": "3.6.9"
  }
 },
 "nbformat": 4,
 "nbformat_minor": 4
}
