{
 "cells": [
  {
   "cell_type": "code",
   "execution_count": 11,
   "metadata": {},
   "outputs": [],
   "source": [
    "import numpy as np\n",
    "from keras.models import Sequential\n",
    "from keras.layers.core import Dense, Dropout, Activation\n",
    "#from keras.layers import Conv2D, MaxPooling2D, Flatten\n",
    "from keras.optimizers import SGD, Adam\n",
    "from keras.utils import np_utils\n",
    "from keras.datasets import mnist"
   ]
  },
  {
   "cell_type": "code",
   "execution_count": 12,
   "metadata": {},
   "outputs": [],
   "source": [
    "def load_data():\n",
    "    (x_train, y_train), (x_test, y_test) = mnist.load_data()\n",
    "    number = 10000\n",
    "    x_train = x_train[0:number]\n",
    "    y_train = y_train[0:number]\n",
    "    x_train = x_train.reshape(number, 28*28)\n",
    "    x_test = x_test.reshape(x_test.shape[0], 28*28)\n",
    "    x_train = x_train.astype('float32')\n",
    "    x_test = x_test.astype('float32')\n",
    "    \n",
    "    # convert class vectors to binary class matrices\n",
    "    y_train = np_utils.to_categorical(y_train, 10)\n",
    "    y_test = np_utils.to_categorical(y_test, 10)\n",
    "    x_train = x_train\n",
    "    x_test = x_test\n",
    "    #normalization\n",
    "    x_train = x_train / 255\n",
    "    x_test = x_test /255\n",
    "    # add noise\n",
    "    #x_test = np.random.normal(x_test)\n",
    "    \n",
    "    return (x_train, y_train), (x_test, y_test)"
   ]
  },
  {
   "cell_type": "code",
   "execution_count": 13,
   "metadata": {},
   "outputs": [],
   "source": [
    "(x_train, y_train), (x_test, y_test) = load_data()"
   ]
  },
  {
   "cell_type": "code",
   "execution_count": 14,
   "metadata": {},
   "outputs": [],
   "source": [
    "model = Sequential()\n",
    "# input layer\n",
    "model.add(Dense(input_dim=28*28, units=512, activation='sigmoid'))\n",
    "#model.add(Dropout(0.5)) # when noise comes can try droout\n",
    "# hidden layer\n",
    "model.add(Dense(units=512, activation='sigmoid'))\n",
    "#model.add(Dropout(0.5))\n",
    "model.add(Dense(units=512, activation='sigmoid'))\n",
    "#model.add(Dropout(0.5))\n",
    "#for i in range(10):\n",
    "    #model.add(Dense(units=512, activation='sigmoid'))\n",
    "# output layer\n",
    "model.add(Dense(units=10, activation='softmax'))"
   ]
  },
  {
   "cell_type": "code",
   "execution_count": 15,
   "metadata": {},
   "outputs": [
    {
     "name": "stdout",
     "output_type": "stream",
     "text": [
      "Epoch 1/20\n",
      "10000/10000 [==============================] - 0s 47us/step - loss: 1.4095 - acc: 0.5366\n",
      "Epoch 2/20\n",
      "10000/10000 [==============================] - 0s 41us/step - loss: 0.4102 - acc: 0.8804\n",
      "Epoch 3/20\n",
      "10000/10000 [==============================] - 1s 55us/step - loss: 0.3034 - acc: 0.9134\n",
      "Epoch 4/20\n",
      "10000/10000 [==============================] - 1s 69us/step - loss: 0.2544 - acc: 0.9258\n",
      "Epoch 5/20\n",
      "10000/10000 [==============================] - 1s 74us/step - loss: 0.2187 - acc: 0.9316\n",
      "Epoch 6/20\n",
      "10000/10000 [==============================] - 1s 73us/step - loss: 0.1949 - acc: 0.9400\n",
      "Epoch 7/20\n",
      "10000/10000 [==============================] - 1s 73us/step - loss: 0.1626 - acc: 0.9512\n",
      "Epoch 8/20\n",
      "10000/10000 [==============================] - 1s 74us/step - loss: 0.1489 - acc: 0.9547\n",
      "Epoch 9/20\n",
      "10000/10000 [==============================] - 1s 73us/step - loss: 0.1246 - acc: 0.9633\n",
      "Epoch 10/20\n",
      "10000/10000 [==============================] - 1s 54us/step - loss: 0.1161 - acc: 0.9649\n",
      "Epoch 11/20\n",
      "10000/10000 [==============================] - 1s 52us/step - loss: 0.1024 - acc: 0.9694\n",
      "Epoch 12/20\n",
      "10000/10000 [==============================] - 1s 51us/step - loss: 0.0869 - acc: 0.9753\n",
      "Epoch 13/20\n",
      "10000/10000 [==============================] - 1s 51us/step - loss: 0.0747 - acc: 0.9791\n",
      "Epoch 14/20\n",
      "10000/10000 [==============================] - 1s 51us/step - loss: 0.0652 - acc: 0.9821\n",
      "Epoch 15/20\n",
      "10000/10000 [==============================] - 1s 52us/step - loss: 0.0580 - acc: 0.9833\n",
      "Epoch 16/20\n",
      "10000/10000 [==============================] - 1s 51us/step - loss: 0.0502 - acc: 0.9860\n",
      "Epoch 17/20\n",
      "10000/10000 [==============================] - 1s 51us/step - loss: 0.0419 - acc: 0.9893\n",
      "Epoch 18/20\n",
      "10000/10000 [==============================] - 1s 51us/step - loss: 0.0364 - acc: 0.9900\n",
      "Epoch 19/20\n",
      "10000/10000 [==============================] - 1s 52us/step - loss: 0.0281 - acc: 0.9936\n",
      "Epoch 20/20\n",
      "10000/10000 [==============================] - 1s 52us/step - loss: 0.0240 - acc: 0.9941\n",
      "10000/10000 [==============================] - 0s 9us/step\n",
      "\n",
      "Training accuracy: 0.9965999722480774\n",
      "10000/10000 [==============================] - 0s 2us/step\n",
      "\n",
      "Test accuracy: 0.9483000040054321\n"
     ]
    }
   ],
   "source": [
    "#model.compile(loss='mse', optimizer=SGD(lr=0.1), metrics=['accuracy'])\n",
    "model.compile(loss='categorical_crossentropy', optimizer='adam', metrics=['accuracy'])\n",
    "model.fit(x_train, y_train, batch_size=100, epochs=20)\n",
    "\n",
    "result = model.evaluate(x_train, y_train, batch_size=10000)\n",
    "print ('\\nTraining accuracy:', result[1])\n",
    "\n",
    "result = model.evaluate(x_test, y_test, batch_size=10000)\n",
    "# result[0]=Total loss, result[1]=Accuracy\n",
    "print ('\\nTest accuracy:', result[1])"
   ]
  },
  {
   "cell_type": "code",
   "execution_count": 25,
   "metadata": {},
   "outputs": [
    {
     "data": {
      "text/plain": [
       "(10000, 784)"
      ]
     },
     "execution_count": 25,
     "metadata": {},
     "output_type": "execute_result"
    }
   ],
   "source": [
    "x_test.shape"
   ]
  }
 ],
 "metadata": {
  "kernelspec": {
   "display_name": "Python 3",
   "language": "python",
   "name": "python3"
  },
  "language_info": {
   "codemirror_mode": {
    "name": "ipython",
    "version": 3
   },
   "file_extension": ".py",
   "mimetype": "text/x-python",
   "name": "python",
   "nbconvert_exporter": "python",
   "pygments_lexer": "ipython3",
   "version": "3.6.9"
  }
 },
 "nbformat": 4,
 "nbformat_minor": 4
}
