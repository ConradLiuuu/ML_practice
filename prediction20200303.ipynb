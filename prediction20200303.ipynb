{
 "cells": [
  {
   "cell_type": "code",
   "execution_count": 14,
   "metadata": {},
   "outputs": [],
   "source": [
    "import numpy as np\n",
    "import pandas as pd\n",
    "from keras.preprocessing import sequence\n",
    "from keras.models import Sequential\n",
    "from keras.layers import Dense, LSTM, Activation, TimeDistributed, RepeatVector"
   ]
  },
  {
   "cell_type": "code",
   "execution_count": 15,
   "metadata": {},
   "outputs": [],
   "source": [
    "import matplotlib.pyplot as plt"
   ]
  },
  {
   "cell_type": "code",
   "execution_count": 16,
   "metadata": {},
   "outputs": [
    {
     "data": {
      "text/plain": [
       "(3541, 145)"
      ]
     },
     "execution_count": 16,
     "metadata": {},
     "output_type": "execute_result"
    }
   ],
   "source": [
    "dataset = pd.read_csv('/home/lab606a/ML/datasets/dataset_20200225.csv', header=None)\n",
    "dataset = dataset.fillna(0)\n",
    "dataset = np.array(dataset)\n",
    "dataset.shape"
   ]
  },
  {
   "cell_type": "code",
   "execution_count": 17,
   "metadata": {},
   "outputs": [
    {
     "data": {
      "text/plain": [
       "(928, 144)"
      ]
     },
     "execution_count": 17,
     "metadata": {},
     "output_type": "execute_result"
    }
   ],
   "source": [
    "dataset = dataset[:928,1:]\n",
    "dataset.shape"
   ]
  },
  {
   "cell_type": "code",
   "execution_count": 18,
   "metadata": {},
   "outputs": [],
   "source": [
    "#dataset = sequence.pad_sequences(dataset, maxlen=144, padding='post')\n",
    "#dataset.shape"
   ]
  },
  {
   "cell_type": "code",
   "execution_count": 19,
   "metadata": {},
   "outputs": [
    {
     "data": {
      "text/plain": [
       "28768"
      ]
     },
     "execution_count": 19,
     "metadata": {},
     "output_type": "execute_result"
    }
   ],
   "source": [
    "n_step = 9\n",
    "#depth = (dataset.shape[1]+1-((2*3*n_step)/3))*dataset.shape[0]\n",
    "depth = (48+1-n_step-n_step)*dataset.shape[0] # (all_balls + 1 - input_balls - output_balls)*n_rows\n",
    "depth"
   ]
  },
  {
   "cell_type": "code",
   "execution_count": 20,
   "metadata": {},
   "outputs": [
    {
     "data": {
      "text/plain": [
       "(28768, 9, 3)"
      ]
     },
     "execution_count": 20,
     "metadata": {},
     "output_type": "execute_result"
    }
   ],
   "source": [
    "X = np.zeros([int(depth), n_step, 3])\n",
    "Y = np.zeros([int(depth), n_step, 3])\n",
    "X.shape"
   ]
  },
  {
   "cell_type": "code",
   "execution_count": 21,
   "metadata": {},
   "outputs": [
    {
     "data": {
      "text/plain": [
       "'\\nc = 0\\nd = 0\\n\\nfor i in range(int(depth)):\\n    for j in range(n_step):\\n        if d < dataset.shape[0]:\\n            X[i,j,:] = dataset[d, c:c+3]\\n            Y[i,j,:] = dataset[d, c+15:c+18]\\n            #print(i,\"\\n\")\\n            #print(X[i,j,:])\\n            \\n            if ((c+18) != (dataset.shape[1])):\\n                c += 3\\n            else:\\n                c = 0\\n                d += 1\\n    if (c-3) > 0:\\n        c = c - 12\\n    else:\\n        c = c\\n'"
      ]
     },
     "execution_count": 21,
     "metadata": {},
     "output_type": "execute_result"
    }
   ],
   "source": [
    "'''\n",
    "c = 0\n",
    "d = 0\n",
    "\n",
    "for i in range(int(depth)):\n",
    "    for j in range(n_step):\n",
    "        if d < dataset.shape[0]:\n",
    "            X[i,j,:] = dataset[d, c:c+3]\n",
    "            Y[i,j,:] = dataset[d, c+15:c+18]\n",
    "            #print(i,\"\\n\")\n",
    "            #print(X[i,j,:])\n",
    "            \n",
    "            if ((c+18) != (dataset.shape[1])):\n",
    "                c += 3\n",
    "            else:\n",
    "                c = 0\n",
    "                d += 1\n",
    "    if (c-3) > 0:\n",
    "        c = c - 12\n",
    "    else:\n",
    "        c = c\n",
    "'''"
   ]
  },
  {
   "cell_type": "code",
   "execution_count": 22,
   "metadata": {},
   "outputs": [],
   "source": [
    "c = 0\n",
    "d = 0\n",
    "\n",
    "for i in range(int(depth)):\n",
    "    for j in range(n_step):\n",
    "        if d < dataset.shape[0]:\n",
    "            X[i,j,:] = dataset[d, c:c+3]\n",
    "            Y[i,j,:] = dataset[d, (c+3*n_step):(c+3*n_step+3)]\n",
    "            #print(i,\"\\n\")\n",
    "            #print(X[i,j,:])\n",
    "            \n",
    "            if ((c+3*n_step+3) != (dataset.shape[1])):\n",
    "                c += 3\n",
    "            else:\n",
    "                c = 0\n",
    "                d += 1\n",
    "    if (c-3) > 0:\n",
    "        c = (c - 3*n_step + 3)\n",
    "    else:\n",
    "        c = c"
   ]
  },
  {
   "cell_type": "code",
   "execution_count": 23,
   "metadata": {
    "scrolled": true
   },
   "outputs": [
    {
     "data": {
      "text/plain": [
       "array([[[109.664 , 294.622 ,  45.0965],\n",
       "        [110.192 , 282.404 ,  47.4984],\n",
       "        [111.107 , 269.696 ,  49.2127],\n",
       "        ...,\n",
       "        [112.043 , 225.891 ,  51.8066],\n",
       "        [112.49  , 214.447 ,  51.3245],\n",
       "        [112.189 , 202.743 ,  51.0245]],\n",
       "\n",
       "       [[110.192 , 282.404 ,  47.4984],\n",
       "        [111.107 , 269.696 ,  49.2127],\n",
       "        [111.482 , 260.113 ,  50.2191],\n",
       "        ...,\n",
       "        [112.49  , 214.447 ,  51.3245],\n",
       "        [112.189 , 202.743 ,  51.0245],\n",
       "        [112.261 , 192.615 ,  49.1206]],\n",
       "\n",
       "       [[111.107 , 269.696 ,  49.2127],\n",
       "        [111.482 , 260.113 ,  50.2191],\n",
       "        [111.643 , 248.745 ,  51.296 ],\n",
       "        ...,\n",
       "        [112.189 , 202.743 ,  51.0245],\n",
       "        [112.261 , 192.615 ,  49.1206],\n",
       "        [112.268 , 184.497 ,  48.014 ]],\n",
       "\n",
       "       ...,\n",
       "\n",
       "       [[ 96.264 , -15.5748,  20.9908],\n",
       "        [ 95.0309, -22.0472,  23.5107],\n",
       "        [ 93.3087, -31.9456,  28.1212],\n",
       "        ...,\n",
       "        [  0.    ,   0.    ,   0.    ],\n",
       "        [  0.    ,   0.    ,   0.    ],\n",
       "        [  0.    ,   0.    ,   0.    ]],\n",
       "\n",
       "       [[ 95.0309, -22.0472,  23.5107],\n",
       "        [ 93.3087, -31.9456,  28.1212],\n",
       "        [ 91.8011, -38.0737,  28.6131],\n",
       "        ...,\n",
       "        [  0.    ,   0.    ,   0.    ],\n",
       "        [  0.    ,   0.    ,   0.    ],\n",
       "        [  0.    ,   0.    ,   0.    ]],\n",
       "\n",
       "       [[ 93.3087, -31.9456,  28.1212],\n",
       "        [ 91.8011, -38.0737,  28.6131],\n",
       "        [ 90.0626, -47.1719,  32.0129],\n",
       "        ...,\n",
       "        [  0.    ,   0.    ,   0.    ],\n",
       "        [  0.    ,   0.    ,   0.    ],\n",
       "        [  0.    ,   0.    ,   0.    ]]])"
      ]
     },
     "execution_count": 23,
     "metadata": {},
     "output_type": "execute_result"
    }
   ],
   "source": [
    "X"
   ]
  },
  {
   "cell_type": "code",
   "execution_count": 24,
   "metadata": {
    "scrolled": true
   },
   "outputs": [
    {
     "data": {
      "text/plain": [
       "array([[[112.261 , 192.615 ,  49.1206],\n",
       "        [112.268 , 184.497 ,  48.014 ],\n",
       "        [111.576 , 172.081 ,  47.102 ],\n",
       "        ...,\n",
       "        [110.002 , 135.266 ,  35.5504],\n",
       "        [108.93  , 123.644 ,  33.6674],\n",
       "        [108.445 , 116.048 ,  28.0565]],\n",
       "\n",
       "       [[112.268 , 184.497 ,  48.014 ],\n",
       "        [111.576 , 172.081 ,  47.102 ],\n",
       "        [111.44  , 162.644 ,  44.0185],\n",
       "        ...,\n",
       "        [108.93  , 123.644 ,  33.6674],\n",
       "        [108.445 , 116.048 ,  28.0565],\n",
       "        [106.982 , 105.372 ,  25.6818]],\n",
       "\n",
       "       [[111.576 , 172.081 ,  47.102 ],\n",
       "        [111.44  , 162.644 ,  44.0185],\n",
       "        [110.644 , 151.474 ,  42.5254],\n",
       "        ...,\n",
       "        [108.445 , 116.048 ,  28.0565],\n",
       "        [106.982 , 105.372 ,  25.6818],\n",
       "        [106.551 ,  96.736 ,  19.4987]],\n",
       "\n",
       "       ...,\n",
       "\n",
       "       [[  0.    ,   0.    ,   0.    ],\n",
       "        [  0.    ,   0.    ,   0.    ],\n",
       "        [  0.    ,   0.    ,   0.    ],\n",
       "        ...,\n",
       "        [  0.    ,   0.    ,   0.    ],\n",
       "        [  0.    ,   0.    ,   0.    ],\n",
       "        [  0.    ,   0.    ,   0.    ]],\n",
       "\n",
       "       [[  0.    ,   0.    ,   0.    ],\n",
       "        [  0.    ,   0.    ,   0.    ],\n",
       "        [  0.    ,   0.    ,   0.    ],\n",
       "        ...,\n",
       "        [  0.    ,   0.    ,   0.    ],\n",
       "        [  0.    ,   0.    ,   0.    ],\n",
       "        [  0.    ,   0.    ,   0.    ]],\n",
       "\n",
       "       [[  0.    ,   0.    ,   0.    ],\n",
       "        [  0.    ,   0.    ,   0.    ],\n",
       "        [  0.    ,   0.    ,   0.    ],\n",
       "        ...,\n",
       "        [  0.    ,   0.    ,   0.    ],\n",
       "        [  0.    ,   0.    ,   0.    ],\n",
       "        [  0.    ,   0.    ,   0.    ]]])"
      ]
     },
     "execution_count": 24,
     "metadata": {},
     "output_type": "execute_result"
    }
   ],
   "source": [
    "Y"
   ]
  },
  {
   "cell_type": "code",
   "execution_count": 25,
   "metadata": {},
   "outputs": [],
   "source": [
    "from keras.preprocessing import sequence\n",
    "from keras.models import Sequential\n",
    "from keras.layers import Dense, LSTM, Activation, TimeDistributed, RepeatVector"
   ]
  },
  {
   "cell_type": "code",
   "execution_count": 88,
   "metadata": {},
   "outputs": [
    {
     "name": "stdout",
     "output_type": "stream",
     "text": [
      "_________________________________________________________________\n",
      "Layer (type)                 Output Shape              Param #   \n",
      "=================================================================\n",
      "lstm_14 (LSTM)               (None, 1024)              4210688   \n",
      "_________________________________________________________________\n",
      "repeat_vector_7 (RepeatVecto (None, 9, 1024)           0         \n",
      "_________________________________________________________________\n",
      "lstm_15 (LSTM)               (None, 9, 1024)           8392704   \n",
      "_________________________________________________________________\n",
      "time_distributed_7 (TimeDist (None, 9, 3)              3075      \n",
      "=================================================================\n",
      "Total params: 12,606,467\n",
      "Trainable params: 12,606,467\n",
      "Non-trainable params: 0\n",
      "_________________________________________________________________\n"
     ]
    }
   ],
   "source": [
    "\n",
    "model = Sequential()\n",
    "model.add(LSTM(1024, activation='linear', input_shape=(X.shape[1], X.shape[2])))\n",
    "model.add(RepeatVector(X.shape[1]))\n",
    "model.add(LSTM(1024, activation='linear', return_sequences=True))\n",
    "model.add(TimeDistributed(Dense(3)))\n",
    "\n",
    "model.compile(loss='mse', optimizer='adam', metrics=['accuracy'])\n",
    "model.summary()\n"
   ]
  },
  {
   "cell_type": "code",
   "execution_count": 27,
   "metadata": {},
   "outputs": [
    {
     "data": {
      "text/plain": [
       "\"\\nmodel = Sequential()\\nmodel.add(LSTM(1024, activation='linear', input_shape=(X.shape[1], X.shape[2]), return_sequences=True))\\nmodel.add(LSTM(128, activation='linear'))\\nmodel.add(RepeatVector(X.shape[1]))\\nmodel.add(LSTM(128, activation='linear', return_sequences=True))\\nmodel.add(LSTM(1024, activation='linear', return_sequences=True))\\nmodel.add(TimeDistributed(Dense(3)))\\n\\nmodel.compile(loss='mse', optimizer='adam', metrics=['accuracy'])\\nmodel.summary()\\n\""
      ]
     },
     "execution_count": 27,
     "metadata": {},
     "output_type": "execute_result"
    }
   ],
   "source": [
    "'''\n",
    "model = Sequential()\n",
    "model.add(LSTM(1024, activation='linear', input_shape=(X.shape[1], X.shape[2]), return_sequences=True))\n",
    "model.add(LSTM(128, activation='linear'))\n",
    "model.add(RepeatVector(X.shape[1]))\n",
    "model.add(LSTM(128, activation='linear', return_sequences=True))\n",
    "model.add(LSTM(1024, activation='linear', return_sequences=True))\n",
    "model.add(TimeDistributed(Dense(3)))\n",
    "\n",
    "model.compile(loss='mse', optimizer='adam', metrics=['accuracy'])\n",
    "model.summary()\n",
    "'''"
   ]
  },
  {
   "cell_type": "code",
   "execution_count": 91,
   "metadata": {
    "scrolled": true
   },
   "outputs": [
    {
     "name": "stdout",
     "output_type": "stream",
     "text": [
      "Epoch 1/500\n",
      "28768/28768 [==============================] - 4s 129us/step - loss: 5.8035 - acc: 0.8536\n",
      "Epoch 2/500\n",
      "10000/28768 [=========>....................] - ETA: 2s - loss: 9.8713 - acc: 0.8995"
     ]
    },
    {
     "ename": "KeyboardInterrupt",
     "evalue": "",
     "output_type": "error",
     "traceback": [
      "\u001b[0;31m---------------------------------------------------------------------------\u001b[0m",
      "\u001b[0;31mKeyboardInterrupt\u001b[0m                         Traceback (most recent call last)",
      "\u001b[0;32m<ipython-input-91-d283f193d139>\u001b[0m in \u001b[0;36m<module>\u001b[0;34m\u001b[0m\n\u001b[0;32m----> 1\u001b[0;31m \u001b[0mhistory\u001b[0m \u001b[0;34m=\u001b[0m \u001b[0mmodel\u001b[0m\u001b[0;34m.\u001b[0m\u001b[0mfit\u001b[0m\u001b[0;34m(\u001b[0m\u001b[0mX\u001b[0m\u001b[0;34m,\u001b[0m \u001b[0mY\u001b[0m\u001b[0;34m,\u001b[0m \u001b[0mbatch_size\u001b[0m\u001b[0;34m=\u001b[0m\u001b[0;36m5000\u001b[0m\u001b[0;34m,\u001b[0m \u001b[0mepochs\u001b[0m\u001b[0;34m=\u001b[0m\u001b[0;36m500\u001b[0m\u001b[0;34m,\u001b[0m \u001b[0mshuffle\u001b[0m\u001b[0;34m=\u001b[0m\u001b[0;32mTrue\u001b[0m\u001b[0;34m)\u001b[0m\u001b[0;34m\u001b[0m\u001b[0;34m\u001b[0m\u001b[0m\n\u001b[0m",
      "\u001b[0;32m~/.virtualenvs/keras/lib/python3.6/site-packages/keras/engine/training.py\u001b[0m in \u001b[0;36mfit\u001b[0;34m(self, x, y, batch_size, epochs, verbose, callbacks, validation_split, validation_data, shuffle, class_weight, sample_weight, initial_epoch, steps_per_epoch, validation_steps, **kwargs)\u001b[0m\n\u001b[1;32m   1037\u001b[0m                                         \u001b[0minitial_epoch\u001b[0m\u001b[0;34m=\u001b[0m\u001b[0minitial_epoch\u001b[0m\u001b[0;34m,\u001b[0m\u001b[0;34m\u001b[0m\u001b[0;34m\u001b[0m\u001b[0m\n\u001b[1;32m   1038\u001b[0m                                         \u001b[0msteps_per_epoch\u001b[0m\u001b[0;34m=\u001b[0m\u001b[0msteps_per_epoch\u001b[0m\u001b[0;34m,\u001b[0m\u001b[0;34m\u001b[0m\u001b[0;34m\u001b[0m\u001b[0m\n\u001b[0;32m-> 1039\u001b[0;31m                                         validation_steps=validation_steps)\n\u001b[0m\u001b[1;32m   1040\u001b[0m \u001b[0;34m\u001b[0m\u001b[0m\n\u001b[1;32m   1041\u001b[0m     def evaluate(self, x=None, y=None,\n",
      "\u001b[0;32m~/.virtualenvs/keras/lib/python3.6/site-packages/keras/engine/training_arrays.py\u001b[0m in \u001b[0;36mfit_loop\u001b[0;34m(model, f, ins, out_labels, batch_size, epochs, verbose, callbacks, val_f, val_ins, shuffle, callback_metrics, initial_epoch, steps_per_epoch, validation_steps)\u001b[0m\n\u001b[1;32m    197\u001b[0m                     \u001b[0mins_batch\u001b[0m\u001b[0;34m[\u001b[0m\u001b[0mi\u001b[0m\u001b[0;34m]\u001b[0m \u001b[0;34m=\u001b[0m \u001b[0mins_batch\u001b[0m\u001b[0;34m[\u001b[0m\u001b[0mi\u001b[0m\u001b[0;34m]\u001b[0m\u001b[0;34m.\u001b[0m\u001b[0mtoarray\u001b[0m\u001b[0;34m(\u001b[0m\u001b[0;34m)\u001b[0m\u001b[0;34m\u001b[0m\u001b[0;34m\u001b[0m\u001b[0m\n\u001b[1;32m    198\u001b[0m \u001b[0;34m\u001b[0m\u001b[0m\n\u001b[0;32m--> 199\u001b[0;31m                 \u001b[0mouts\u001b[0m \u001b[0;34m=\u001b[0m \u001b[0mf\u001b[0m\u001b[0;34m(\u001b[0m\u001b[0mins_batch\u001b[0m\u001b[0;34m)\u001b[0m\u001b[0;34m\u001b[0m\u001b[0;34m\u001b[0m\u001b[0m\n\u001b[0m\u001b[1;32m    200\u001b[0m                 \u001b[0mouts\u001b[0m \u001b[0;34m=\u001b[0m \u001b[0mto_list\u001b[0m\u001b[0;34m(\u001b[0m\u001b[0mouts\u001b[0m\u001b[0;34m)\u001b[0m\u001b[0;34m\u001b[0m\u001b[0;34m\u001b[0m\u001b[0m\n\u001b[1;32m    201\u001b[0m                 \u001b[0;32mfor\u001b[0m \u001b[0ml\u001b[0m\u001b[0;34m,\u001b[0m \u001b[0mo\u001b[0m \u001b[0;32min\u001b[0m \u001b[0mzip\u001b[0m\u001b[0;34m(\u001b[0m\u001b[0mout_labels\u001b[0m\u001b[0;34m,\u001b[0m \u001b[0mouts\u001b[0m\u001b[0;34m)\u001b[0m\u001b[0;34m:\u001b[0m\u001b[0;34m\u001b[0m\u001b[0;34m\u001b[0m\u001b[0m\n",
      "\u001b[0;32m~/.virtualenvs/keras/lib/python3.6/site-packages/keras/backend/tensorflow_backend.py\u001b[0m in \u001b[0;36m__call__\u001b[0;34m(self, inputs)\u001b[0m\n\u001b[1;32m   2713\u001b[0m                 \u001b[0;32mreturn\u001b[0m \u001b[0mself\u001b[0m\u001b[0;34m.\u001b[0m\u001b[0m_legacy_call\u001b[0m\u001b[0;34m(\u001b[0m\u001b[0minputs\u001b[0m\u001b[0;34m)\u001b[0m\u001b[0;34m\u001b[0m\u001b[0;34m\u001b[0m\u001b[0m\n\u001b[1;32m   2714\u001b[0m \u001b[0;34m\u001b[0m\u001b[0m\n\u001b[0;32m-> 2715\u001b[0;31m             \u001b[0;32mreturn\u001b[0m \u001b[0mself\u001b[0m\u001b[0;34m.\u001b[0m\u001b[0m_call\u001b[0m\u001b[0;34m(\u001b[0m\u001b[0minputs\u001b[0m\u001b[0;34m)\u001b[0m\u001b[0;34m\u001b[0m\u001b[0;34m\u001b[0m\u001b[0m\n\u001b[0m\u001b[1;32m   2716\u001b[0m         \u001b[0;32melse\u001b[0m\u001b[0;34m:\u001b[0m\u001b[0;34m\u001b[0m\u001b[0;34m\u001b[0m\u001b[0m\n\u001b[1;32m   2717\u001b[0m             \u001b[0;32mif\u001b[0m \u001b[0mpy_any\u001b[0m\u001b[0;34m(\u001b[0m\u001b[0mis_tensor\u001b[0m\u001b[0;34m(\u001b[0m\u001b[0mx\u001b[0m\u001b[0;34m)\u001b[0m \u001b[0;32mfor\u001b[0m \u001b[0mx\u001b[0m \u001b[0;32min\u001b[0m \u001b[0minputs\u001b[0m\u001b[0;34m)\u001b[0m\u001b[0;34m:\u001b[0m\u001b[0;34m\u001b[0m\u001b[0;34m\u001b[0m\u001b[0m\n",
      "\u001b[0;32m~/.virtualenvs/keras/lib/python3.6/site-packages/keras/backend/tensorflow_backend.py\u001b[0m in \u001b[0;36m_call\u001b[0;34m(self, inputs)\u001b[0m\n\u001b[1;32m   2673\u001b[0m             \u001b[0mfetched\u001b[0m \u001b[0;34m=\u001b[0m \u001b[0mself\u001b[0m\u001b[0;34m.\u001b[0m\u001b[0m_callable_fn\u001b[0m\u001b[0;34m(\u001b[0m\u001b[0;34m*\u001b[0m\u001b[0marray_vals\u001b[0m\u001b[0;34m,\u001b[0m \u001b[0mrun_metadata\u001b[0m\u001b[0;34m=\u001b[0m\u001b[0mself\u001b[0m\u001b[0;34m.\u001b[0m\u001b[0mrun_metadata\u001b[0m\u001b[0;34m)\u001b[0m\u001b[0;34m\u001b[0m\u001b[0;34m\u001b[0m\u001b[0m\n\u001b[1;32m   2674\u001b[0m         \u001b[0;32melse\u001b[0m\u001b[0;34m:\u001b[0m\u001b[0;34m\u001b[0m\u001b[0;34m\u001b[0m\u001b[0m\n\u001b[0;32m-> 2675\u001b[0;31m             \u001b[0mfetched\u001b[0m \u001b[0;34m=\u001b[0m \u001b[0mself\u001b[0m\u001b[0;34m.\u001b[0m\u001b[0m_callable_fn\u001b[0m\u001b[0;34m(\u001b[0m\u001b[0;34m*\u001b[0m\u001b[0marray_vals\u001b[0m\u001b[0;34m)\u001b[0m\u001b[0;34m\u001b[0m\u001b[0;34m\u001b[0m\u001b[0m\n\u001b[0m\u001b[1;32m   2676\u001b[0m         \u001b[0;32mreturn\u001b[0m \u001b[0mfetched\u001b[0m\u001b[0;34m[\u001b[0m\u001b[0;34m:\u001b[0m\u001b[0mlen\u001b[0m\u001b[0;34m(\u001b[0m\u001b[0mself\u001b[0m\u001b[0;34m.\u001b[0m\u001b[0moutputs\u001b[0m\u001b[0;34m)\u001b[0m\u001b[0;34m]\u001b[0m\u001b[0;34m\u001b[0m\u001b[0;34m\u001b[0m\u001b[0m\n\u001b[1;32m   2677\u001b[0m \u001b[0;34m\u001b[0m\u001b[0m\n",
      "\u001b[0;32m~/.virtualenvs/keras/lib/python3.6/site-packages/tensorflow/python/client/session.py\u001b[0m in \u001b[0;36m__call__\u001b[0;34m(self, *args, **kwargs)\u001b[0m\n\u001b[1;32m   1437\u001b[0m           ret = tf_session.TF_SessionRunCallable(\n\u001b[1;32m   1438\u001b[0m               \u001b[0mself\u001b[0m\u001b[0;34m.\u001b[0m\u001b[0m_session\u001b[0m\u001b[0;34m.\u001b[0m\u001b[0m_session\u001b[0m\u001b[0;34m,\u001b[0m \u001b[0mself\u001b[0m\u001b[0;34m.\u001b[0m\u001b[0m_handle\u001b[0m\u001b[0;34m,\u001b[0m \u001b[0margs\u001b[0m\u001b[0;34m,\u001b[0m \u001b[0mstatus\u001b[0m\u001b[0;34m,\u001b[0m\u001b[0;34m\u001b[0m\u001b[0;34m\u001b[0m\u001b[0m\n\u001b[0;32m-> 1439\u001b[0;31m               run_metadata_ptr)\n\u001b[0m\u001b[1;32m   1440\u001b[0m         \u001b[0;32mif\u001b[0m \u001b[0mrun_metadata\u001b[0m\u001b[0;34m:\u001b[0m\u001b[0;34m\u001b[0m\u001b[0;34m\u001b[0m\u001b[0m\n\u001b[1;32m   1441\u001b[0m           \u001b[0mproto_data\u001b[0m \u001b[0;34m=\u001b[0m \u001b[0mtf_session\u001b[0m\u001b[0;34m.\u001b[0m\u001b[0mTF_GetBuffer\u001b[0m\u001b[0;34m(\u001b[0m\u001b[0mrun_metadata_ptr\u001b[0m\u001b[0;34m)\u001b[0m\u001b[0;34m\u001b[0m\u001b[0;34m\u001b[0m\u001b[0m\n",
      "\u001b[0;31mKeyboardInterrupt\u001b[0m: "
     ]
    }
   ],
   "source": [
    "history = model.fit(X, Y, batch_size=5000, epochs=500, shuffle=True)"
   ]
  },
  {
   "cell_type": "code",
   "execution_count": 92,
   "metadata": {},
   "outputs": [
    {
     "data": {
      "image/png": "[encoded data removed]",
      "text/plain": [
       "<Figure size 432x288 with 1 Axes>"
      ]
     },
     "metadata": {
      "needs_background": "light"
     },
     "output_type": "display_data"
    }
   ],
   "source": [
    "# summarize history for accuracy\n",
    "plt.plot(history.history['acc'])\n",
    "#plt.plot(history.history['val_accuracy'])\n",
    "plt.title('model accuracy')\n",
    "plt.ylabel('accuracy')\n",
    "plt.xlabel('epoch')\n",
    "plt.legend(['train', 'test'], loc='upper left')\n",
    "plt.show()"
   ]
  },
  {
   "cell_type": "code",
   "execution_count": 93,
   "metadata": {},
   "outputs": [
    {
     "data": {
      "image/png": "[encoded data removed]",
      "text/plain": [
       "<Figure size 432x288 with 1 Axes>"
      ]
     },
     "metadata": {
      "needs_background": "light"
     },
     "output_type": "display_data"
    }
   ],
   "source": [
    "# summarize history for loss\n",
    "plt.plot(history.history['loss'])\n",
    "#plt.plot(history.history['val_loss'])\n",
    "plt.title('model loss')\n",
    "plt.ylabel('loss')\n",
    "plt.xlabel('epoch')\n",
    "plt.legend(['train', 'test'], loc='upper left')\n",
    "plt.show()"
   ]
  },
  {
   "cell_type": "code",
   "execution_count": 94,
   "metadata": {},
   "outputs": [
    {
     "data": {
      "text/plain": [
       "array([[[109.664 , 294.622 ,  45.0965],\n",
       "        [110.192 , 282.404 ,  47.4984],\n",
       "        [111.107 , 269.696 ,  49.2127],\n",
       "        [111.482 , 260.113 ,  50.2191],\n",
       "        [111.643 , 248.745 ,  51.296 ],\n",
       "        [112.2   , 237.027 ,  51.326 ],\n",
       "        [112.043 , 225.891 ,  51.8066],\n",
       "        [112.49  , 214.447 ,  51.3245],\n",
       "        [112.189 , 202.743 ,  51.0245]]])"
      ]
     },
     "execution_count": 94,
     "metadata": {},
     "output_type": "execute_result"
    }
   ],
   "source": [
    "x_test = X[0,:,:]\n",
    "x_test = x_test.reshape(1,n_step,3)\n",
    "x_test"
   ]
  },
  {
   "cell_type": "code",
   "execution_count": 95,
   "metadata": {},
   "outputs": [
    {
     "data": {
      "text/plain": [
       "array([[[112.261 , 192.615 ,  49.1206],\n",
       "        [112.268 , 184.497 ,  48.014 ],\n",
       "        [111.576 , 172.081 ,  47.102 ],\n",
       "        [111.44  , 162.644 ,  44.0185],\n",
       "        [110.644 , 151.474 ,  42.5254],\n",
       "        [110.499 , 142.259 ,  38.5546],\n",
       "        [110.002 , 135.266 ,  35.5504],\n",
       "        [108.93  , 123.644 ,  33.6674],\n",
       "        [108.445 , 116.048 ,  28.0565]]])"
      ]
     },
     "execution_count": 95,
     "metadata": {},
     "output_type": "execute_result"
    }
   ],
   "source": [
    "yhat = Y[0,:,:]\n",
    "yhat = yhat.reshape(1,n_step,3)\n",
    "yhat"
   ]
  },
  {
   "cell_type": "code",
   "execution_count": 96,
   "metadata": {},
   "outputs": [
    {
     "data": {
      "text/plain": [
       "array([[[110.21484 , 189.80212 ,  48.79879 ],\n",
       "        [110.03155 , 178.96797 ,  48.55809 ],\n",
       "        [109.49717 , 168.32991 ,  46.461353],\n",
       "        [108.8886  , 158.0926  ,  44.379955],\n",
       "        [108.21108 , 148.0358  ,  42.40099 ],\n",
       "        [107.293236, 137.741   ,  39.648624],\n",
       "        [106.62558 , 127.464226,  37.27041 ],\n",
       "        [105.52862 , 117.955124,  33.49942 ],\n",
       "        [104.83028 , 108.138824,  30.304995]]], dtype=float32)"
      ]
     },
     "execution_count": 96,
     "metadata": {},
     "output_type": "execute_result"
    }
   ],
   "source": [
    "pred = model.predict(x_test)\n",
    "pred"
   ]
  },
  {
   "cell_type": "code",
   "execution_count": 97,
   "metadata": {},
   "outputs": [
    {
     "data": {
      "text/plain": [
       "array([[[ 2.04615625,  2.81287598,  0.32181002],\n",
       "        [ 2.23645245,  5.5290282 , -0.54409021],\n",
       "        [ 2.07883051,  3.75108972,  0.6406467 ],\n",
       "        [ 2.55139679,  4.55139441, -0.36145529],\n",
       "        [ 2.43291754,  3.43820288,  0.12441047],\n",
       "        [ 3.20576422,  4.51800269, -1.09402442],\n",
       "        [ 3.37642017,  7.80177423, -1.72000863],\n",
       "        [ 3.40138214,  5.6888761 ,  0.16797983],\n",
       "        [ 3.61472351,  7.90917554, -2.24849458]]])"
      ]
     },
     "execution_count": 97,
     "metadata": {},
     "output_type": "execute_result"
    }
   ],
   "source": [
    "error = yhat-pred\n",
    "error"
   ]
  },
  {
   "cell_type": "code",
   "execution_count": 98,
   "metadata": {},
   "outputs": [
    {
     "data": {
      "text/plain": [
       "(84, 102)"
      ]
     },
     "execution_count": 98,
     "metadata": {},
     "output_type": "execute_result"
    }
   ],
   "source": [
    "X_test = pd.read_csv('/home/lab606a/ML/datasets/up_speed6_test.csv', header=None)\n",
    "X_test = X_test.fillna(0)\n",
    "X_test = np.array(X_test)\n",
    "X_test.shape"
   ]
  },
  {
   "cell_type": "code",
   "execution_count": 99,
   "metadata": {},
   "outputs": [
    {
     "data": {
      "text/plain": [
       "(84, 144)"
      ]
     },
     "execution_count": 99,
     "metadata": {},
     "output_type": "execute_result"
    }
   ],
   "source": [
    "X_test = sequence.pad_sequences(X_test, maxlen=144, padding='post', dtype='float32')\n",
    "X_test.shape"
   ]
  },
  {
   "cell_type": "code",
   "execution_count": 100,
   "metadata": {},
   "outputs": [
    {
     "data": {
      "text/plain": [
       "2604"
      ]
     },
     "execution_count": 100,
     "metadata": {},
     "output_type": "execute_result"
    }
   ],
   "source": [
    "depth_test = (48+1-n_step-n_step)*X_test.shape[0] # (all_balls + 1 - input_balls - output_balls)*n_rows\n",
    "depth_test"
   ]
  },
  {
   "cell_type": "code",
   "execution_count": 101,
   "metadata": {},
   "outputs": [
    {
     "data": {
      "text/plain": [
       "array([ 99.9476 , 311.357  ,  42.0334 , 100.287  , 299.382  ,  45.4737 ,\n",
       "       100.221  , 285.588  ,  48.0977 , 100.406  , 272.574  ,  50.571  ,\n",
       "       100.517  , 259.183  ,  52.5968 , 100.327  , 245.543  ,  54.2019 ,\n",
       "       100.845  , 232.79   ,  55.0232 , 100.538  , 218.838  ,  55.8921 ,\n",
       "       100.48   , 208.613  ,  55.3978 , 100.879  , 196.334  ,  54.116  ,\n",
       "       100.555  , 183.823  ,  54.0836 , 100.908  , 172.22   ,  51.4835 ,\n",
       "       100.643  , 158.98   ,  50.4459 , 100.908  , 149.416  ,  45.7059 ,\n",
       "       100.505  , 137.569  ,  43.6558 , 100.541  , 128.856  ,  40.5762 ,\n",
       "       100.987  , 117.044  ,  35.9557 , 100.867  , 105.872  ,  32.9989 ,\n",
       "       100.691  ,  96.672  ,  25.7368 , 100.637  ,  84.1649 ,  23.4778 ,\n",
       "       100.826  ,  74.3845 ,  14.9716 , 100.159  ,  66.3544 ,   9.81006,\n",
       "       100.357  ,  57.1096 ,   5.12739, 100.36   ,  43.9507 ,   3.94486,\n",
       "       100.284  ,  34.2945 ,   9.02872, 100.646  ,  23.944  ,  13.9128 ,\n",
       "       100.393  ,  12.1827 ,  19.0803 , 100.865  ,   1.68803,  22.9337 ,\n",
       "       101.004  ,  -7.0125 ,  25.7532 , 100.639  , -18.3118 ,  29.6752 ,\n",
       "       101.159  , -27.7126 ,  31.3968 , 100.753  , -38.9884 ,  34.7115 ,\n",
       "       101.195  , -48.0599 ,  34.9874 , 101.241  , -58.1993 ,  37.677  ,\n",
       "         0.     ,   0.     ,   0.     ,   0.     ,   0.     ,   0.     ,\n",
       "         0.     ,   0.     ,   0.     ,   0.     ,   0.     ,   0.     ,\n",
       "         0.     ,   0.     ,   0.     ,   0.     ,   0.     ,   0.     ,\n",
       "         0.     ,   0.     ,   0.     ,   0.     ,   0.     ,   0.     ,\n",
       "         0.     ,   0.     ,   0.     ,   0.     ,   0.     ,   0.     ,\n",
       "         0.     ,   0.     ,   0.     ,   0.     ,   0.     ,   0.     ,\n",
       "         0.     ,   0.     ,   0.     ,   0.     ,   0.     ,   0.     ],\n",
       "      dtype=float32)"
      ]
     },
     "execution_count": 101,
     "metadata": {},
     "output_type": "execute_result"
    }
   ],
   "source": [
    "X_test[0,:]"
   ]
  },
  {
   "cell_type": "code",
   "execution_count": 102,
   "metadata": {},
   "outputs": [
    {
     "data": {
      "text/plain": [
       "array([[[ 99.9476, 311.357 ,  42.0334],\n",
       "        [100.287 , 299.382 ,  45.4737],\n",
       "        [100.221 , 285.588 ,  48.0977],\n",
       "        [100.406 , 272.574 ,  50.571 ],\n",
       "        [100.517 , 259.183 ,  52.5968],\n",
       "        [100.327 , 245.543 ,  54.2019],\n",
       "        [100.845 , 232.79  ,  55.0232],\n",
       "        [100.538 , 218.838 ,  55.8921],\n",
       "        [100.48  , 208.613 ,  55.3978]]], dtype=float32)"
      ]
     },
     "execution_count": 102,
     "metadata": {},
     "output_type": "execute_result"
    }
   ],
   "source": [
    "x_test = X_test[0,:]\n",
    "x_test = x_test[:n_step*3,]\n",
    "x_test = x_test.reshape(1,n_step,3)\n",
    "x_test"
   ]
  },
  {
   "cell_type": "code",
   "execution_count": 103,
   "metadata": {},
   "outputs": [
    {
     "data": {
      "text/plain": [
       "array([[[100.879 , 196.334 ,  54.116 ],\n",
       "        [100.555 , 183.823 ,  54.0836],\n",
       "        [100.908 , 172.22  ,  51.4835],\n",
       "        [100.643 , 158.98  ,  50.4459],\n",
       "        [100.908 , 149.416 ,  45.7059],\n",
       "        [100.505 , 137.569 ,  43.6558],\n",
       "        [100.541 , 128.856 ,  40.5762],\n",
       "        [100.987 , 117.044 ,  35.9557],\n",
       "        [100.867 , 105.872 ,  32.9989]]], dtype=float32)"
      ]
     },
     "execution_count": 103,
     "metadata": {},
     "output_type": "execute_result"
    }
   ],
   "source": [
    "yhat = X_test[0,:]\n",
    "yhat = yhat[n_step*3:n_step*3+n_step*3]\n",
    "yhat = yhat.reshape(1,n_step,3)\n",
    "yhat"
   ]
  },
  {
   "cell_type": "code",
   "execution_count": 104,
   "metadata": {},
   "outputs": [
    {
     "data": {
      "text/plain": [
       "array([[[ 98.70392 , 193.86879 ,  52.656082],\n",
       "        [ 96.61339 , 181.96367 ,  53.02805 ],\n",
       "        [ 95.914986, 170.45943 ,  51.605907],\n",
       "        [ 95.31249 , 158.2657  ,  50.79004 ],\n",
       "        [ 94.57574 , 147.4921  ,  48.906086],\n",
       "        [ 92.91337 , 135.86009 ,  46.546043],\n",
       "        [ 91.88498 , 124.7881  ,  44.867386],\n",
       "        [ 89.48888 , 113.533714,  41.751392],\n",
       "        [ 88.595535, 102.95659 ,  38.747765]]], dtype=float32)"
      ]
     },
     "execution_count": 104,
     "metadata": {},
     "output_type": "execute_result"
    }
   ],
   "source": [
    "pred = model.predict(x_test)\n",
    "pred"
   ]
  },
  {
   "cell_type": "code",
   "execution_count": 105,
   "metadata": {},
   "outputs": [
    {
     "data": {
      "text/plain": [
       "array([[[ 2.1750793 ,  2.46521   ,  1.459919  ],\n",
       "        [ 3.9416122 ,  1.8593292 ,  1.0555496 ],\n",
       "        [ 4.9930115 ,  1.7605743 , -0.12240601],\n",
       "        [ 5.3305054 ,  0.71429443, -0.3441391 ],\n",
       "        [ 6.33226   ,  1.9239044 , -3.2001877 ],\n",
       "        [ 7.591629  ,  1.7089081 , -2.8902435 ],\n",
       "        [ 8.656021  ,  4.0679016 , -4.2911873 ],\n",
       "        [11.498123  ,  3.5102844 , -5.7956924 ],\n",
       "        [12.2714615 ,  2.915413  , -5.748863  ]]], dtype=float32)"
      ]
     },
     "execution_count": 105,
     "metadata": {},
     "output_type": "execute_result"
    }
   ],
   "source": [
    "error = yhat-pred\n",
    "error"
   ]
  },
  {
   "cell_type": "code",
   "execution_count": 106,
   "metadata": {},
   "outputs": [
    {
     "data": {
      "text/plain": [
       "(2604, 9, 3)"
      ]
     },
     "execution_count": 106,
     "metadata": {},
     "output_type": "execute_result"
    }
   ],
   "source": [
    "x_test = np.zeros([int(depth_test), n_step, 3])\n",
    "yhat = np.zeros([int(depth_test), n_step, 3])\n",
    "error = np.zeros([int(depth_test), n_step, 3])\n",
    "pred = np.zeros([int(depth_test), n_step, 3])\n",
    "x_test.shape"
   ]
  },
  {
   "cell_type": "code",
   "execution_count": 107,
   "metadata": {},
   "outputs": [
    {
     "data": {
      "text/plain": [
       "'\\nc = 0\\nd = 0\\n\\nfor i in range(int(depth)):\\n    for j in range(n_step):\\n        if d < dataset.shape[0]:\\n            X[i,j,:] = dataset[d, c:c+3]\\n            Y[i,j,:] = dataset[d, (c+3*n_step):(c+3*n_step+3)]\\n            #print(i,\"\\n\")\\n            #print(X[i,j,:])\\n            \\n            if ((c+3*n_step+3) != (dataset.shape[1])):\\n                c += 3\\n            else:\\n                c = 0\\n                d += 1\\n                \\n    \\n                \\n    if (c-3) > 0:\\n        c = (c - 3*n_step + 3)\\n    else:\\n        c = c\\n'"
      ]
     },
     "execution_count": 107,
     "metadata": {},
     "output_type": "execute_result"
    }
   ],
   "source": [
    "'''\n",
    "c = 0\n",
    "d = 0\n",
    "\n",
    "for i in range(int(depth)):\n",
    "    for j in range(n_step):\n",
    "        if d < dataset.shape[0]:\n",
    "            X[i,j,:] = dataset[d, c:c+3]\n",
    "            Y[i,j,:] = dataset[d, (c+3*n_step):(c+3*n_step+3)]\n",
    "            #print(i,\"\\n\")\n",
    "            #print(X[i,j,:])\n",
    "            \n",
    "            if ((c+3*n_step+3) != (dataset.shape[1])):\n",
    "                c += 3\n",
    "            else:\n",
    "                c = 0\n",
    "                d += 1\n",
    "                \n",
    "    \n",
    "                \n",
    "    if (c-3) > 0:\n",
    "        c = (c - 3*n_step + 3)\n",
    "    else:\n",
    "        c = c\n",
    "'''"
   ]
  },
  {
   "cell_type": "code",
   "execution_count": 108,
   "metadata": {},
   "outputs": [],
   "source": [
    "c = 0\n",
    "d = 0\n",
    "\n",
    "for i in range(int(depth_test)):\n",
    "    for j in range(n_step):\n",
    "        if d < X_test.shape[0]:\n",
    "            x_test[i,j,:] = X_test[d, c:c+3]\n",
    "            yhat[i,j,:] = X_test[d, (c+3*n_step):(c+3*n_step+3)]\n",
    "            #print(i,\"\\n\")\n",
    "            #print(X[i,j,:])\n",
    "            \n",
    "            if ((c+3*n_step+3) != (X_test.shape[1])):\n",
    "                c += 3\n",
    "            else:\n",
    "                c = 0\n",
    "                d += 1\n",
    "    tmp = x_test[i,:,:]\n",
    "    tmp = tmp.reshape(1,n_step,3)\n",
    "    pred[i,:,:] = model.predict(tmp)\n",
    "    error = yhat-pred\n",
    "    #print(error[i,:,:])\n",
    "    \n",
    "                \n",
    "    if (c-3) > 0:\n",
    "        c = c - (c - 3*n_step + 3)\n",
    "    else:\n",
    "        c = c\n"
   ]
  },
  {
   "cell_type": "code",
   "execution_count": 109,
   "metadata": {},
   "outputs": [],
   "source": [
    "np.set_printoptions(suppress=True)"
   ]
  },
  {
   "cell_type": "code",
   "execution_count": 110,
   "metadata": {
    "scrolled": true
   },
   "outputs": [
    {
     "data": {
      "text/plain": [
       "array([[[ 98.70391846, 193.86878967,  52.65608215],\n",
       "        [ 96.61338806, 181.96366882,  53.02804947],\n",
       "        [ 95.91498566, 170.45942688,  51.60590744],\n",
       "        ...,\n",
       "        [ 91.88497925, 124.7881012 ,  44.86738586],\n",
       "        [ 89.48887634, 113.53371429,  41.75139236],\n",
       "        [ 88.59553528, 102.95658875,  38.74776459]],\n",
       "\n",
       "       [[ 98.25508118, 105.43065643,  33.30490494],\n",
       "        [ 97.2888031 ,  93.67990112,  29.09587097],\n",
       "        [ 96.28728485,  82.28538513,  24.55873489],\n",
       "        ...,\n",
       "        [ 92.92044067,  42.35725021,   3.89962363],\n",
       "        [ 90.93475342,  33.78956223,   3.61381292],\n",
       "        [ 89.01351166,  26.0685463 ,   8.57098579]],\n",
       "\n",
       "       [[ 98.25508118, 105.43065643,  33.30490494],\n",
       "        [ 97.2888031 ,  93.67990112,  29.09587097],\n",
       "        [ 96.28728485,  82.28538513,  24.55873489],\n",
       "        ...,\n",
       "        [ 92.92044067,  42.35725021,   3.89962363],\n",
       "        [ 90.93475342,  33.78956223,   3.61381292],\n",
       "        [ 89.01351166,  26.0685463 ,   8.57098579]],\n",
       "\n",
       "       ...,\n",
       "\n",
       "       [[ 98.25508118, 105.43065643,  33.30490494],\n",
       "        [ 97.2888031 ,  93.67990112,  29.09587097],\n",
       "        [ 96.28728485,  82.28538513,  24.55873489],\n",
       "        ...,\n",
       "        [ 92.92044067,  42.35725021,   3.89962363],\n",
       "        [ 90.93475342,  33.78956223,   3.61381292],\n",
       "        [ 89.01351166,  26.0685463 ,   8.57098579]],\n",
       "\n",
       "       [[ 98.25508118, 105.43065643,  33.30490494],\n",
       "        [ 97.2888031 ,  93.67990112,  29.09587097],\n",
       "        [ 96.28728485,  82.28538513,  24.55873489],\n",
       "        ...,\n",
       "        [ 92.92044067,  42.35725021,   3.89962363],\n",
       "        [ 90.93475342,  33.78956223,   3.61381292],\n",
       "        [ 89.01351166,  26.0685463 ,   8.57098579]],\n",
       "\n",
       "       [[ 98.25508118, 105.43065643,  33.30490494],\n",
       "        [ 97.2888031 ,  93.67990112,  29.09587097],\n",
       "        [ 96.28728485,  82.28538513,  24.55873489],\n",
       "        ...,\n",
       "        [ 92.92044067,  42.35725021,   3.89962363],\n",
       "        [ 90.93475342,  33.78956223,   3.61381292],\n",
       "        [ 89.01351166,  26.0685463 ,   8.57098579]]])"
      ]
     },
     "execution_count": 110,
     "metadata": {},
     "output_type": "execute_result"
    }
   ],
   "source": [
    "pred"
   ]
  },
  {
   "cell_type": "code",
   "execution_count": 111,
   "metadata": {},
   "outputs": [
    {
     "data": {
      "text/plain": [
       "(2604, 9, 3)"
      ]
     },
     "execution_count": 111,
     "metadata": {},
     "output_type": "execute_result"
    }
   ],
   "source": [
    "pred.shape"
   ]
  },
  {
   "cell_type": "code",
   "execution_count": 112,
   "metadata": {},
   "outputs": [
    {
     "data": {
      "text/plain": [
       "31"
      ]
     },
     "execution_count": 112,
     "metadata": {},
     "output_type": "execute_result"
    }
   ],
   "source": [
    "num = 48+1-n_step-n_step\n",
    "num"
   ]
  },
  {
   "cell_type": "code",
   "execution_count": 113,
   "metadata": {},
   "outputs": [
    {
     "data": {
      "text/plain": [
       "(31, 9, 3)"
      ]
     },
     "execution_count": 113,
     "metadata": {},
     "output_type": "execute_result"
    }
   ],
   "source": [
    "tmp = pred[num:2*num,:,:]\n",
    "tmp.shape"
   ]
  },
  {
   "cell_type": "code",
   "execution_count": 114,
   "metadata": {},
   "outputs": [
    {
     "data": {
      "text/plain": [
       "array([[ 98.25508118, 105.43065643,  33.30490494],\n",
       "       [ 97.2888031 ,  93.67990112,  29.09587097],\n",
       "       [ 96.28728485,  82.28538513,  24.55873489],\n",
       "       [ 95.5846405 ,  71.94013214,  19.9980793 ],\n",
       "       [ 94.29410553,  61.30474854,  15.1743412 ],\n",
       "       [ 93.83106232,  51.33660889,   9.93526649],\n",
       "       [ 92.92044067,  42.35725021,   3.89962363],\n",
       "       [ 90.93475342,  33.78956223,   3.61381292],\n",
       "       [ 89.01351166,  26.0685463 ,   8.57098579],\n",
       "       [ 98.25508118, 105.43065643,  33.30490494],\n",
       "       [ 97.2888031 ,  93.67990112,  29.09587097],\n",
       "       [ 96.28728485,  82.28538513,  24.55873489],\n",
       "       [ 95.5846405 ,  71.94013214,  19.9980793 ],\n",
       "       [ 94.29410553,  61.30474854,  15.1743412 ],\n",
       "       [ 93.83106232,  51.33660889,   9.93526649],\n",
       "       [ 92.92044067,  42.35725021,   3.89962363],\n",
       "       [ 90.93475342,  33.78956223,   3.61381292],\n",
       "       [ 89.01351166,  26.0685463 ,   8.57098579],\n",
       "       [ 98.25508118, 105.43065643,  33.30490494],\n",
       "       [ 97.2888031 ,  93.67990112,  29.09587097],\n",
       "       [ 96.28728485,  82.28538513,  24.55873489],\n",
       "       [ 95.5846405 ,  71.94013214,  19.9980793 ],\n",
       "       [ 94.29410553,  61.30474854,  15.1743412 ],\n",
       "       [ 93.83106232,  51.33660889,   9.93526649],\n",
       "       [ 92.92044067,  42.35725021,   3.89962363],\n",
       "       [ 90.93475342,  33.78956223,   3.61381292],\n",
       "       [ 89.01351166,  26.0685463 ,   8.57098579],\n",
       "       [ 98.25508118, 105.43065643,  33.30490494],\n",
       "       [ 97.2888031 ,  93.67990112,  29.09587097],\n",
       "       [ 96.28728485,  82.28538513,  24.55873489],\n",
       "       [ 95.5846405 ,  71.94013214,  19.9980793 ],\n",
       "       [ 94.29410553,  61.30474854,  15.1743412 ],\n",
       "       [ 93.83106232,  51.33660889,   9.93526649],\n",
       "       [ 92.92044067,  42.35725021,   3.89962363],\n",
       "       [ 90.93475342,  33.78956223,   3.61381292],\n",
       "       [ 89.01351166,  26.0685463 ,   8.57098579],\n",
       "       [ 98.25508118, 105.43065643,  33.30490494],\n",
       "       [ 97.2888031 ,  93.67990112,  29.09587097],\n",
       "       [ 96.28728485,  82.28538513,  24.55873489],\n",
       "       [ 95.5846405 ,  71.94013214,  19.9980793 ],\n",
       "       [ 94.29410553,  61.30474854,  15.1743412 ],\n",
       "       [ 93.83106232,  51.33660889,   9.93526649],\n",
       "       [ 92.92044067,  42.35725021,   3.89962363],\n",
       "       [ 90.93475342,  33.78956223,   3.61381292],\n",
       "       [ 89.01351166,  26.0685463 ,   8.57098579],\n",
       "       [ 98.25508118, 105.43065643,  33.30490494],\n",
       "       [ 97.2888031 ,  93.67990112,  29.09587097],\n",
       "       [ 96.28728485,  82.28538513,  24.55873489],\n",
       "       [ 95.5846405 ,  71.94013214,  19.9980793 ],\n",
       "       [ 94.29410553,  61.30474854,  15.1743412 ],\n",
       "       [ 93.83106232,  51.33660889,   9.93526649],\n",
       "       [ 92.92044067,  42.35725021,   3.89962363],\n",
       "       [ 90.93475342,  33.78956223,   3.61381292],\n",
       "       [ 89.01351166,  26.0685463 ,   8.57098579],\n",
       "       [ 98.25508118, 105.43065643,  33.30490494],\n",
       "       [ 97.2888031 ,  93.67990112,  29.09587097],\n",
       "       [ 96.28728485,  82.28538513,  24.55873489],\n",
       "       [ 95.5846405 ,  71.94013214,  19.9980793 ],\n",
       "       [ 94.29410553,  61.30474854,  15.1743412 ],\n",
       "       [ 93.83106232,  51.33660889,   9.93526649],\n",
       "       [ 92.92044067,  42.35725021,   3.89962363],\n",
       "       [ 90.93475342,  33.78956223,   3.61381292],\n",
       "       [ 89.01351166,  26.0685463 ,   8.57098579],\n",
       "       [ 98.25508118, 105.43065643,  33.30490494],\n",
       "       [ 97.2888031 ,  93.67990112,  29.09587097],\n",
       "       [ 96.28728485,  82.28538513,  24.55873489],\n",
       "       [ 95.5846405 ,  71.94013214,  19.9980793 ],\n",
       "       [ 94.29410553,  61.30474854,  15.1743412 ],\n",
       "       [ 93.83106232,  51.33660889,   9.93526649],\n",
       "       [ 92.92044067,  42.35725021,   3.89962363],\n",
       "       [ 90.93475342,  33.78956223,   3.61381292],\n",
       "       [ 89.01351166,  26.0685463 ,   8.57098579],\n",
       "       [ 98.25508118, 105.43065643,  33.30490494],\n",
       "       [ 97.2888031 ,  93.67990112,  29.09587097],\n",
       "       [ 96.28728485,  82.28538513,  24.55873489],\n",
       "       [ 95.5846405 ,  71.94013214,  19.9980793 ],\n",
       "       [ 94.29410553,  61.30474854,  15.1743412 ],\n",
       "       [ 93.83106232,  51.33660889,   9.93526649],\n",
       "       [ 92.92044067,  42.35725021,   3.89962363],\n",
       "       [ 90.93475342,  33.78956223,   3.61381292],\n",
       "       [ 89.01351166,  26.0685463 ,   8.57098579],\n",
       "       [ 98.25508118, 105.43065643,  33.30490494],\n",
       "       [ 97.2888031 ,  93.67990112,  29.09587097],\n",
       "       [ 96.28728485,  82.28538513,  24.55873489],\n",
       "       [ 95.5846405 ,  71.94013214,  19.9980793 ],\n",
       "       [ 94.29410553,  61.30474854,  15.1743412 ],\n",
       "       [ 93.83106232,  51.33660889,   9.93526649],\n",
       "       [ 92.92044067,  42.35725021,   3.89962363],\n",
       "       [ 90.93475342,  33.78956223,   3.61381292],\n",
       "       [ 89.01351166,  26.0685463 ,   8.57098579],\n",
       "       [ 98.25508118, 105.43065643,  33.30490494],\n",
       "       [ 97.2888031 ,  93.67990112,  29.09587097],\n",
       "       [ 96.28728485,  82.28538513,  24.55873489],\n",
       "       [ 95.5846405 ,  71.94013214,  19.9980793 ],\n",
       "       [ 94.29410553,  61.30474854,  15.1743412 ],\n",
       "       [ 93.83106232,  51.33660889,   9.93526649],\n",
       "       [ 92.92044067,  42.35725021,   3.89962363],\n",
       "       [ 90.93475342,  33.78956223,   3.61381292],\n",
       "       [ 89.01351166,  26.0685463 ,   8.57098579],\n",
       "       [ 98.25508118, 105.43065643,  33.30490494],\n",
       "       [ 97.2888031 ,  93.67990112,  29.09587097],\n",
       "       [ 96.28728485,  82.28538513,  24.55873489],\n",
       "       [ 95.5846405 ,  71.94013214,  19.9980793 ],\n",
       "       [ 94.29410553,  61.30474854,  15.1743412 ],\n",
       "       [ 93.83106232,  51.33660889,   9.93526649],\n",
       "       [ 92.92044067,  42.35725021,   3.89962363],\n",
       "       [ 90.93475342,  33.78956223,   3.61381292],\n",
       "       [ 89.01351166,  26.0685463 ,   8.57098579],\n",
       "       [ 98.25508118, 105.43065643,  33.30490494],\n",
       "       [ 97.2888031 ,  93.67990112,  29.09587097],\n",
       "       [ 96.28728485,  82.28538513,  24.55873489],\n",
       "       [ 95.5846405 ,  71.94013214,  19.9980793 ],\n",
       "       [ 94.29410553,  61.30474854,  15.1743412 ],\n",
       "       [ 93.83106232,  51.33660889,   9.93526649],\n",
       "       [ 92.92044067,  42.35725021,   3.89962363],\n",
       "       [ 90.93475342,  33.78956223,   3.61381292],\n",
       "       [ 89.01351166,  26.0685463 ,   8.57098579],\n",
       "       [ 98.25508118, 105.43065643,  33.30490494],\n",
       "       [ 97.2888031 ,  93.67990112,  29.09587097],\n",
       "       [ 96.28728485,  82.28538513,  24.55873489],\n",
       "       [ 95.5846405 ,  71.94013214,  19.9980793 ],\n",
       "       [ 94.29410553,  61.30474854,  15.1743412 ],\n",
       "       [ 93.83106232,  51.33660889,   9.93526649],\n",
       "       [ 92.92044067,  42.35725021,   3.89962363],\n",
       "       [ 90.93475342,  33.78956223,   3.61381292],\n",
       "       [ 89.01351166,  26.0685463 ,   8.57098579],\n",
       "       [ 98.25508118, 105.43065643,  33.30490494],\n",
       "       [ 97.2888031 ,  93.67990112,  29.09587097],\n",
       "       [ 96.28728485,  82.28538513,  24.55873489],\n",
       "       [ 95.5846405 ,  71.94013214,  19.9980793 ],\n",
       "       [ 94.29410553,  61.30474854,  15.1743412 ],\n",
       "       [ 93.83106232,  51.33660889,   9.93526649],\n",
       "       [ 92.92044067,  42.35725021,   3.89962363],\n",
       "       [ 90.93475342,  33.78956223,   3.61381292],\n",
       "       [ 89.01351166,  26.0685463 ,   8.57098579],\n",
       "       [ 98.25508118, 105.43065643,  33.30490494],\n",
       "       [ 97.2888031 ,  93.67990112,  29.09587097],\n",
       "       [ 96.28728485,  82.28538513,  24.55873489],\n",
       "       [ 95.5846405 ,  71.94013214,  19.9980793 ],\n",
       "       [ 94.29410553,  61.30474854,  15.1743412 ],\n",
       "       [ 93.83106232,  51.33660889,   9.93526649],\n",
       "       [ 92.92044067,  42.35725021,   3.89962363],\n",
       "       [ 90.93475342,  33.78956223,   3.61381292],\n",
       "       [ 89.01351166,  26.0685463 ,   8.57098579],\n",
       "       [ 98.25508118, 105.43065643,  33.30490494],\n",
       "       [ 97.2888031 ,  93.67990112,  29.09587097],\n",
       "       [ 96.28728485,  82.28538513,  24.55873489],\n",
       "       [ 95.5846405 ,  71.94013214,  19.9980793 ],\n",
       "       [ 94.29410553,  61.30474854,  15.1743412 ],\n",
       "       [ 93.83106232,  51.33660889,   9.93526649],\n",
       "       [ 92.92044067,  42.35725021,   3.89962363],\n",
       "       [ 90.93475342,  33.78956223,   3.61381292],\n",
       "       [ 89.01351166,  26.0685463 ,   8.57098579],\n",
       "       [ 98.25508118, 105.43065643,  33.30490494],\n",
       "       [ 97.2888031 ,  93.67990112,  29.09587097],\n",
       "       [ 96.28728485,  82.28538513,  24.55873489],\n",
       "       [ 95.5846405 ,  71.94013214,  19.9980793 ],\n",
       "       [ 94.29410553,  61.30474854,  15.1743412 ],\n",
       "       [ 93.83106232,  51.33660889,   9.93526649],\n",
       "       [ 92.92044067,  42.35725021,   3.89962363],\n",
       "       [ 90.93475342,  33.78956223,   3.61381292],\n",
       "       [ 89.01351166,  26.0685463 ,   8.57098579],\n",
       "       [ 98.25508118, 105.43065643,  33.30490494],\n",
       "       [ 97.2888031 ,  93.67990112,  29.09587097],\n",
       "       [ 96.28728485,  82.28538513,  24.55873489],\n",
       "       [ 95.5846405 ,  71.94013214,  19.9980793 ],\n",
       "       [ 94.29410553,  61.30474854,  15.1743412 ],\n",
       "       [ 93.83106232,  51.33660889,   9.93526649],\n",
       "       [ 92.92044067,  42.35725021,   3.89962363],\n",
       "       [ 90.93475342,  33.78956223,   3.61381292],\n",
       "       [ 89.01351166,  26.0685463 ,   8.57098579],\n",
       "       [ 98.25508118, 105.43065643,  33.30490494],\n",
       "       [ 97.2888031 ,  93.67990112,  29.09587097],\n",
       "       [ 96.28728485,  82.28538513,  24.55873489],\n",
       "       [ 95.5846405 ,  71.94013214,  19.9980793 ],\n",
       "       [ 94.29410553,  61.30474854,  15.1743412 ],\n",
       "       [ 93.83106232,  51.33660889,   9.93526649],\n",
       "       [ 92.92044067,  42.35725021,   3.89962363],\n",
       "       [ 90.93475342,  33.78956223,   3.61381292],\n",
       "       [ 89.01351166,  26.0685463 ,   8.57098579],\n",
       "       [ 98.25508118, 105.43065643,  33.30490494],\n",
       "       [ 97.2888031 ,  93.67990112,  29.09587097],\n",
       "       [ 96.28728485,  82.28538513,  24.55873489],\n",
       "       [ 95.5846405 ,  71.94013214,  19.9980793 ],\n",
       "       [ 94.29410553,  61.30474854,  15.1743412 ],\n",
       "       [ 93.83106232,  51.33660889,   9.93526649],\n",
       "       [ 92.92044067,  42.35725021,   3.89962363],\n",
       "       [ 90.93475342,  33.78956223,   3.61381292],\n",
       "       [ 89.01351166,  26.0685463 ,   8.57098579],\n",
       "       [ 98.25508118, 105.43065643,  33.30490494],\n",
       "       [ 97.2888031 ,  93.67990112,  29.09587097],\n",
       "       [ 96.28728485,  82.28538513,  24.55873489],\n",
       "       [ 95.5846405 ,  71.94013214,  19.9980793 ],\n",
       "       [ 94.29410553,  61.30474854,  15.1743412 ],\n",
       "       [ 93.83106232,  51.33660889,   9.93526649],\n",
       "       [ 92.92044067,  42.35725021,   3.89962363],\n",
       "       [ 90.93475342,  33.78956223,   3.61381292],\n",
       "       [ 89.01351166,  26.0685463 ,   8.57098579],\n",
       "       [ 98.25508118, 105.43065643,  33.30490494],\n",
       "       [ 97.2888031 ,  93.67990112,  29.09587097],\n",
       "       [ 96.28728485,  82.28538513,  24.55873489],\n",
       "       [ 95.5846405 ,  71.94013214,  19.9980793 ],\n",
       "       [ 94.29410553,  61.30474854,  15.1743412 ],\n",
       "       [ 93.83106232,  51.33660889,   9.93526649],\n",
       "       [ 92.92044067,  42.35725021,   3.89962363],\n",
       "       [ 90.93475342,  33.78956223,   3.61381292],\n",
       "       [ 89.01351166,  26.0685463 ,   8.57098579],\n",
       "       [ 98.25508118, 105.43065643,  33.30490494],\n",
       "       [ 97.2888031 ,  93.67990112,  29.09587097],\n",
       "       [ 96.28728485,  82.28538513,  24.55873489],\n",
       "       [ 95.5846405 ,  71.94013214,  19.9980793 ],\n",
       "       [ 94.29410553,  61.30474854,  15.1743412 ],\n",
       "       [ 93.83106232,  51.33660889,   9.93526649],\n",
       "       [ 92.92044067,  42.35725021,   3.89962363],\n",
       "       [ 90.93475342,  33.78956223,   3.61381292],\n",
       "       [ 89.01351166,  26.0685463 ,   8.57098579],\n",
       "       [ 98.25508118, 105.43065643,  33.30490494],\n",
       "       [ 97.2888031 ,  93.67990112,  29.09587097],\n",
       "       [ 96.28728485,  82.28538513,  24.55873489],\n",
       "       [ 95.5846405 ,  71.94013214,  19.9980793 ],\n",
       "       [ 94.29410553,  61.30474854,  15.1743412 ],\n",
       "       [ 93.83106232,  51.33660889,   9.93526649],\n",
       "       [ 92.92044067,  42.35725021,   3.89962363],\n",
       "       [ 90.93475342,  33.78956223,   3.61381292],\n",
       "       [ 89.01351166,  26.0685463 ,   8.57098579],\n",
       "       [ 98.25508118, 105.43065643,  33.30490494],\n",
       "       [ 97.2888031 ,  93.67990112,  29.09587097],\n",
       "       [ 96.28728485,  82.28538513,  24.55873489],\n",
       "       [ 95.5846405 ,  71.94013214,  19.9980793 ],\n",
       "       [ 94.29410553,  61.30474854,  15.1743412 ],\n",
       "       [ 93.83106232,  51.33660889,   9.93526649],\n",
       "       [ 92.92044067,  42.35725021,   3.89962363],\n",
       "       [ 90.93475342,  33.78956223,   3.61381292],\n",
       "       [ 89.01351166,  26.0685463 ,   8.57098579],\n",
       "       [ 98.25508118, 105.43065643,  33.30490494],\n",
       "       [ 97.2888031 ,  93.67990112,  29.09587097],\n",
       "       [ 96.28728485,  82.28538513,  24.55873489],\n",
       "       [ 95.5846405 ,  71.94013214,  19.9980793 ],\n",
       "       [ 94.29410553,  61.30474854,  15.1743412 ],\n",
       "       [ 93.83106232,  51.33660889,   9.93526649],\n",
       "       [ 92.92044067,  42.35725021,   3.89962363],\n",
       "       [ 90.93475342,  33.78956223,   3.61381292],\n",
       "       [ 89.01351166,  26.0685463 ,   8.57098579],\n",
       "       [ 98.25508118, 105.43065643,  33.30490494],\n",
       "       [ 97.2888031 ,  93.67990112,  29.09587097],\n",
       "       [ 96.28728485,  82.28538513,  24.55873489],\n",
       "       [ 95.5846405 ,  71.94013214,  19.9980793 ],\n",
       "       [ 94.29410553,  61.30474854,  15.1743412 ],\n",
       "       [ 93.83106232,  51.33660889,   9.93526649],\n",
       "       [ 92.92044067,  42.35725021,   3.89962363],\n",
       "       [ 90.93475342,  33.78956223,   3.61381292],\n",
       "       [ 89.01351166,  26.0685463 ,   8.57098579],\n",
       "       [ 98.25508118, 105.43065643,  33.30490494],\n",
       "       [ 97.2888031 ,  93.67990112,  29.09587097],\n",
       "       [ 96.28728485,  82.28538513,  24.55873489],\n",
       "       [ 95.5846405 ,  71.94013214,  19.9980793 ],\n",
       "       [ 94.29410553,  61.30474854,  15.1743412 ],\n",
       "       [ 93.83106232,  51.33660889,   9.93526649],\n",
       "       [ 92.92044067,  42.35725021,   3.89962363],\n",
       "       [ 90.93475342,  33.78956223,   3.61381292],\n",
       "       [ 89.01351166,  26.0685463 ,   8.57098579],\n",
       "       [ 98.25508118, 105.43065643,  33.30490494],\n",
       "       [ 97.2888031 ,  93.67990112,  29.09587097],\n",
       "       [ 96.28728485,  82.28538513,  24.55873489],\n",
       "       [ 95.5846405 ,  71.94013214,  19.9980793 ],\n",
       "       [ 94.29410553,  61.30474854,  15.1743412 ],\n",
       "       [ 93.83106232,  51.33660889,   9.93526649],\n",
       "       [ 92.92044067,  42.35725021,   3.89962363],\n",
       "       [ 90.93475342,  33.78956223,   3.61381292],\n",
       "       [ 89.01351166,  26.0685463 ,   8.57098579],\n",
       "       [ 98.25508118, 105.43065643,  33.30490494],\n",
       "       [ 97.2888031 ,  93.67990112,  29.09587097],\n",
       "       [ 96.28728485,  82.28538513,  24.55873489],\n",
       "       [ 95.5846405 ,  71.94013214,  19.9980793 ],\n",
       "       [ 94.29410553,  61.30474854,  15.1743412 ],\n",
       "       [ 93.83106232,  51.33660889,   9.93526649],\n",
       "       [ 92.92044067,  42.35725021,   3.89962363],\n",
       "       [ 90.93475342,  33.78956223,   3.61381292],\n",
       "       [ 89.01351166,  26.0685463 ,   8.57098579]])"
      ]
     },
     "execution_count": 114,
     "metadata": {},
     "output_type": "execute_result"
    }
   ],
   "source": [
    "tmp = tmp.reshape(num*n_step,3)\n",
    "tmp"
   ]
  },
  {
   "cell_type": "code",
   "execution_count": 115,
   "metadata": {},
   "outputs": [
    {
     "data": {
      "text/plain": [
       "(31, 9, 3)"
      ]
     },
     "execution_count": 115,
     "metadata": {},
     "output_type": "execute_result"
    }
   ],
   "source": [
    "tmp2 = yhat[num:2*num,:,:]\n",
    "tmp2.shape"
   ]
  },
  {
   "cell_type": "code",
   "execution_count": 116,
   "metadata": {},
   "outputs": [
    {
     "data": {
      "text/plain": [
       "array([[100.86699677, 105.87200165,  32.99890137],\n",
       "       [100.69100189,  96.67199707,  25.73679924],\n",
       "       [100.63700104,  84.16490173,  23.47780037],\n",
       "       [100.8259964 ,  74.3844986 ,  14.97159958],\n",
       "       [100.15899658,  66.35440063,   9.81005955],\n",
       "       [100.35700226,  57.10960007,   5.12738991],\n",
       "       [100.36000061,  43.95069885,   3.94485998],\n",
       "       [100.28399658,  34.29449844,   9.0287199 ],\n",
       "       [100.64600372,  23.94400024,  13.91279984],\n",
       "       [100.86699677, 105.87200165,  32.99890137],\n",
       "       [100.69100189,  96.67199707,  25.73679924],\n",
       "       [100.63700104,  84.16490173,  23.47780037],\n",
       "       [100.8259964 ,  74.3844986 ,  14.97159958],\n",
       "       [100.15899658,  66.35440063,   9.81005955],\n",
       "       [100.35700226,  57.10960007,   5.12738991],\n",
       "       [100.36000061,  43.95069885,   3.94485998],\n",
       "       [100.28399658,  34.29449844,   9.0287199 ],\n",
       "       [100.64600372,  23.94400024,  13.91279984],\n",
       "       [100.86699677, 105.87200165,  32.99890137],\n",
       "       [100.69100189,  96.67199707,  25.73679924],\n",
       "       [100.63700104,  84.16490173,  23.47780037],\n",
       "       [100.8259964 ,  74.3844986 ,  14.97159958],\n",
       "       [100.15899658,  66.35440063,   9.81005955],\n",
       "       [100.35700226,  57.10960007,   5.12738991],\n",
       "       [100.36000061,  43.95069885,   3.94485998],\n",
       "       [100.28399658,  34.29449844,   9.0287199 ],\n",
       "       [100.64600372,  23.94400024,  13.91279984],\n",
       "       [100.86699677, 105.87200165,  32.99890137],\n",
       "       [100.69100189,  96.67199707,  25.73679924],\n",
       "       [100.63700104,  84.16490173,  23.47780037],\n",
       "       [100.8259964 ,  74.3844986 ,  14.97159958],\n",
       "       [100.15899658,  66.35440063,   9.81005955],\n",
       "       [100.35700226,  57.10960007,   5.12738991],\n",
       "       [100.36000061,  43.95069885,   3.94485998],\n",
       "       [100.28399658,  34.29449844,   9.0287199 ],\n",
       "       [100.64600372,  23.94400024,  13.91279984],\n",
       "       [100.86699677, 105.87200165,  32.99890137],\n",
       "       [100.69100189,  96.67199707,  25.73679924],\n",
       "       [100.63700104,  84.16490173,  23.47780037],\n",
       "       [100.8259964 ,  74.3844986 ,  14.97159958],\n",
       "       [100.15899658,  66.35440063,   9.81005955],\n",
       "       [100.35700226,  57.10960007,   5.12738991],\n",
       "       [100.36000061,  43.95069885,   3.94485998],\n",
       "       [100.28399658,  34.29449844,   9.0287199 ],\n",
       "       [100.64600372,  23.94400024,  13.91279984],\n",
       "       [100.86699677, 105.87200165,  32.99890137],\n",
       "       [100.69100189,  96.67199707,  25.73679924],\n",
       "       [100.63700104,  84.16490173,  23.47780037],\n",
       "       [100.8259964 ,  74.3844986 ,  14.97159958],\n",
       "       [100.15899658,  66.35440063,   9.81005955],\n",
       "       [100.35700226,  57.10960007,   5.12738991],\n",
       "       [100.36000061,  43.95069885,   3.94485998],\n",
       "       [100.28399658,  34.29449844,   9.0287199 ],\n",
       "       [100.64600372,  23.94400024,  13.91279984],\n",
       "       [100.86699677, 105.87200165,  32.99890137],\n",
       "       [100.69100189,  96.67199707,  25.73679924],\n",
       "       [100.63700104,  84.16490173,  23.47780037],\n",
       "       [100.8259964 ,  74.3844986 ,  14.97159958],\n",
       "       [100.15899658,  66.35440063,   9.81005955],\n",
       "       [100.35700226,  57.10960007,   5.12738991],\n",
       "       [100.36000061,  43.95069885,   3.94485998],\n",
       "       [100.28399658,  34.29449844,   9.0287199 ],\n",
       "       [100.64600372,  23.94400024,  13.91279984],\n",
       "       [100.86699677, 105.87200165,  32.99890137],\n",
       "       [100.69100189,  96.67199707,  25.73679924],\n",
       "       [100.63700104,  84.16490173,  23.47780037],\n",
       "       [100.8259964 ,  74.3844986 ,  14.97159958],\n",
       "       [100.15899658,  66.35440063,   9.81005955],\n",
       "       [100.35700226,  57.10960007,   5.12738991],\n",
       "       [100.36000061,  43.95069885,   3.94485998],\n",
       "       [100.28399658,  34.29449844,   9.0287199 ],\n",
       "       [100.64600372,  23.94400024,  13.91279984],\n",
       "       [100.86699677, 105.87200165,  32.99890137],\n",
       "       [100.69100189,  96.67199707,  25.73679924],\n",
       "       [100.63700104,  84.16490173,  23.47780037],\n",
       "       [100.8259964 ,  74.3844986 ,  14.97159958],\n",
       "       [100.15899658,  66.35440063,   9.81005955],\n",
       "       [100.35700226,  57.10960007,   5.12738991],\n",
       "       [100.36000061,  43.95069885,   3.94485998],\n",
       "       [100.28399658,  34.29449844,   9.0287199 ],\n",
       "       [100.64600372,  23.94400024,  13.91279984],\n",
       "       [100.86699677, 105.87200165,  32.99890137],\n",
       "       [100.69100189,  96.67199707,  25.73679924],\n",
       "       [100.63700104,  84.16490173,  23.47780037],\n",
       "       [100.8259964 ,  74.3844986 ,  14.97159958],\n",
       "       [100.15899658,  66.35440063,   9.81005955],\n",
       "       [100.35700226,  57.10960007,   5.12738991],\n",
       "       [100.36000061,  43.95069885,   3.94485998],\n",
       "       [100.28399658,  34.29449844,   9.0287199 ],\n",
       "       [100.64600372,  23.94400024,  13.91279984],\n",
       "       [100.86699677, 105.87200165,  32.99890137],\n",
       "       [100.69100189,  96.67199707,  25.73679924],\n",
       "       [100.63700104,  84.16490173,  23.47780037],\n",
       "       [100.8259964 ,  74.3844986 ,  14.97159958],\n",
       "       [100.15899658,  66.35440063,   9.81005955],\n",
       "       [100.35700226,  57.10960007,   5.12738991],\n",
       "       [100.36000061,  43.95069885,   3.94485998],\n",
       "       [100.28399658,  34.29449844,   9.0287199 ],\n",
       "       [100.64600372,  23.94400024,  13.91279984],\n",
       "       [100.86699677, 105.87200165,  32.99890137],\n",
       "       [100.69100189,  96.67199707,  25.73679924],\n",
       "       [100.63700104,  84.16490173,  23.47780037],\n",
       "       [100.8259964 ,  74.3844986 ,  14.97159958],\n",
       "       [100.15899658,  66.35440063,   9.81005955],\n",
       "       [100.35700226,  57.10960007,   5.12738991],\n",
       "       [100.36000061,  43.95069885,   3.94485998],\n",
       "       [100.28399658,  34.29449844,   9.0287199 ],\n",
       "       [100.64600372,  23.94400024,  13.91279984],\n",
       "       [100.86699677, 105.87200165,  32.99890137],\n",
       "       [100.69100189,  96.67199707,  25.73679924],\n",
       "       [100.63700104,  84.16490173,  23.47780037],\n",
       "       [100.8259964 ,  74.3844986 ,  14.97159958],\n",
       "       [100.15899658,  66.35440063,   9.81005955],\n",
       "       [100.35700226,  57.10960007,   5.12738991],\n",
       "       [100.36000061,  43.95069885,   3.94485998],\n",
       "       [100.28399658,  34.29449844,   9.0287199 ],\n",
       "       [100.64600372,  23.94400024,  13.91279984],\n",
       "       [100.86699677, 105.87200165,  32.99890137],\n",
       "       [100.69100189,  96.67199707,  25.73679924],\n",
       "       [100.63700104,  84.16490173,  23.47780037],\n",
       "       [100.8259964 ,  74.3844986 ,  14.97159958],\n",
       "       [100.15899658,  66.35440063,   9.81005955],\n",
       "       [100.35700226,  57.10960007,   5.12738991],\n",
       "       [100.36000061,  43.95069885,   3.94485998],\n",
       "       [100.28399658,  34.29449844,   9.0287199 ],\n",
       "       [100.64600372,  23.94400024,  13.91279984],\n",
       "       [100.86699677, 105.87200165,  32.99890137],\n",
       "       [100.69100189,  96.67199707,  25.73679924],\n",
       "       [100.63700104,  84.16490173,  23.47780037],\n",
       "       [100.8259964 ,  74.3844986 ,  14.97159958],\n",
       "       [100.15899658,  66.35440063,   9.81005955],\n",
       "       [100.35700226,  57.10960007,   5.12738991],\n",
       "       [100.36000061,  43.95069885,   3.94485998],\n",
       "       [100.28399658,  34.29449844,   9.0287199 ],\n",
       "       [100.64600372,  23.94400024,  13.91279984],\n",
       "       [100.86699677, 105.87200165,  32.99890137],\n",
       "       [100.69100189,  96.67199707,  25.73679924],\n",
       "       [100.63700104,  84.16490173,  23.47780037],\n",
       "       [100.8259964 ,  74.3844986 ,  14.97159958],\n",
       "       [100.15899658,  66.35440063,   9.81005955],\n",
       "       [100.35700226,  57.10960007,   5.12738991],\n",
       "       [100.36000061,  43.95069885,   3.94485998],\n",
       "       [100.28399658,  34.29449844,   9.0287199 ],\n",
       "       [100.64600372,  23.94400024,  13.91279984],\n",
       "       [100.86699677, 105.87200165,  32.99890137],\n",
       "       [100.69100189,  96.67199707,  25.73679924],\n",
       "       [100.63700104,  84.16490173,  23.47780037],\n",
       "       [100.8259964 ,  74.3844986 ,  14.97159958],\n",
       "       [100.15899658,  66.35440063,   9.81005955],\n",
       "       [100.35700226,  57.10960007,   5.12738991],\n",
       "       [100.36000061,  43.95069885,   3.94485998],\n",
       "       [100.28399658,  34.29449844,   9.0287199 ],\n",
       "       [100.64600372,  23.94400024,  13.91279984],\n",
       "       [100.86699677, 105.87200165,  32.99890137],\n",
       "       [100.69100189,  96.67199707,  25.73679924],\n",
       "       [100.63700104,  84.16490173,  23.47780037],\n",
       "       [100.8259964 ,  74.3844986 ,  14.97159958],\n",
       "       [100.15899658,  66.35440063,   9.81005955],\n",
       "       [100.35700226,  57.10960007,   5.12738991],\n",
       "       [100.36000061,  43.95069885,   3.94485998],\n",
       "       [100.28399658,  34.29449844,   9.0287199 ],\n",
       "       [100.64600372,  23.94400024,  13.91279984],\n",
       "       [100.86699677, 105.87200165,  32.99890137],\n",
       "       [100.69100189,  96.67199707,  25.73679924],\n",
       "       [100.63700104,  84.16490173,  23.47780037],\n",
       "       [100.8259964 ,  74.3844986 ,  14.97159958],\n",
       "       [100.15899658,  66.35440063,   9.81005955],\n",
       "       [100.35700226,  57.10960007,   5.12738991],\n",
       "       [100.36000061,  43.95069885,   3.94485998],\n",
       "       [100.28399658,  34.29449844,   9.0287199 ],\n",
       "       [100.64600372,  23.94400024,  13.91279984],\n",
       "       [100.86699677, 105.87200165,  32.99890137],\n",
       "       [100.69100189,  96.67199707,  25.73679924],\n",
       "       [100.63700104,  84.16490173,  23.47780037],\n",
       "       [100.8259964 ,  74.3844986 ,  14.97159958],\n",
       "       [100.15899658,  66.35440063,   9.81005955],\n",
       "       [100.35700226,  57.10960007,   5.12738991],\n",
       "       [100.36000061,  43.95069885,   3.94485998],\n",
       "       [100.28399658,  34.29449844,   9.0287199 ],\n",
       "       [100.64600372,  23.94400024,  13.91279984],\n",
       "       [100.86699677, 105.87200165,  32.99890137],\n",
       "       [100.69100189,  96.67199707,  25.73679924],\n",
       "       [100.63700104,  84.16490173,  23.47780037],\n",
       "       [100.8259964 ,  74.3844986 ,  14.97159958],\n",
       "       [100.15899658,  66.35440063,   9.81005955],\n",
       "       [100.35700226,  57.10960007,   5.12738991],\n",
       "       [100.36000061,  43.95069885,   3.94485998],\n",
       "       [100.28399658,  34.29449844,   9.0287199 ],\n",
       "       [100.64600372,  23.94400024,  13.91279984],\n",
       "       [100.86699677, 105.87200165,  32.99890137],\n",
       "       [100.69100189,  96.67199707,  25.73679924],\n",
       "       [100.63700104,  84.16490173,  23.47780037],\n",
       "       [100.8259964 ,  74.3844986 ,  14.97159958],\n",
       "       [100.15899658,  66.35440063,   9.81005955],\n",
       "       [100.35700226,  57.10960007,   5.12738991],\n",
       "       [100.36000061,  43.95069885,   3.94485998],\n",
       "       [100.28399658,  34.29449844,   9.0287199 ],\n",
       "       [100.64600372,  23.94400024,  13.91279984],\n",
       "       [100.86699677, 105.87200165,  32.99890137],\n",
       "       [100.69100189,  96.67199707,  25.73679924],\n",
       "       [100.63700104,  84.16490173,  23.47780037],\n",
       "       [100.8259964 ,  74.3844986 ,  14.97159958],\n",
       "       [100.15899658,  66.35440063,   9.81005955],\n",
       "       [100.35700226,  57.10960007,   5.12738991],\n",
       "       [100.36000061,  43.95069885,   3.94485998],\n",
       "       [100.28399658,  34.29449844,   9.0287199 ],\n",
       "       [100.64600372,  23.94400024,  13.91279984],\n",
       "       [100.86699677, 105.87200165,  32.99890137],\n",
       "       [100.69100189,  96.67199707,  25.73679924],\n",
       "       [100.63700104,  84.16490173,  23.47780037],\n",
       "       [100.8259964 ,  74.3844986 ,  14.97159958],\n",
       "       [100.15899658,  66.35440063,   9.81005955],\n",
       "       [100.35700226,  57.10960007,   5.12738991],\n",
       "       [100.36000061,  43.95069885,   3.94485998],\n",
       "       [100.28399658,  34.29449844,   9.0287199 ],\n",
       "       [100.64600372,  23.94400024,  13.91279984],\n",
       "       [100.86699677, 105.87200165,  32.99890137],\n",
       "       [100.69100189,  96.67199707,  25.73679924],\n",
       "       [100.63700104,  84.16490173,  23.47780037],\n",
       "       [100.8259964 ,  74.3844986 ,  14.97159958],\n",
       "       [100.15899658,  66.35440063,   9.81005955],\n",
       "       [100.35700226,  57.10960007,   5.12738991],\n",
       "       [100.36000061,  43.95069885,   3.94485998],\n",
       "       [100.28399658,  34.29449844,   9.0287199 ],\n",
       "       [100.64600372,  23.94400024,  13.91279984],\n",
       "       [100.86699677, 105.87200165,  32.99890137],\n",
       "       [100.69100189,  96.67199707,  25.73679924],\n",
       "       [100.63700104,  84.16490173,  23.47780037],\n",
       "       [100.8259964 ,  74.3844986 ,  14.97159958],\n",
       "       [100.15899658,  66.35440063,   9.81005955],\n",
       "       [100.35700226,  57.10960007,   5.12738991],\n",
       "       [100.36000061,  43.95069885,   3.94485998],\n",
       "       [100.28399658,  34.29449844,   9.0287199 ],\n",
       "       [100.64600372,  23.94400024,  13.91279984],\n",
       "       [100.86699677, 105.87200165,  32.99890137],\n",
       "       [100.69100189,  96.67199707,  25.73679924],\n",
       "       [100.63700104,  84.16490173,  23.47780037],\n",
       "       [100.8259964 ,  74.3844986 ,  14.97159958],\n",
       "       [100.15899658,  66.35440063,   9.81005955],\n",
       "       [100.35700226,  57.10960007,   5.12738991],\n",
       "       [100.36000061,  43.95069885,   3.94485998],\n",
       "       [100.28399658,  34.29449844,   9.0287199 ],\n",
       "       [100.64600372,  23.94400024,  13.91279984],\n",
       "       [100.86699677, 105.87200165,  32.99890137],\n",
       "       [100.69100189,  96.67199707,  25.73679924],\n",
       "       [100.63700104,  84.16490173,  23.47780037],\n",
       "       [100.8259964 ,  74.3844986 ,  14.97159958],\n",
       "       [100.15899658,  66.35440063,   9.81005955],\n",
       "       [100.35700226,  57.10960007,   5.12738991],\n",
       "       [100.36000061,  43.95069885,   3.94485998],\n",
       "       [100.28399658,  34.29449844,   9.0287199 ],\n",
       "       [100.64600372,  23.94400024,  13.91279984],\n",
       "       [100.86699677, 105.87200165,  32.99890137],\n",
       "       [100.69100189,  96.67199707,  25.73679924],\n",
       "       [100.63700104,  84.16490173,  23.47780037],\n",
       "       [100.8259964 ,  74.3844986 ,  14.97159958],\n",
       "       [100.15899658,  66.35440063,   9.81005955],\n",
       "       [100.35700226,  57.10960007,   5.12738991],\n",
       "       [100.36000061,  43.95069885,   3.94485998],\n",
       "       [100.28399658,  34.29449844,   9.0287199 ],\n",
       "       [100.64600372,  23.94400024,  13.91279984],\n",
       "       [100.86699677, 105.87200165,  32.99890137],\n",
       "       [100.69100189,  96.67199707,  25.73679924],\n",
       "       [100.63700104,  84.16490173,  23.47780037],\n",
       "       [100.8259964 ,  74.3844986 ,  14.97159958],\n",
       "       [100.15899658,  66.35440063,   9.81005955],\n",
       "       [100.35700226,  57.10960007,   5.12738991],\n",
       "       [100.36000061,  43.95069885,   3.94485998],\n",
       "       [100.28399658,  34.29449844,   9.0287199 ],\n",
       "       [100.64600372,  23.94400024,  13.91279984],\n",
       "       [100.86699677, 105.87200165,  32.99890137],\n",
       "       [100.69100189,  96.67199707,  25.73679924],\n",
       "       [100.63700104,  84.16490173,  23.47780037],\n",
       "       [100.8259964 ,  74.3844986 ,  14.97159958],\n",
       "       [100.15899658,  66.35440063,   9.81005955],\n",
       "       [100.35700226,  57.10960007,   5.12738991],\n",
       "       [100.36000061,  43.95069885,   3.94485998],\n",
       "       [100.28399658,  34.29449844,   9.0287199 ],\n",
       "       [100.64600372,  23.94400024,  13.91279984]])"
      ]
     },
     "execution_count": 116,
     "metadata": {},
     "output_type": "execute_result"
    }
   ],
   "source": [
    "tmp2 = tmp2.reshape(num*n_step,3)\n",
    "tmp2"
   ]
  },
  {
   "cell_type": "code",
   "execution_count": 117,
   "metadata": {},
   "outputs": [
    {
     "data": {
      "text/plain": [
       "array([[ 2.61191559,  0.44134521, -0.30600357],\n",
       "       [ 3.40219879,  2.99209595, -3.35907173],\n",
       "       [ 4.34971619,  1.8795166 , -1.08093452],\n",
       "       [ 5.2413559 ,  2.44436646, -5.02647972],\n",
       "       [ 5.86489105,  5.0496521 , -5.36428165],\n",
       "       [ 6.52593994,  5.77299118, -4.80787659],\n",
       "       [ 7.43955994,  1.59344864,  0.04523635],\n",
       "       [ 9.34924316,  0.50493622,  5.41490698],\n",
       "       [11.63249207, -2.12454605,  5.34181404],\n",
       "       [ 2.61191559,  0.44134521, -0.30600357],\n",
       "       [ 3.40219879,  2.99209595, -3.35907173],\n",
       "       [ 4.34971619,  1.8795166 , -1.08093452],\n",
       "       [ 5.2413559 ,  2.44436646, -5.02647972],\n",
       "       [ 5.86489105,  5.0496521 , -5.36428165],\n",
       "       [ 6.52593994,  5.77299118, -4.80787659],\n",
       "       [ 7.43955994,  1.59344864,  0.04523635],\n",
       "       [ 9.34924316,  0.50493622,  5.41490698],\n",
       "       [11.63249207, -2.12454605,  5.34181404],\n",
       "       [ 2.61191559,  0.44134521, -0.30600357],\n",
       "       [ 3.40219879,  2.99209595, -3.35907173],\n",
       "       [ 4.34971619,  1.8795166 , -1.08093452],\n",
       "       [ 5.2413559 ,  2.44436646, -5.02647972],\n",
       "       [ 5.86489105,  5.0496521 , -5.36428165],\n",
       "       [ 6.52593994,  5.77299118, -4.80787659],\n",
       "       [ 7.43955994,  1.59344864,  0.04523635],\n",
       "       [ 9.34924316,  0.50493622,  5.41490698],\n",
       "       [11.63249207, -2.12454605,  5.34181404],\n",
       "       [ 2.61191559,  0.44134521, -0.30600357],\n",
       "       [ 3.40219879,  2.99209595, -3.35907173],\n",
       "       [ 4.34971619,  1.8795166 , -1.08093452],\n",
       "       [ 5.2413559 ,  2.44436646, -5.02647972],\n",
       "       [ 5.86489105,  5.0496521 , -5.36428165],\n",
       "       [ 6.52593994,  5.77299118, -4.80787659],\n",
       "       [ 7.43955994,  1.59344864,  0.04523635],\n",
       "       [ 9.34924316,  0.50493622,  5.41490698],\n",
       "       [11.63249207, -2.12454605,  5.34181404],\n",
       "       [ 2.61191559,  0.44134521, -0.30600357],\n",
       "       [ 3.40219879,  2.99209595, -3.35907173],\n",
       "       [ 4.34971619,  1.8795166 , -1.08093452],\n",
       "       [ 5.2413559 ,  2.44436646, -5.02647972],\n",
       "       [ 5.86489105,  5.0496521 , -5.36428165],\n",
       "       [ 6.52593994,  5.77299118, -4.80787659],\n",
       "       [ 7.43955994,  1.59344864,  0.04523635],\n",
       "       [ 9.34924316,  0.50493622,  5.41490698],\n",
       "       [11.63249207, -2.12454605,  5.34181404],\n",
       "       [ 2.61191559,  0.44134521, -0.30600357],\n",
       "       [ 3.40219879,  2.99209595, -3.35907173],\n",
       "       [ 4.34971619,  1.8795166 , -1.08093452],\n",
       "       [ 5.2413559 ,  2.44436646, -5.02647972],\n",
       "       [ 5.86489105,  5.0496521 , -5.36428165],\n",
       "       [ 6.52593994,  5.77299118, -4.80787659],\n",
       "       [ 7.43955994,  1.59344864,  0.04523635],\n",
       "       [ 9.34924316,  0.50493622,  5.41490698],\n",
       "       [11.63249207, -2.12454605,  5.34181404],\n",
       "       [ 2.61191559,  0.44134521, -0.30600357],\n",
       "       [ 3.40219879,  2.99209595, -3.35907173],\n",
       "       [ 4.34971619,  1.8795166 , -1.08093452],\n",
       "       [ 5.2413559 ,  2.44436646, -5.02647972],\n",
       "       [ 5.86489105,  5.0496521 , -5.36428165],\n",
       "       [ 6.52593994,  5.77299118, -4.80787659],\n",
       "       [ 7.43955994,  1.59344864,  0.04523635],\n",
       "       [ 9.34924316,  0.50493622,  5.41490698],\n",
       "       [11.63249207, -2.12454605,  5.34181404],\n",
       "       [ 2.61191559,  0.44134521, -0.30600357],\n",
       "       [ 3.40219879,  2.99209595, -3.35907173],\n",
       "       [ 4.34971619,  1.8795166 , -1.08093452],\n",
       "       [ 5.2413559 ,  2.44436646, -5.02647972],\n",
       "       [ 5.86489105,  5.0496521 , -5.36428165],\n",
       "       [ 6.52593994,  5.77299118, -4.80787659],\n",
       "       [ 7.43955994,  1.59344864,  0.04523635],\n",
       "       [ 9.34924316,  0.50493622,  5.41490698],\n",
       "       [11.63249207, -2.12454605,  5.34181404],\n",
       "       [ 2.61191559,  0.44134521, -0.30600357],\n",
       "       [ 3.40219879,  2.99209595, -3.35907173],\n",
       "       [ 4.34971619,  1.8795166 , -1.08093452],\n",
       "       [ 5.2413559 ,  2.44436646, -5.02647972],\n",
       "       [ 5.86489105,  5.0496521 , -5.36428165],\n",
       "       [ 6.52593994,  5.77299118, -4.80787659],\n",
       "       [ 7.43955994,  1.59344864,  0.04523635],\n",
       "       [ 9.34924316,  0.50493622,  5.41490698],\n",
       "       [11.63249207, -2.12454605,  5.34181404],\n",
       "       [ 2.61191559,  0.44134521, -0.30600357],\n",
       "       [ 3.40219879,  2.99209595, -3.35907173],\n",
       "       [ 4.34971619,  1.8795166 , -1.08093452],\n",
       "       [ 5.2413559 ,  2.44436646, -5.02647972],\n",
       "       [ 5.86489105,  5.0496521 , -5.36428165],\n",
       "       [ 6.52593994,  5.77299118, -4.80787659],\n",
       "       [ 7.43955994,  1.59344864,  0.04523635],\n",
       "       [ 9.34924316,  0.50493622,  5.41490698],\n",
       "       [11.63249207, -2.12454605,  5.34181404],\n",
       "       [ 2.61191559,  0.44134521, -0.30600357],\n",
       "       [ 3.40219879,  2.99209595, -3.35907173],\n",
       "       [ 4.34971619,  1.8795166 , -1.08093452],\n",
       "       [ 5.2413559 ,  2.44436646, -5.02647972],\n",
       "       [ 5.86489105,  5.0496521 , -5.36428165],\n",
       "       [ 6.52593994,  5.77299118, -4.80787659],\n",
       "       [ 7.43955994,  1.59344864,  0.04523635],\n",
       "       [ 9.34924316,  0.50493622,  5.41490698],\n",
       "       [11.63249207, -2.12454605,  5.34181404],\n",
       "       [ 2.61191559,  0.44134521, -0.30600357],\n",
       "       [ 3.40219879,  2.99209595, -3.35907173],\n",
       "       [ 4.34971619,  1.8795166 , -1.08093452],\n",
       "       [ 5.2413559 ,  2.44436646, -5.02647972],\n",
       "       [ 5.86489105,  5.0496521 , -5.36428165],\n",
       "       [ 6.52593994,  5.77299118, -4.80787659],\n",
       "       [ 7.43955994,  1.59344864,  0.04523635],\n",
       "       [ 9.34924316,  0.50493622,  5.41490698],\n",
       "       [11.63249207, -2.12454605,  5.34181404],\n",
       "       [ 2.61191559,  0.44134521, -0.30600357],\n",
       "       [ 3.40219879,  2.99209595, -3.35907173],\n",
       "       [ 4.34971619,  1.8795166 , -1.08093452],\n",
       "       [ 5.2413559 ,  2.44436646, -5.02647972],\n",
       "       [ 5.86489105,  5.0496521 , -5.36428165],\n",
       "       [ 6.52593994,  5.77299118, -4.80787659],\n",
       "       [ 7.43955994,  1.59344864,  0.04523635],\n",
       "       [ 9.34924316,  0.50493622,  5.41490698],\n",
       "       [11.63249207, -2.12454605,  5.34181404],\n",
       "       [ 2.61191559,  0.44134521, -0.30600357],\n",
       "       [ 3.40219879,  2.99209595, -3.35907173],\n",
       "       [ 4.34971619,  1.8795166 , -1.08093452],\n",
       "       [ 5.2413559 ,  2.44436646, -5.02647972],\n",
       "       [ 5.86489105,  5.0496521 , -5.36428165],\n",
       "       [ 6.52593994,  5.77299118, -4.80787659],\n",
       "       [ 7.43955994,  1.59344864,  0.04523635],\n",
       "       [ 9.34924316,  0.50493622,  5.41490698],\n",
       "       [11.63249207, -2.12454605,  5.34181404],\n",
       "       [ 2.61191559,  0.44134521, -0.30600357],\n",
       "       [ 3.40219879,  2.99209595, -3.35907173],\n",
       "       [ 4.34971619,  1.8795166 , -1.08093452],\n",
       "       [ 5.2413559 ,  2.44436646, -5.02647972],\n",
       "       [ 5.86489105,  5.0496521 , -5.36428165],\n",
       "       [ 6.52593994,  5.77299118, -4.80787659],\n",
       "       [ 7.43955994,  1.59344864,  0.04523635],\n",
       "       [ 9.34924316,  0.50493622,  5.41490698],\n",
       "       [11.63249207, -2.12454605,  5.34181404],\n",
       "       [ 2.61191559,  0.44134521, -0.30600357],\n",
       "       [ 3.40219879,  2.99209595, -3.35907173],\n",
       "       [ 4.34971619,  1.8795166 , -1.08093452],\n",
       "       [ 5.2413559 ,  2.44436646, -5.02647972],\n",
       "       [ 5.86489105,  5.0496521 , -5.36428165],\n",
       "       [ 6.52593994,  5.77299118, -4.80787659],\n",
       "       [ 7.43955994,  1.59344864,  0.04523635],\n",
       "       [ 9.34924316,  0.50493622,  5.41490698],\n",
       "       [11.63249207, -2.12454605,  5.34181404],\n",
       "       [ 2.61191559,  0.44134521, -0.30600357],\n",
       "       [ 3.40219879,  2.99209595, -3.35907173],\n",
       "       [ 4.34971619,  1.8795166 , -1.08093452],\n",
       "       [ 5.2413559 ,  2.44436646, -5.02647972],\n",
       "       [ 5.86489105,  5.0496521 , -5.36428165],\n",
       "       [ 6.52593994,  5.77299118, -4.80787659],\n",
       "       [ 7.43955994,  1.59344864,  0.04523635],\n",
       "       [ 9.34924316,  0.50493622,  5.41490698],\n",
       "       [11.63249207, -2.12454605,  5.34181404],\n",
       "       [ 2.61191559,  0.44134521, -0.30600357],\n",
       "       [ 3.40219879,  2.99209595, -3.35907173],\n",
       "       [ 4.34971619,  1.8795166 , -1.08093452],\n",
       "       [ 5.2413559 ,  2.44436646, -5.02647972],\n",
       "       [ 5.86489105,  5.0496521 , -5.36428165],\n",
       "       [ 6.52593994,  5.77299118, -4.80787659],\n",
       "       [ 7.43955994,  1.59344864,  0.04523635],\n",
       "       [ 9.34924316,  0.50493622,  5.41490698],\n",
       "       [11.63249207, -2.12454605,  5.34181404],\n",
       "       [ 2.61191559,  0.44134521, -0.30600357],\n",
       "       [ 3.40219879,  2.99209595, -3.35907173],\n",
       "       [ 4.34971619,  1.8795166 , -1.08093452],\n",
       "       [ 5.2413559 ,  2.44436646, -5.02647972],\n",
       "       [ 5.86489105,  5.0496521 , -5.36428165],\n",
       "       [ 6.52593994,  5.77299118, -4.80787659],\n",
       "       [ 7.43955994,  1.59344864,  0.04523635],\n",
       "       [ 9.34924316,  0.50493622,  5.41490698],\n",
       "       [11.63249207, -2.12454605,  5.34181404],\n",
       "       [ 2.61191559,  0.44134521, -0.30600357],\n",
       "       [ 3.40219879,  2.99209595, -3.35907173],\n",
       "       [ 4.34971619,  1.8795166 , -1.08093452],\n",
       "       [ 5.2413559 ,  2.44436646, -5.02647972],\n",
       "       [ 5.86489105,  5.0496521 , -5.36428165],\n",
       "       [ 6.52593994,  5.77299118, -4.80787659],\n",
       "       [ 7.43955994,  1.59344864,  0.04523635],\n",
       "       [ 9.34924316,  0.50493622,  5.41490698],\n",
       "       [11.63249207, -2.12454605,  5.34181404],\n",
       "       [ 2.61191559,  0.44134521, -0.30600357],\n",
       "       [ 3.40219879,  2.99209595, -3.35907173],\n",
       "       [ 4.34971619,  1.8795166 , -1.08093452],\n",
       "       [ 5.2413559 ,  2.44436646, -5.02647972],\n",
       "       [ 5.86489105,  5.0496521 , -5.36428165],\n",
       "       [ 6.52593994,  5.77299118, -4.80787659],\n",
       "       [ 7.43955994,  1.59344864,  0.04523635],\n",
       "       [ 9.34924316,  0.50493622,  5.41490698],\n",
       "       [11.63249207, -2.12454605,  5.34181404],\n",
       "       [ 2.61191559,  0.44134521, -0.30600357],\n",
       "       [ 3.40219879,  2.99209595, -3.35907173],\n",
       "       [ 4.34971619,  1.8795166 , -1.08093452],\n",
       "       [ 5.2413559 ,  2.44436646, -5.02647972],\n",
       "       [ 5.86489105,  5.0496521 , -5.36428165],\n",
       "       [ 6.52593994,  5.77299118, -4.80787659],\n",
       "       [ 7.43955994,  1.59344864,  0.04523635],\n",
       "       [ 9.34924316,  0.50493622,  5.41490698],\n",
       "       [11.63249207, -2.12454605,  5.34181404],\n",
       "       [ 2.61191559,  0.44134521, -0.30600357],\n",
       "       [ 3.40219879,  2.99209595, -3.35907173],\n",
       "       [ 4.34971619,  1.8795166 , -1.08093452],\n",
       "       [ 5.2413559 ,  2.44436646, -5.02647972],\n",
       "       [ 5.86489105,  5.0496521 , -5.36428165],\n",
       "       [ 6.52593994,  5.77299118, -4.80787659],\n",
       "       [ 7.43955994,  1.59344864,  0.04523635],\n",
       "       [ 9.34924316,  0.50493622,  5.41490698],\n",
       "       [11.63249207, -2.12454605,  5.34181404],\n",
       "       [ 2.61191559,  0.44134521, -0.30600357],\n",
       "       [ 3.40219879,  2.99209595, -3.35907173],\n",
       "       [ 4.34971619,  1.8795166 , -1.08093452],\n",
       "       [ 5.2413559 ,  2.44436646, -5.02647972],\n",
       "       [ 5.86489105,  5.0496521 , -5.36428165],\n",
       "       [ 6.52593994,  5.77299118, -4.80787659],\n",
       "       [ 7.43955994,  1.59344864,  0.04523635],\n",
       "       [ 9.34924316,  0.50493622,  5.41490698],\n",
       "       [11.63249207, -2.12454605,  5.34181404],\n",
       "       [ 2.61191559,  0.44134521, -0.30600357],\n",
       "       [ 3.40219879,  2.99209595, -3.35907173],\n",
       "       [ 4.34971619,  1.8795166 , -1.08093452],\n",
       "       [ 5.2413559 ,  2.44436646, -5.02647972],\n",
       "       [ 5.86489105,  5.0496521 , -5.36428165],\n",
       "       [ 6.52593994,  5.77299118, -4.80787659],\n",
       "       [ 7.43955994,  1.59344864,  0.04523635],\n",
       "       [ 9.34924316,  0.50493622,  5.41490698],\n",
       "       [11.63249207, -2.12454605,  5.34181404],\n",
       "       [ 2.61191559,  0.44134521, -0.30600357],\n",
       "       [ 3.40219879,  2.99209595, -3.35907173],\n",
       "       [ 4.34971619,  1.8795166 , -1.08093452],\n",
       "       [ 5.2413559 ,  2.44436646, -5.02647972],\n",
       "       [ 5.86489105,  5.0496521 , -5.36428165],\n",
       "       [ 6.52593994,  5.77299118, -4.80787659],\n",
       "       [ 7.43955994,  1.59344864,  0.04523635],\n",
       "       [ 9.34924316,  0.50493622,  5.41490698],\n",
       "       [11.63249207, -2.12454605,  5.34181404],\n",
       "       [ 2.61191559,  0.44134521, -0.30600357],\n",
       "       [ 3.40219879,  2.99209595, -3.35907173],\n",
       "       [ 4.34971619,  1.8795166 , -1.08093452],\n",
       "       [ 5.2413559 ,  2.44436646, -5.02647972],\n",
       "       [ 5.86489105,  5.0496521 , -5.36428165],\n",
       "       [ 6.52593994,  5.77299118, -4.80787659],\n",
       "       [ 7.43955994,  1.59344864,  0.04523635],\n",
       "       [ 9.34924316,  0.50493622,  5.41490698],\n",
       "       [11.63249207, -2.12454605,  5.34181404],\n",
       "       [ 2.61191559,  0.44134521, -0.30600357],\n",
       "       [ 3.40219879,  2.99209595, -3.35907173],\n",
       "       [ 4.34971619,  1.8795166 , -1.08093452],\n",
       "       [ 5.2413559 ,  2.44436646, -5.02647972],\n",
       "       [ 5.86489105,  5.0496521 , -5.36428165],\n",
       "       [ 6.52593994,  5.77299118, -4.80787659],\n",
       "       [ 7.43955994,  1.59344864,  0.04523635],\n",
       "       [ 9.34924316,  0.50493622,  5.41490698],\n",
       "       [11.63249207, -2.12454605,  5.34181404],\n",
       "       [ 2.61191559,  0.44134521, -0.30600357],\n",
       "       [ 3.40219879,  2.99209595, -3.35907173],\n",
       "       [ 4.34971619,  1.8795166 , -1.08093452],\n",
       "       [ 5.2413559 ,  2.44436646, -5.02647972],\n",
       "       [ 5.86489105,  5.0496521 , -5.36428165],\n",
       "       [ 6.52593994,  5.77299118, -4.80787659],\n",
       "       [ 7.43955994,  1.59344864,  0.04523635],\n",
       "       [ 9.34924316,  0.50493622,  5.41490698],\n",
       "       [11.63249207, -2.12454605,  5.34181404],\n",
       "       [ 2.61191559,  0.44134521, -0.30600357],\n",
       "       [ 3.40219879,  2.99209595, -3.35907173],\n",
       "       [ 4.34971619,  1.8795166 , -1.08093452],\n",
       "       [ 5.2413559 ,  2.44436646, -5.02647972],\n",
       "       [ 5.86489105,  5.0496521 , -5.36428165],\n",
       "       [ 6.52593994,  5.77299118, -4.80787659],\n",
       "       [ 7.43955994,  1.59344864,  0.04523635],\n",
       "       [ 9.34924316,  0.50493622,  5.41490698],\n",
       "       [11.63249207, -2.12454605,  5.34181404],\n",
       "       [ 2.61191559,  0.44134521, -0.30600357],\n",
       "       [ 3.40219879,  2.99209595, -3.35907173],\n",
       "       [ 4.34971619,  1.8795166 , -1.08093452],\n",
       "       [ 5.2413559 ,  2.44436646, -5.02647972],\n",
       "       [ 5.86489105,  5.0496521 , -5.36428165],\n",
       "       [ 6.52593994,  5.77299118, -4.80787659],\n",
       "       [ 7.43955994,  1.59344864,  0.04523635],\n",
       "       [ 9.34924316,  0.50493622,  5.41490698],\n",
       "       [11.63249207, -2.12454605,  5.34181404]])"
      ]
     },
     "execution_count": 117,
     "metadata": {},
     "output_type": "execute_result"
    }
   ],
   "source": [
    "err = tmp2-tmp\n",
    "err"
   ]
  },
  {
   "cell_type": "code",
   "execution_count": 118,
   "metadata": {},
   "outputs": [],
   "source": [
    "df = pd.DataFrame(tmp)\n",
    "#df.to_csv('/home/lab606a/ML/datasets/20200303/pred2.csv',index=0 ,header=0)"
   ]
  },
  {
   "cell_type": "code",
   "execution_count": 119,
   "metadata": {},
   "outputs": [],
   "source": [
    "df2 = pd.DataFrame(tmp2)\n",
    "#df2.to_csv('/home/lab606a/ML/datasets/20200303/yhat2.csv',index=0 ,header=0)"
   ]
  },
  {
   "cell_type": "code",
   "execution_count": 120,
   "metadata": {},
   "outputs": [],
   "source": [
    "#model.save('./saved model/prediction_up_9balls_20200303')"
   ]
  },
  {
   "cell_type": "code",
   "execution_count": null,
   "metadata": {},
   "outputs": [],
   "source": []
  }
 ],
 "metadata": {
  "kernelspec": {
   "display_name": "Python 3",
   "language": "python",
   "name": "python3"
  },
  "language_info": {
   "codemirror_mode": {
    "name": "ipython",
    "version": 3
   },
   "file_extension": ".py",
   "mimetype": "text/x-python",
   "name": "python",
   "nbconvert_exporter": "python",
   "pygments_lexer": "ipython3",
   "version": "3.6.9"
  }
 },
 "nbformat": 4,
 "nbformat_minor": 4
}
