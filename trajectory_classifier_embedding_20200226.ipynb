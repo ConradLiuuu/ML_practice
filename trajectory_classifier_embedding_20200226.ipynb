{
 "cells": [
  {
   "cell_type": "code",
   "execution_count": 24,
   "metadata": {},
   "outputs": [],
   "source": [
    "import pandas as pd\n",
    "import numpy as np"
   ]
  },
  {
   "cell_type": "code",
   "execution_count": 25,
   "metadata": {},
   "outputs": [],
   "source": [
    "from keras.preprocessing import sequence\n",
    "from keras.utils import np_utils"
   ]
  },
  {
   "cell_type": "code",
   "execution_count": 26,
   "metadata": {},
   "outputs": [],
   "source": [
    "from keras.models import Sequential\n",
    "from keras.layers import Dense, LSTM, Activation, Embedding"
   ]
  },
  {
   "cell_type": "code",
   "execution_count": 27,
   "metadata": {},
   "outputs": [],
   "source": [
    "import matplotlib.pyplot as plt"
   ]
  },
  {
   "cell_type": "code",
   "execution_count": 28,
   "metadata": {},
   "outputs": [],
   "source": [
    "dataset = pd.read_csv('/home/lab606a/Documents/datasets/20/dataset_20200225_20.csv', header=None)\n",
    "dataset = dataset.fillna(0)"
   ]
  },
  {
   "cell_type": "code",
   "execution_count": 29,
   "metadata": {},
   "outputs": [
    {
     "data": {
      "text/plain": [
       "(3541, 61)"
      ]
     },
     "execution_count": 29,
     "metadata": {},
     "output_type": "execute_result"
    }
   ],
   "source": [
    "dataset = np.array(dataset)\n",
    "dataset.shape"
   ]
  },
  {
   "cell_type": "code",
   "execution_count": 30,
   "metadata": {},
   "outputs": [
    {
     "data": {
      "text/plain": [
       "(3541, 60)"
      ]
     },
     "execution_count": 30,
     "metadata": {},
     "output_type": "execute_result"
    }
   ],
   "source": [
    "x_train = dataset[:,1:]\n",
    "x_train.shape"
   ]
  },
  {
   "cell_type": "code",
   "execution_count": 31,
   "metadata": {},
   "outputs": [
    {
     "data": {
      "text/plain": [
       "array([109.664 , 294.622 ,  45.0965, 110.192 , 282.404 ,  47.4984,\n",
       "       111.107 , 269.696 ,  49.2127, 111.482 , 260.113 ,  50.2191,\n",
       "       111.643 , 248.745 ,  51.296 , 112.2   , 237.027 ,  51.326 ,\n",
       "       112.043 , 225.891 ,  51.8066, 112.49  , 214.447 ,  51.3245,\n",
       "       112.189 , 202.743 ,  51.0245, 112.261 , 192.615 ,  49.1206,\n",
       "       112.268 , 184.497 ,  48.014 , 111.576 , 172.081 ,  47.102 ,\n",
       "       111.44  , 162.644 ,  44.0185, 110.644 , 151.474 ,  42.5254,\n",
       "       110.499 , 142.259 ,  38.5546, 110.002 , 135.266 ,  35.5504,\n",
       "       108.93  , 123.644 ,  33.6674, 108.445 , 116.048 ,  28.0565,\n",
       "       106.982 , 105.372 ,  25.6818, 106.551 ,  96.736 ,  19.4987])"
      ]
     },
     "execution_count": 31,
     "metadata": {},
     "output_type": "execute_result"
    }
   ],
   "source": [
    "x_train[0,:]"
   ]
  },
  {
   "cell_type": "code",
   "execution_count": 32,
   "metadata": {},
   "outputs": [],
   "source": [
    "x_train = x_train.astype('float32')"
   ]
  },
  {
   "cell_type": "code",
   "execution_count": 33,
   "metadata": {},
   "outputs": [
    {
     "data": {
      "text/plain": [
       "(3541,)"
      ]
     },
     "execution_count": 33,
     "metadata": {},
     "output_type": "execute_result"
    }
   ],
   "source": [
    "y_train = dataset[:,0]\n",
    "#y_train = y_train.reshape(x_train.shape[0], 1)\n",
    "y_train.shape"
   ]
  },
  {
   "cell_type": "code",
   "execution_count": 34,
   "metadata": {},
   "outputs": [
    {
     "data": {
      "text/plain": [
       "array([1, 1, 1, ..., 0, 0, 0])"
      ]
     },
     "execution_count": 34,
     "metadata": {},
     "output_type": "execute_result"
    }
   ],
   "source": [
    "y_train = y_train.astype('int')\n",
    "y_train"
   ]
  },
  {
   "cell_type": "code",
   "execution_count": 35,
   "metadata": {},
   "outputs": [
    {
     "data": {
      "text/plain": [
       "60"
      ]
     },
     "execution_count": 35,
     "metadata": {},
     "output_type": "execute_result"
    }
   ],
   "source": [
    "maxlen = x_train.shape[1]\n",
    "maxlen"
   ]
  },
  {
   "cell_type": "code",
   "execution_count": 36,
   "metadata": {},
   "outputs": [],
   "source": [
    "#x_train = x_train.reshape(12, 126)"
   ]
  },
  {
   "cell_type": "code",
   "execution_count": 37,
   "metadata": {},
   "outputs": [],
   "source": [
    "n_classes = 4"
   ]
  },
  {
   "cell_type": "code",
   "execution_count": 38,
   "metadata": {},
   "outputs": [
    {
     "data": {
      "text/plain": [
       "(3541, 4)"
      ]
     },
     "execution_count": 38,
     "metadata": {},
     "output_type": "execute_result"
    }
   ],
   "source": [
    "y_train = np_utils.to_categorical(y_train, 4)\n",
    "y_train.shape"
   ]
  },
  {
   "cell_type": "code",
   "execution_count": 39,
   "metadata": {},
   "outputs": [],
   "source": [
    "model = Sequential()\n",
    "model.add(Embedding(1000, 32, input_length=maxlen))\n",
    "model.add(LSTM(units=128, activation='tanh', unroll=True, return_sequences=True))\n",
    "model.add(LSTM(units=64, activation='tanh', unroll=True, return_sequences=True))\n",
    "model.add(LSTM(units=32, activation='tanh', unroll=True, return_sequences=True))\n",
    "model.add(LSTM(units=16, activation='tanh', unroll=True))\n",
    "model.add(Dense(units=n_classes, activation='softmax'))\n",
    "model.compile(loss='categorical_crossentropy', optimizer='adam', metrics=['accuracy'])"
   ]
  },
  {
   "cell_type": "code",
   "execution_count": 40,
   "metadata": {},
   "outputs": [
    {
     "name": "stdout",
     "output_type": "stream",
     "text": [
      "_________________________________________________________________\n",
      "Layer (type)                 Output Shape              Param #   \n",
      "=================================================================\n",
      "embedding_2 (Embedding)      (None, 60, 32)            32000     \n",
      "_________________________________________________________________\n",
      "lstm_5 (LSTM)                (None, 60, 128)           82432     \n",
      "_________________________________________________________________\n",
      "lstm_6 (LSTM)                (None, 60, 64)            49408     \n",
      "_________________________________________________________________\n",
      "lstm_7 (LSTM)                (None, 60, 32)            12416     \n",
      "_________________________________________________________________\n",
      "lstm_8 (LSTM)                (None, 16)                3136      \n",
      "_________________________________________________________________\n",
      "dense_2 (Dense)              (None, 4)                 68        \n",
      "=================================================================\n",
      "Total params: 179,460\n",
      "Trainable params: 179,460\n",
      "Non-trainable params: 0\n",
      "_________________________________________________________________\n"
     ]
    }
   ],
   "source": [
    "model.summary()"
   ]
  },
  {
   "cell_type": "code",
   "execution_count": 41,
   "metadata": {
    "scrolled": true
   },
   "outputs": [
    {
     "name": "stdout",
     "output_type": "stream",
     "text": [
      "Epoch 1/100\n",
      "3541/3541 [==============================] - 41s 12ms/step - loss: 1.2740 - acc: 0.3883\n",
      "Epoch 2/100\n",
      "3541/3541 [==============================] - 6s 2ms/step - loss: 1.0923 - acc: 0.4959\n",
      "Epoch 3/100\n",
      "3541/3541 [==============================] - 6s 2ms/step - loss: 0.9548 - acc: 0.5854\n",
      "Epoch 4/100\n",
      "3541/3541 [==============================] - 6s 2ms/step - loss: 0.8332 - acc: 0.6504\n",
      "Epoch 5/100\n",
      "3541/3541 [==============================] - 6s 2ms/step - loss: 0.7347 - acc: 0.6944\n",
      "Epoch 6/100\n",
      "3541/3541 [==============================] - 6s 2ms/step - loss: 0.6692 - acc: 0.7241\n",
      "Epoch 7/100\n",
      "3541/3541 [==============================] - 6s 2ms/step - loss: 0.5976 - acc: 0.7444\n",
      "Epoch 8/100\n",
      "3541/3541 [==============================] - 6s 2ms/step - loss: 0.5281 - acc: 0.7936\n",
      "Epoch 9/100\n",
      "3541/3541 [==============================] - 6s 2ms/step - loss: 0.4808 - acc: 0.8187\n",
      "Epoch 10/100\n",
      "3541/3541 [==============================] - 6s 2ms/step - loss: 0.4396 - acc: 0.8331\n",
      "Epoch 11/100\n",
      "3541/3541 [==============================] - 6s 2ms/step - loss: 0.3824 - acc: 0.8571\n",
      "Epoch 12/100\n",
      "3541/3541 [==============================] - 6s 2ms/step - loss: 0.3341 - acc: 0.8797\n",
      "Epoch 13/100\n",
      "3541/3541 [==============================] - 6s 2ms/step - loss: 0.3235 - acc: 0.8814\n",
      "Epoch 14/100\n",
      "3541/3541 [==============================] - 6s 2ms/step - loss: 0.3285 - acc: 0.8788\n",
      "Epoch 15/100\n",
      "3541/3541 [==============================] - 6s 2ms/step - loss: 0.2886 - acc: 0.8944\n",
      "Epoch 16/100\n",
      "3541/3541 [==============================] - 6s 2ms/step - loss: 0.2697 - acc: 0.9026\n",
      "Epoch 17/100\n",
      "3541/3541 [==============================] - 6s 2ms/step - loss: 0.2721 - acc: 0.8944\n",
      "Epoch 18/100\n",
      "3541/3541 [==============================] - 6s 2ms/step - loss: 0.1896 - acc: 0.9401\n",
      "Epoch 19/100\n",
      "3541/3541 [==============================] - 6s 2ms/step - loss: 0.2101 - acc: 0.9209\n",
      "Epoch 20/100\n",
      "3541/3541 [==============================] - 6s 2ms/step - loss: 0.1995 - acc: 0.9283\n",
      "Epoch 21/100\n",
      "3541/3541 [==============================] - 6s 2ms/step - loss: 0.1895 - acc: 0.9294\n",
      "Epoch 22/100\n",
      "3541/3541 [==============================] - 6s 2ms/step - loss: 0.1831 - acc: 0.9308\n",
      "Epoch 23/100\n",
      "3541/3541 [==============================] - 6s 2ms/step - loss: 0.1239 - acc: 0.9574\n",
      "Epoch 24/100\n",
      "3541/3541 [==============================] - 6s 2ms/step - loss: 0.1243 - acc: 0.9562\n",
      "Epoch 25/100\n",
      "3541/3541 [==============================] - 6s 2ms/step - loss: 0.1291 - acc: 0.9582\n",
      "Epoch 26/100\n",
      "3541/3541 [==============================] - 6s 2ms/step - loss: 0.1998 - acc: 0.9274\n",
      "Epoch 27/100\n",
      "3541/3541 [==============================] - 6s 2ms/step - loss: 0.1091 - acc: 0.9647\n",
      "Epoch 28/100\n",
      "3541/3541 [==============================] - 6s 2ms/step - loss: 0.0996 - acc: 0.9661\n",
      "Epoch 29/100\n",
      "3541/3541 [==============================] - 6s 2ms/step - loss: 0.0940 - acc: 0.9672\n",
      "Epoch 30/100\n",
      "3541/3541 [==============================] - 6s 2ms/step - loss: 0.0813 - acc: 0.9735\n",
      "Epoch 31/100\n",
      "3541/3541 [==============================] - 6s 2ms/step - loss: 0.0523 - acc: 0.9819\n",
      "Epoch 32/100\n",
      "3541/3541 [==============================] - 6s 2ms/step - loss: 0.0793 - acc: 0.9740\n",
      "Epoch 33/100\n",
      "3541/3541 [==============================] - 6s 2ms/step - loss: 0.0571 - acc: 0.9808\n",
      "Epoch 34/100\n",
      "3541/3541 [==============================] - 6s 2ms/step - loss: 0.0798 - acc: 0.9701\n",
      "Epoch 35/100\n",
      "3541/3541 [==============================] - 6s 2ms/step - loss: 0.1201 - acc: 0.9585\n",
      "Epoch 36/100\n",
      "3541/3541 [==============================] - 6s 2ms/step - loss: 0.1253 - acc: 0.9506\n",
      "Epoch 37/100\n",
      "3541/3541 [==============================] - 6s 2ms/step - loss: 0.0843 - acc: 0.9712\n",
      "Epoch 38/100\n",
      "3541/3541 [==============================] - 6s 2ms/step - loss: 0.0448 - acc: 0.9856\n",
      "Epoch 39/100\n",
      "3541/3541 [==============================] - 6s 2ms/step - loss: 0.0453 - acc: 0.9842\n",
      "Epoch 40/100\n",
      "3541/3541 [==============================] - 6s 2ms/step - loss: 0.0262 - acc: 0.9941\n",
      "Epoch 41/100\n",
      "3541/3541 [==============================] - 6s 2ms/step - loss: 0.0309 - acc: 0.9910\n",
      "Epoch 42/100\n",
      "3541/3541 [==============================] - 6s 2ms/step - loss: 0.0629 - acc: 0.9802\n",
      "Epoch 43/100\n",
      "3541/3541 [==============================] - 6s 2ms/step - loss: 0.0433 - acc: 0.9867\n",
      "Epoch 44/100\n",
      "3541/3541 [==============================] - 6s 2ms/step - loss: 0.0776 - acc: 0.9720\n",
      "Epoch 45/100\n",
      "3541/3541 [==============================] - 6s 2ms/step - loss: 0.0634 - acc: 0.9788\n",
      "Epoch 46/100\n",
      "3541/3541 [==============================] - 6s 2ms/step - loss: 0.0250 - acc: 0.9927\n",
      "Epoch 47/100\n",
      "3541/3541 [==============================] - 6s 2ms/step - loss: 0.0343 - acc: 0.9884\n",
      "Epoch 48/100\n",
      "3541/3541 [==============================] - 6s 2ms/step - loss: 0.0358 - acc: 0.9893\n",
      "Epoch 49/100\n",
      "3541/3541 [==============================] - 6s 2ms/step - loss: 0.0616 - acc: 0.9788\n",
      "Epoch 50/100\n",
      "3541/3541 [==============================] - 6s 2ms/step - loss: 0.0225 - acc: 0.9941\n",
      "Epoch 51/100\n",
      "3541/3541 [==============================] - 6s 2ms/step - loss: 0.0361 - acc: 0.9884\n",
      "Epoch 52/100\n",
      "3541/3541 [==============================] - 6s 2ms/step - loss: 0.0687 - acc: 0.9757\n",
      "Epoch 53/100\n",
      "3541/3541 [==============================] - 6s 2ms/step - loss: 0.0513 - acc: 0.9831\n",
      "Epoch 54/100\n",
      "3541/3541 [==============================] - 6s 2ms/step - loss: 0.0410 - acc: 0.9867\n",
      "Epoch 55/100\n",
      "3541/3541 [==============================] - 6s 2ms/step - loss: 0.0267 - acc: 0.9921\n",
      "Epoch 56/100\n",
      "3541/3541 [==============================] - 6s 2ms/step - loss: 0.0427 - acc: 0.9867\n",
      "Epoch 57/100\n",
      "3541/3541 [==============================] - 6s 2ms/step - loss: 0.0748 - acc: 0.9737\n",
      "Epoch 58/100\n",
      "3541/3541 [==============================] - 6s 2ms/step - loss: 0.0457 - acc: 0.9845\n",
      "Epoch 59/100\n",
      "3541/3541 [==============================] - 6s 2ms/step - loss: 0.0673 - acc: 0.9760\n",
      "Epoch 60/100\n",
      "3541/3541 [==============================] - 6s 2ms/step - loss: 0.2305 - acc: 0.9288\n",
      "Epoch 61/100\n",
      "3541/3541 [==============================] - 6s 2ms/step - loss: 0.0877 - acc: 0.9698\n",
      "Epoch 62/100\n",
      "3541/3541 [==============================] - 6s 2ms/step - loss: 0.0300 - acc: 0.9912\n",
      "Epoch 63/100\n",
      "3541/3541 [==============================] - 6s 2ms/step - loss: 0.0113 - acc: 0.9975\n",
      "Epoch 64/100\n",
      "3541/3541 [==============================] - 6s 2ms/step - loss: 0.0054 - acc: 0.9997\n",
      "Epoch 65/100\n",
      "3541/3541 [==============================] - 6s 2ms/step - loss: 0.0040 - acc: 0.9997\n",
      "Epoch 66/100\n",
      "3541/3541 [==============================] - 6s 2ms/step - loss: 0.0031 - acc: 0.9997\n",
      "Epoch 67/100\n",
      "3541/3541 [==============================] - 6s 2ms/step - loss: 0.0024 - acc: 1.0000\n",
      "Epoch 68/100\n",
      "3541/3541 [==============================] - 6s 2ms/step - loss: 0.0021 - acc: 1.0000\n",
      "Epoch 69/100\n",
      "3541/3541 [==============================] - 6s 2ms/step - loss: 0.0018 - acc: 1.0000\n",
      "Epoch 70/100\n",
      "3541/3541 [==============================] - 6s 2ms/step - loss: 0.0017 - acc: 1.0000\n",
      "Epoch 71/100\n",
      "3541/3541 [==============================] - 6s 2ms/step - loss: 0.0015 - acc: 1.0000\n",
      "Epoch 72/100\n",
      "3541/3541 [==============================] - 6s 2ms/step - loss: 0.0014 - acc: 1.0000\n",
      "Epoch 73/100\n",
      "3541/3541 [==============================] - 6s 2ms/step - loss: 0.0013 - acc: 1.0000\n",
      "Epoch 74/100\n",
      "3541/3541 [==============================] - 6s 2ms/step - loss: 0.0012 - acc: 1.0000\n",
      "Epoch 75/100\n",
      "3541/3541 [==============================] - 6s 2ms/step - loss: 0.0011 - acc: 1.0000\n",
      "Epoch 76/100\n",
      "3541/3541 [==============================] - 6s 2ms/step - loss: 0.0011 - acc: 1.0000\n",
      "Epoch 77/100\n",
      "3541/3541 [==============================] - 6s 2ms/step - loss: 0.0010 - acc: 1.0000\n",
      "Epoch 78/100\n",
      "3541/3541 [==============================] - 6s 2ms/step - loss: 9.6193e-04 - acc: 1.0000\n",
      "Epoch 79/100\n",
      "3541/3541 [==============================] - 6s 2ms/step - loss: 9.1104e-04 - acc: 1.0000\n",
      "Epoch 80/100\n",
      "3541/3541 [==============================] - 6s 2ms/step - loss: 8.6544e-04 - acc: 1.0000\n",
      "Epoch 81/100\n",
      "3541/3541 [==============================] - 6s 2ms/step - loss: 8.2223e-04 - acc: 1.0000\n",
      "Epoch 82/100\n",
      "3541/3541 [==============================] - 6s 2ms/step - loss: 7.8352e-04 - acc: 1.0000\n",
      "Epoch 83/100\n"
     ]
    },
    {
     "name": "stdout",
     "output_type": "stream",
     "text": [
      "3541/3541 [==============================] - 6s 2ms/step - loss: 7.4787e-04 - acc: 1.0000\n",
      "Epoch 84/100\n",
      "3541/3541 [==============================] - 6s 2ms/step - loss: 7.1441e-04 - acc: 1.0000\n",
      "Epoch 85/100\n",
      "3541/3541 [==============================] - 6s 2ms/step - loss: 6.8342e-04 - acc: 1.0000\n",
      "Epoch 86/100\n",
      "3541/3541 [==============================] - 6s 2ms/step - loss: 6.5449e-04 - acc: 1.0000\n",
      "Epoch 87/100\n",
      "3541/3541 [==============================] - 6s 2ms/step - loss: 6.2676e-04 - acc: 1.0000\n",
      "Epoch 88/100\n",
      "3541/3541 [==============================] - 6s 2ms/step - loss: 6.0201e-04 - acc: 1.0000\n",
      "Epoch 89/100\n",
      "3541/3541 [==============================] - 6s 2ms/step - loss: 5.7779e-04 - acc: 1.0000\n",
      "Epoch 90/100\n",
      "3541/3541 [==============================] - 6s 2ms/step - loss: 5.5486e-04 - acc: 1.0000\n",
      "Epoch 91/100\n",
      "3541/3541 [==============================] - 6s 2ms/step - loss: 5.3419e-04 - acc: 1.0000\n",
      "Epoch 92/100\n",
      "3541/3541 [==============================] - 6s 2ms/step - loss: 5.1362e-04 - acc: 1.0000\n",
      "Epoch 93/100\n",
      "3541/3541 [==============================] - 6s 2ms/step - loss: 4.9463e-04 - acc: 1.0000\n",
      "Epoch 94/100\n",
      "3541/3541 [==============================] - 6s 2ms/step - loss: 4.7654e-04 - acc: 1.0000\n",
      "Epoch 95/100\n",
      "3541/3541 [==============================] - 6s 2ms/step - loss: 4.5931e-04 - acc: 1.0000\n",
      "Epoch 96/100\n",
      "3541/3541 [==============================] - 6s 2ms/step - loss: 4.4310e-04 - acc: 1.0000\n",
      "Epoch 97/100\n",
      "3541/3541 [==============================] - 6s 2ms/step - loss: 4.2744e-04 - acc: 1.0000\n",
      "Epoch 98/100\n",
      "3541/3541 [==============================] - 6s 2ms/step - loss: 4.1262e-04 - acc: 1.0000\n",
      "Epoch 99/100\n",
      "3541/3541 [==============================] - 6s 2ms/step - loss: 3.9858e-04 - acc: 1.0000\n",
      "Epoch 100/100\n",
      "3541/3541 [==============================] - 6s 2ms/step - loss: 3.8487e-04 - acc: 1.0000\n"
     ]
    }
   ],
   "source": [
    "batch_size = 64\n",
    "training_iters = 100\n",
    "history = model.fit(x_train, y_train, batch_size=batch_size, epochs=training_iters, shuffle=True)"
   ]
  },
  {
   "cell_type": "code",
   "execution_count": 42,
   "metadata": {},
   "outputs": [
    {
     "data": {
      "image/png": "[encoded data removed]",
      "text/plain": [
       "<Figure size 432x288 with 1 Axes>"
      ]
     },
     "metadata": {
      "needs_background": "light"
     },
     "output_type": "display_data"
    }
   ],
   "source": [
    "# summarize history for accuracy\n",
    "plt.plot(history.history['acc'])\n",
    "#plt.plot(history.history['val_accuracy'])\n",
    "plt.title('model accuracy')\n",
    "plt.ylabel('accuracy')\n",
    "plt.xlabel('epoch')\n",
    "plt.legend(['train', 'test'], loc='upper left')\n",
    "plt.show()"
   ]
  },
  {
   "cell_type": "code",
   "execution_count": 43,
   "metadata": {},
   "outputs": [
    {
     "data": {
      "image/png": "[encoded data removed]",
      "text/plain": [
       "<Figure size 432x288 with 1 Axes>"
      ]
     },
     "metadata": {
      "needs_background": "light"
     },
     "output_type": "display_data"
    }
   ],
   "source": [
    "# summarize history for loss\n",
    "plt.plot(history.history['loss'])\n",
    "#plt.plot(history.history['val_loss'])\n",
    "plt.title('model loss')\n",
    "plt.ylabel('loss')\n",
    "plt.xlabel('epoch')\n",
    "plt.legend(['train', 'test'], loc='upper left')\n",
    "plt.show()"
   ]
  },
  {
   "cell_type": "code",
   "execution_count": 44,
   "metadata": {},
   "outputs": [
    {
     "data": {
      "text/plain": [
       "(83, 105)"
      ]
     },
     "execution_count": 44,
     "metadata": {},
     "output_type": "execute_result"
    }
   ],
   "source": [
    "test_up = pd.read_csv('/home/lab606a/Documents/datasets/up_speed5_test.csv', header=None)\n",
    "test_up = test_up.fillna(0)\n",
    "test_up = np.array(test_up)\n",
    "test_up.shape"
   ]
  },
  {
   "cell_type": "code",
   "execution_count": 45,
   "metadata": {},
   "outputs": [
    {
     "data": {
      "text/plain": [
       "(83, 60)"
      ]
     },
     "execution_count": 45,
     "metadata": {},
     "output_type": "execute_result"
    }
   ],
   "source": [
    "test_up = sequence.pad_sequences(test_up, maxlen=maxlen, padding='post')\n",
    "test_up.shape"
   ]
  },
  {
   "cell_type": "code",
   "execution_count": 26,
   "metadata": {
    "scrolled": true
   },
   "outputs": [
    {
     "name": "stdout",
     "output_type": "stream",
     "text": [
      "[[0.47606918 0.00187673 0.52137053 0.00068356]\n",
      " [0.52607214 0.00142529 0.47170657 0.00079594]\n",
      " [0.793891   0.00169342 0.20405322 0.0003624 ]\n",
      " [0.69706774 0.00099665 0.3012615  0.00067409]\n",
      " [0.9994288  0.00003997 0.00035114 0.00017999]\n",
      " [0.9981394  0.0000545  0.00099261 0.00081353]\n",
      " [0.8809725  0.00104615 0.11768147 0.00029987]\n",
      " [0.04744756 0.00072893 0.9479527  0.0038707 ]\n",
      " [0.9994222  0.00004384 0.00037359 0.00016041]\n",
      " [0.9673361  0.00039783 0.03172136 0.00054474]\n",
      " [0.13951457 0.15777117 0.70203024 0.00068395]\n",
      " [0.9993505  0.00005112 0.00046659 0.0001318 ]\n",
      " [0.9992149  0.00005832 0.0005891  0.00013758]\n",
      " [0.9992755  0.00004142 0.00043517 0.00024784]\n",
      " [0.998544   0.00004874 0.00079228 0.00061504]\n",
      " [0.99943334 0.00004144 0.00035158 0.0001736 ]\n",
      " [0.99942756 0.00004694 0.00040059 0.00012495]\n",
      " [0.99851936 0.00004904 0.00080532 0.0006263 ]\n",
      " [0.9991429  0.00004186 0.00050038 0.00031494]\n",
      " [0.9982158  0.00009101 0.00155729 0.00013587]\n",
      " [0.9994343  0.00004254 0.00035837 0.0001648 ]\n",
      " [0.96119565 0.00717483 0.03116133 0.00046818]\n",
      " [0.9990823  0.00006256 0.00073075 0.00012434]\n",
      " [0.9994234  0.00004705 0.00039995 0.00012968]\n",
      " [0.99942905 0.00004587 0.00038226 0.00014276]\n",
      " [0.99927    0.00005952 0.00054882 0.00012164]\n",
      " [0.999131   0.000042   0.00050661 0.00032033]\n",
      " [0.9990742  0.0000796  0.00070946 0.00013678]\n",
      " [0.98853314 0.00181377 0.00936821 0.00028492]\n",
      " [0.9994357  0.00004527 0.00037957 0.00013945]\n",
      " [0.99942917 0.00004626 0.00038984 0.00013473]\n",
      " [0.99839765 0.00005084 0.00086402 0.00068757]\n",
      " [0.9993038  0.00005604 0.00051715 0.00012307]\n",
      " [0.99752134 0.00025657 0.00206086 0.00016118]\n",
      " [0.99938667 0.00004074 0.00037317 0.00019942]\n",
      " [0.00233715 0.9768149  0.02062242 0.00022553]\n",
      " [0.9994305  0.000041   0.00035055 0.00017794]\n",
      " [0.28099486 0.5185016  0.19970508 0.00079847]\n",
      " [0.99924326 0.00005837 0.00057866 0.00011976]\n",
      " [0.99934465 0.00004061 0.00039452 0.00022014]\n",
      " [0.9993949  0.00004112 0.00037099 0.00019299]\n",
      " [0.99938285 0.00004066 0.00037475 0.00020175]\n",
      " [0.9991817  0.00006683 0.00063048 0.00012103]\n",
      " [0.9994172  0.00004144 0.00036054 0.00018088]\n",
      " [0.9988845  0.00004408 0.00062919 0.00044228]\n",
      " [0.9991266  0.00004211 0.00050962 0.00032167]\n",
      " [0.9992335  0.00004789 0.00051762 0.00020098]\n",
      " [0.00633661 0.0003346  0.98942345 0.00390538]\n",
      " [0.998968   0.00004349 0.00058875 0.00039975]\n",
      " [0.9993687  0.00004986 0.00043467 0.00014677]\n",
      " [0.99939024 0.00004943 0.00040766 0.0001526 ]\n",
      " [0.99778336 0.0002222  0.00182711 0.0001674 ]\n",
      " [0.99940133 0.00004581 0.0003916  0.00016128]\n",
      " [0.9993938  0.00004242 0.00037875 0.00018502]\n",
      " [0.99942446 0.00004202 0.0003607  0.00017279]\n",
      " [0.9994024  0.00004816 0.00040383 0.00014565]\n",
      " [0.5764328  0.00564543 0.41695476 0.00096697]\n",
      " [0.9994236  0.00004364 0.0003705  0.00016234]\n",
      " [0.99939144 0.00005047 0.00042207 0.00013602]\n",
      " [0.99938273 0.00004161 0.00037994 0.00019577]\n",
      " [0.77585316 0.01724176 0.20638841 0.00051661]\n",
      " [0.9994234  0.00004347 0.00036928 0.0001639 ]\n",
      " [0.9986964  0.00004646 0.00072014 0.00053704]\n",
      " [0.99888366 0.00006261 0.00084161 0.00021214]\n",
      " [0.99938107 0.00004205 0.00038354 0.00019334]\n",
      " [0.99846894 0.00014736 0.001233   0.00015068]\n",
      " [0.99787354 0.00021889 0.00174813 0.00015941]\n",
      " [0.9994186  0.00004237 0.00036478 0.00017425]\n",
      " [0.99941874 0.00004606 0.00039258 0.00014259]\n",
      " [0.9986946  0.00005354 0.00084542 0.00040646]\n",
      " [0.9942524  0.00015088 0.00489183 0.00070485]\n",
      " [0.9993175  0.00005818 0.00050098 0.00012334]\n",
      " [0.99928683 0.00004165 0.00042957 0.00024196]\n",
      " [0.9993697  0.00004528 0.00042133 0.00016377]\n",
      " [0.99939287 0.0000496  0.00041469 0.00014292]\n",
      " [0.00040906 0.99058306 0.00883979 0.00016814]\n",
      " [0.99942374 0.00004226 0.00036191 0.00017201]\n",
      " [0.99916935 0.00004155 0.00048642 0.00030265]\n",
      " [0.99863535 0.00004737 0.00075053 0.00056674]\n",
      " [0.99755764 0.00019356 0.00210153 0.00014723]\n",
      " [0.9988815  0.00004412 0.00063087 0.00044342]\n",
      " [0.99942756 0.00004175 0.00035569 0.00017506]\n",
      " [0.9994247  0.000042   0.00035992 0.00017335]]\n"
     ]
    }
   ],
   "source": [
    "pred = model.predict(test_up)\n",
    "np.set_printoptions(suppress=True)\n",
    "print(pred)"
   ]
  },
  {
   "cell_type": "code",
   "execution_count": null,
   "metadata": {},
   "outputs": [],
   "source": [
    "'''\n",
    "vali = model.predict(x_train)\n",
    "print(\"training up:\\n\", vali[0:4,:])\n",
    "print(\"training right:\\n\", vali[4:8,:])\n",
    "print(\"training down:\\n\", vali[8:12,:])\n",
    "'''"
   ]
  },
  {
   "cell_type": "code",
   "execution_count": 46,
   "metadata": {},
   "outputs": [],
   "source": [
    "#model.save('./saved model/classifier20200226_20')"
   ]
  },
  {
   "cell_type": "code",
   "execution_count": null,
   "metadata": {},
   "outputs": [],
   "source": [
    "'''\n",
    "maxlen = 42*3\n",
    "\n",
    "up_test = np.array(pd.read_csv('./trajectory/up_len37_2.csv'))\n",
    "right_test = np.array(pd.read_csv('./trajectory/right_len38.csv'))\n",
    "down_test = np.array(pd.read_csv('./trajectory/down_len38.csv'))\n",
    "\n",
    "#35\n",
    "#38\n",
    "#38\n",
    "\n",
    "up_test1 = up_test\n",
    "right_test1 = right_test\n",
    "down_test1 = down_test\n",
    "\n",
    "up_test1 = np.reshape(up_test1,(1,up_test1.shape[0]*up_test1.shape[1]))\n",
    "right_test1 = np.reshape(right_test1,(1,right_test1.shape[0]*right_test1.shape[1]))\n",
    "down_test1 = np.reshape(down_test1,(1,down_test1.shape[0]*down_test1.shape[1]))\n",
    "\n",
    "up_test1 = sequence.pad_sequences(up_test1, maxlen=maxlen, padding='post')\n",
    "right_test1 = sequence.pad_sequences(right_test1, maxlen=maxlen, padding='post')\n",
    "down_test1 = sequence.pad_sequences(down_test1, maxlen=maxlen, padding='post')\n",
    "\n",
    "#up_test = np.reshape(up_test,(int(up_test.shape[1]/3),3))\n",
    "#right_test = np.reshape(right_test,(int(right_test.shape[1]/3),3))\n",
    "#down_test = np.reshape(down_test,(int(down_test.shape[1]/3),3))\n",
    "right_test1.shape\n",
    "'''"
   ]
  },
  {
   "cell_type": "code",
   "execution_count": null,
   "metadata": {},
   "outputs": [],
   "source": [
    "'''\n",
    "# 80epoch\n",
    "pred_up = model.predict(up_test1)\n",
    "pred_right = model.predict(right_test1)\n",
    "pred_down = model.predict(down_test1)\n",
    "\n",
    "np.set_printoptions(suppress=True)\n",
    "print(pred_up)\n",
    "print(pred_right)\n",
    "print(pred_down)\n",
    "'''"
   ]
  },
  {
   "cell_type": "code",
   "execution_count": null,
   "metadata": {},
   "outputs": [],
   "source": [
    "'''\n",
    "## top spin\n",
    "for i in range(3,91,3):\n",
    "    up_test5 = up_test[:i,:]\n",
    "    up_test5 = np.reshape(up_test5,(1,up_test5.shape[0]*up_test5.shape[1]))\n",
    "    up_test5 = sequence.pad_sequences(up_test5, maxlen=maxlen, padding='post')\n",
    "    \n",
    "    pred_up5 = model.predict(up_test5)\n",
    "    \n",
    "    #print(\"i = %d, probability = %f\" , (i,pred_up5))\n",
    "    print(\"number of balls =\", int(i/3), \", probability =\", pred_up5)\n",
    "    if max(pred_up5[0,:]) == pred_up5[:,0]:\n",
    "        print(\"top spin\")\n",
    "    elif max(pred_up5[0,:]) == pred_up5[:,1]:\n",
    "        print(\"right spin\")\n",
    "    else:\n",
    "        print(\"back spin\")\n",
    "'''"
   ]
  },
  {
   "cell_type": "code",
   "execution_count": null,
   "metadata": {},
   "outputs": [],
   "source": [
    "'''\n",
    "## right spin\n",
    "for i in range(3,91,3):\n",
    "    up_test5 = right_test[:i,:]\n",
    "    up_test5 = np.reshape(up_test5,(1,up_test5.shape[0]*up_test5.shape[1]))\n",
    "    up_test5 = sequence.pad_sequences(up_test5, maxlen=maxlen, padding='post')\n",
    "    \n",
    "    pred_up5 = model.predict(up_test5)\n",
    "    \n",
    "    #print(\"i = %d, probability = %f\" , (i,pred_up5))\n",
    "    print(\"number of balls =\", int(i/3), \", probability =\", pred_up5)\n",
    "    if max(pred_up5[0,:]) == pred_up5[:,0]:\n",
    "        print(\"top spin\")\n",
    "    elif max(pred_up5[0,:]) == pred_up5[:,1]:\n",
    "        print(\"right spin\")\n",
    "    else:\n",
    "        print(\"back spin\")\n",
    "'''"
   ]
  },
  {
   "cell_type": "code",
   "execution_count": null,
   "metadata": {},
   "outputs": [],
   "source": [
    "'''\n",
    "## dwon spin\n",
    "for i in range(3,91,3):\n",
    "    up_test5 = down_test[:i,:]\n",
    "    up_test5 = np.reshape(up_test5,(1,up_test5.shape[0]*up_test5.shape[1]))\n",
    "    up_test5 = sequence.pad_sequences(up_test5, maxlen=maxlen, padding='post')\n",
    "    \n",
    "    pred_up5 = model.predict(up_test5)\n",
    "    \n",
    "    #print(\"i = %d, probability = %f\" , (i,pred_up5))\n",
    "    print(\"number of balls =\", int(i/3), \", probability =\", pred_up5)\n",
    "    if max(pred_up5[0,:]) == pred_up5[:,0]:\n",
    "        print(\"top spin\")\n",
    "    elif max(pred_up5[0,:]) == pred_up5[:,1]:\n",
    "        print(\"right spin\")\n",
    "    else:\n",
    "        print(\"back spin\")\n",
    "'''"
   ]
  }
 ],
 "metadata": {
  "kernelspec": {
   "display_name": "Python 3",
   "language": "python",
   "name": "python3"
  },
  "language_info": {
   "codemirror_mode": {
    "name": "ipython",
    "version": 3
   },
   "file_extension": ".py",
   "mimetype": "text/x-python",
   "name": "python",
   "nbconvert_exporter": "python",
   "pygments_lexer": "ipython3",
   "version": "3.6.9"
  }
 },
 "nbformat": 4,
 "nbformat_minor": 4
}
