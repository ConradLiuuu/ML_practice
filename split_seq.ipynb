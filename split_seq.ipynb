{
 "cells": [
  {
   "cell_type": "code",
   "execution_count": 28,
   "metadata": {},
   "outputs": [],
   "source": [
    "import numpy as np\n",
    "import pandas as pd"
   ]
  },
  {
   "cell_type": "code",
   "execution_count": 29,
   "metadata": {},
   "outputs": [],
   "source": [
    "traj = pd.read_csv('/home/lab606a/Documents/datasets/dataset_20200225.csv')\n",
    "traj = traj.fillna(0)"
   ]
  },
  {
   "cell_type": "code",
   "execution_count": 30,
   "metadata": {},
   "outputs": [
    {
     "name": "stdout",
     "output_type": "stream",
     "text": [
      "[  1.      108.643   304.824    42.4588  109.714   291.945    45.2562\n",
      " 110.357   281.201    47.1818  110.843   272.255    48.5718  111.769\n",
      " 257.836    50.0968  112.027   247.682    50.9953  112.561   235.979\n",
      "  51.2664  112.607   224.858    51.9736  112.959   212.587    51.2097\n",
      " 113.022   204.526    50.4888  112.627   192.513    50.1693  112.808\n",
      " 183.724    47.5524  112.288   171.345    46.8534  112.233   162.69\n",
      "  43.4192  111.337   152.24     41.2016  111.453   142.327    37.5963\n",
      " 110.868   134.702    34.5887  110.022   123.729    32.5556  109.63\n",
      " 115.57     26.7696  108.584   104.427    24.0688  107.945    96.8253\n",
      "  17.2024  106.826    86.577    14.6333  106.149    78.465     7.0065\n",
      " 104.992    73.8841    2.82648 103.663    63.1727    5.07401 102.3\n",
      "  59.0714    9.60417 100.619    50.7707   14.7243   99.314    46.2701\n",
      "  18.3093   97.7961   41.8541   21.4989   96.0541   33.8609   25.6685\n",
      "  94.4366   29.7369   27.9363   92.7192   21.8017   31.4817   90.9287\n",
      "  18.1181   32.4892   89.2632   10.1866   35.0654   87.3987    6.62499\n",
      "  35.3514   85.8706    2.43349  35.7361   84.1084   -5.71904  37.9713\n",
      "  82.2658   -9.07679  36.406    80.5685  -16.0423   37.803    78.4583\n",
      " -19.5861   35.2657   76.8567  -26.8264   36.1305   74.6217  -29.9512\n",
      "  32.5259   72.9632  -36.8209   32.4545   71.5898  -41.0983   30.9065\n",
      "  68.8301  -43.0721   26.9277   67.8084  -50.7076   25.3761    0.\n",
      "   0.        0.        0.        0.        0.     ]\n"
     ]
    }
   ],
   "source": [
    "traj = np.array(traj)\n",
    "a = traj[0, :]\n",
    "print(a)"
   ]
  },
  {
   "cell_type": "code",
   "execution_count": 31,
   "metadata": {},
   "outputs": [
    {
     "data": {
      "text/plain": [
       "145"
      ]
     },
     "execution_count": 31,
     "metadata": {},
     "output_type": "execute_result"
    }
   ],
   "source": [
    "len(a)"
   ]
  },
  {
   "cell_type": "code",
   "execution_count": 32,
   "metadata": {},
   "outputs": [],
   "source": [
    "def split_seq(seq, n_step_in, n_step_out):\n",
    "    X, Y = list(), list()\n",
    "    for i in range(len(seq)):\n",
    "        # find the end of this pattern\n",
    "        end_ix = i + n_step_in\n",
    "        out_end_ix = end_ix + n_step_out - 1\n",
    "        # check if we are beyond the dataset\n",
    "        if out_end_ix > len(seq):\n",
    "            break\n",
    "        # gather input and output parts of pattern\n",
    "        seq_x, seq_y = seq[i:end_ix, :-1], seq[end_ix-1:out_end_ix, -1]\n",
    "        X.append(seq_x)\n",
    "        Y.append(seq_y)\n",
    "    return np.array(X), np.array(Y)"
   ]
  },
  {
   "cell_type": "code",
   "execution_count": 33,
   "metadata": {},
   "outputs": [],
   "source": [
    "#a = a.reshape(len(a), 1)\n",
    "#x ,y = split_seq(a, 5, 5)"
   ]
  },
  {
   "cell_type": "code",
   "execution_count": 35,
   "metadata": {},
   "outputs": [
    {
     "data": {
      "text/plain": [
       "array([108.643  , 304.824  ,  42.4588 , 109.714  , 291.945  ,  45.2562 ,\n",
       "       110.357  , 281.201  ,  47.1818 , 110.843  , 272.255  ,  48.5718 ,\n",
       "       111.769  , 257.836  ,  50.0968 , 112.027  , 247.682  ,  50.9953 ,\n",
       "       112.561  , 235.979  ,  51.2664 , 112.607  , 224.858  ,  51.9736 ,\n",
       "       112.959  , 212.587  ,  51.2097 , 113.022  , 204.526  ,  50.4888 ,\n",
       "       112.627  , 192.513  ,  50.1693 , 112.808  , 183.724  ,  47.5524 ,\n",
       "       112.288  , 171.345  ,  46.8534 , 112.233  , 162.69   ,  43.4192 ,\n",
       "       111.337  , 152.24   ,  41.2016 , 111.453  , 142.327  ,  37.5963 ,\n",
       "       110.868  , 134.702  ,  34.5887 , 110.022  , 123.729  ,  32.5556 ,\n",
       "       109.63   , 115.57   ,  26.7696 , 108.584  , 104.427  ,  24.0688 ,\n",
       "       107.945  ,  96.8253 ,  17.2024 , 106.826  ,  86.577  ,  14.6333 ,\n",
       "       106.149  ,  78.465  ,   7.0065 , 104.992  ,  73.8841 ,   2.82648,\n",
       "       103.663  ,  63.1727 ,   5.07401, 102.3    ,  59.0714 ,   9.60417,\n",
       "       100.619  ,  50.7707 ,  14.7243 ,  99.314  ,  46.2701 ,  18.3093 ,\n",
       "        97.7961 ,  41.8541 ,  21.4989 ,  96.0541 ,  33.8609 ,  25.6685 ,\n",
       "        94.4366 ,  29.7369 ,  27.9363 ,  92.7192 ,  21.8017 ,  31.4817 ,\n",
       "        90.9287 ,  18.1181 ,  32.4892 ,  89.2632 ,  10.1866 ,  35.0654 ,\n",
       "        87.3987 ,   6.62499,  35.3514 ,  85.8706 ,   2.43349,  35.7361 ,\n",
       "        84.1084 ,  -5.71904,  37.9713 ,  82.2658 ,  -9.07679,  36.406  ,\n",
       "        80.5685 , -16.0423 ,  37.803  ,  78.4583 , -19.5861 ,  35.2657 ,\n",
       "        76.8567 , -26.8264 ,  36.1305 ,  74.6217 , -29.9512 ,  32.5259 ,\n",
       "        72.9632 , -36.8209 ,  32.4545 ,  71.5898 , -41.0983 ,  30.9065 ,\n",
       "        68.8301 , -43.0721 ,  26.9277 ,  67.8084 , -50.7076 ,  25.3761 ,\n",
       "         0.     ,   0.     ,   0.     ,   0.     ,   0.     ,   0.     ])"
      ]
     },
     "execution_count": 35,
     "metadata": {},
     "output_type": "execute_result"
    }
   ],
   "source": [
    "a = a[1:]\n",
    "a"
   ]
  },
  {
   "cell_type": "code",
   "execution_count": 163,
   "metadata": {},
   "outputs": [],
   "source": [
    "b = np.array([1,2,3,4,5,6,7,8,9,10])"
   ]
  },
  {
   "cell_type": "code",
   "execution_count": 164,
   "metadata": {},
   "outputs": [],
   "source": [
    "step_in = 3\n",
    "step_out = 3\n",
    "\n",
    "c_in = np.zeros([len(b)+1-step_in-step_out, step_in])\n",
    "c_out = np.zeros([len(b)+1-step_in-step_out, step_out])\n",
    "\n",
    "for i in range(len(b)-step_in-step_out+1):\n",
    "    c_in[i,:] = b[i:i+step_in]\n",
    "    c_out[i,:] = b[i+step_in:i+step_in+step_out]"
   ]
  },
  {
   "cell_type": "code",
   "execution_count": 165,
   "metadata": {},
   "outputs": [
    {
     "data": {
      "text/plain": [
       "array([[1., 2., 3.],\n",
       "       [2., 3., 4.],\n",
       "       [3., 4., 5.],\n",
       "       [4., 5., 6.],\n",
       "       [5., 6., 7.]])"
      ]
     },
     "execution_count": 165,
     "metadata": {},
     "output_type": "execute_result"
    }
   ],
   "source": [
    "c_in"
   ]
  },
  {
   "cell_type": "code",
   "execution_count": 166,
   "metadata": {},
   "outputs": [
    {
     "data": {
      "text/plain": [
       "array([[ 4.,  5.,  6.],\n",
       "       [ 5.,  6.,  7.],\n",
       "       [ 6.,  7.,  8.],\n",
       "       [ 7.,  8.,  9.],\n",
       "       [ 8.,  9., 10.]])"
      ]
     },
     "execution_count": 166,
     "metadata": {},
     "output_type": "execute_result"
    }
   ],
   "source": [
    "c_out"
   ]
  },
  {
   "cell_type": "code",
   "execution_count": 196,
   "metadata": {},
   "outputs": [],
   "source": [
    "def split_seq(seq, step_x, step_y):\n",
    "    tmp_x = np.zeros([len(seq)+1-step_x-step_y, step_x])\n",
    "    tmp_y = np.zeros([len(seq)+1-step_x-step_y, step_y])\n",
    "    \n",
    "    for i in range(len(seq)-step_x-step_y+1):\n",
    "        tmp_x[i, :] = seq[i:i+step_x]\n",
    "        tmp_y[i, :] = seq[i+step_x:i+step_x+step_y]\n",
    "    return tmp_x, tmp_y"
   ]
  },
  {
   "cell_type": "code",
   "execution_count": 197,
   "metadata": {},
   "outputs": [],
   "source": [
    "def container(seq, step_x, step_y):\n",
    "    tmp_x = np.zeros([len(seq)+1-step_x-step_y, step_x])\n",
    "    tmp_y = np.zeros([len(seq)+1-step_x-step_y, step_y])\n",
    "    return tmp_x, tmp_y"
   ]
  },
  {
   "cell_type": "code",
   "execution_count": 198,
   "metadata": {},
   "outputs": [
    {
     "data": {
      "text/plain": [
       "array([108.643  , 304.824  ,  42.4588 , 109.714  , 291.945  ,  45.2562 ,\n",
       "       110.357  , 281.201  ,  47.1818 , 110.843  , 272.255  ,  48.5718 ,\n",
       "       111.769  , 257.836  ,  50.0968 , 112.027  , 247.682  ,  50.9953 ,\n",
       "       112.561  , 235.979  ,  51.2664 , 112.607  , 224.858  ,  51.9736 ,\n",
       "       112.959  , 212.587  ,  51.2097 , 113.022  , 204.526  ,  50.4888 ,\n",
       "       112.627  , 192.513  ,  50.1693 , 112.808  , 183.724  ,  47.5524 ,\n",
       "       112.288  , 171.345  ,  46.8534 , 112.233  , 162.69   ,  43.4192 ,\n",
       "       111.337  , 152.24   ,  41.2016 , 111.453  , 142.327  ,  37.5963 ,\n",
       "       110.868  , 134.702  ,  34.5887 , 110.022  , 123.729  ,  32.5556 ,\n",
       "       109.63   , 115.57   ,  26.7696 , 108.584  , 104.427  ,  24.0688 ,\n",
       "       107.945  ,  96.8253 ,  17.2024 , 106.826  ,  86.577  ,  14.6333 ,\n",
       "       106.149  ,  78.465  ,   7.0065 , 104.992  ,  73.8841 ,   2.82648,\n",
       "       103.663  ,  63.1727 ,   5.07401, 102.3    ,  59.0714 ,   9.60417,\n",
       "       100.619  ,  50.7707 ,  14.7243 ,  99.314  ,  46.2701 ,  18.3093 ,\n",
       "        97.7961 ,  41.8541 ,  21.4989 ,  96.0541 ,  33.8609 ,  25.6685 ,\n",
       "        94.4366 ,  29.7369 ,  27.9363 ,  92.7192 ,  21.8017 ,  31.4817 ,\n",
       "        90.9287 ,  18.1181 ,  32.4892 ,  89.2632 ,  10.1866 ,  35.0654 ,\n",
       "        87.3987 ,   6.62499,  35.3514 ,  85.8706 ,   2.43349,  35.7361 ,\n",
       "        84.1084 ,  -5.71904,  37.9713 ,  82.2658 ,  -9.07679,  36.406  ,\n",
       "        80.5685 , -16.0423 ,  37.803  ,  78.4583 , -19.5861 ,  35.2657 ,\n",
       "        76.8567 , -26.8264 ,  36.1305 ,  74.6217 , -29.9512 ,  32.5259 ,\n",
       "        72.9632 , -36.8209 ,  32.4545 ,  71.5898 , -41.0983 ,  30.9065 ,\n",
       "        68.8301 , -43.0721 ,  26.9277 ,  67.8084 , -50.7076 ,  25.3761 ,\n",
       "         0.     ,   0.     ,   0.     ,   0.     ,   0.     ,   0.     ])"
      ]
     },
     "execution_count": 198,
     "metadata": {},
     "output_type": "execute_result"
    }
   ],
   "source": [
    "a"
   ]
  },
  {
   "cell_type": "code",
   "execution_count": 199,
   "metadata": {},
   "outputs": [
    {
     "name": "stdout",
     "output_type": "stream",
     "text": [
      "[[108.643  304.824   42.4588 ... 111.769  257.836   50.0968]\n",
      " [304.824   42.4588 109.714  ... 257.836   50.0968 112.027 ]\n",
      " [ 42.4588 109.714  291.945  ...  50.0968 112.027  247.682 ]\n",
      " ...\n",
      " [-19.5861  35.2657  76.8567 ... -41.0983  30.9065  68.8301]\n",
      " [ 35.2657  76.8567 -26.8264 ...  30.9065  68.8301 -43.0721]\n",
      " [ 76.8567 -26.8264  36.1305 ...  68.8301 -43.0721  26.9277]]\n"
     ]
    }
   ],
   "source": [
    "#step_x = 15\n",
    "#step_y = 9\n",
    "d_in, d_out = container(a, 15, 9)\n",
    "d_in, d_out = split_seq(a, 15, 9)\n",
    "print(d_in)"
   ]
  },
  {
   "cell_type": "code",
   "execution_count": 200,
   "metadata": {},
   "outputs": [
    {
     "name": "stdout",
     "output_type": "stream",
     "text": [
      "[[112.027  247.682   50.9953 ... 112.607  224.858   51.9736]\n",
      " [247.682   50.9953 112.561  ... 224.858   51.9736 112.959 ]\n",
      " [ 50.9953 112.561  235.979  ...  51.9736 112.959  212.587 ]\n",
      " ...\n",
      " [-43.0721  26.9277  67.8084 ...   0.       0.       0.    ]\n",
      " [ 26.9277  67.8084 -50.7076 ...   0.       0.       0.    ]\n",
      " [ 67.8084 -50.7076  25.3761 ...   0.       0.       0.    ]]\n"
     ]
    }
   ],
   "source": [
    "print(d_out)"
   ]
  },
  {
   "cell_type": "code",
   "execution_count": 201,
   "metadata": {},
   "outputs": [
    {
     "data": {
      "text/plain": [
       "array([[1., 2., 3.],\n",
       "       [2., 3., 4.],\n",
       "       [3., 4., 5.],\n",
       "       [4., 5., 6.],\n",
       "       [5., 6., 7.],\n",
       "       [6., 7., 8.]])"
      ]
     },
     "execution_count": 201,
     "metadata": {},
     "output_type": "execute_result"
    }
   ],
   "source": [
    "c1, c2 = container(b, 3, 2)\n",
    "c1, c2 = split_seq(b , 3, 2)\n",
    "c1"
   ]
  },
  {
   "cell_type": "code",
   "execution_count": 235,
   "metadata": {},
   "outputs": [],
   "source": [
    "def split_seq_2d(seq, step_x, step_y):\n",
    "    tmp_x = np.zeros([seq.shape[0], seq.shape[1]+1-step_x-step_y, step_x])\n",
    "    tmp_y = np.zeros([seq.shape[0], seq.shape[1]+1-step_x-step_y, step_y])\n",
    "    for i in range(seq.shape[0]):\n",
    "        for j in range(seq.shape[1]-step_x-step_y+1):\n",
    "            tmp_x[i, j, :] = seq[i, j:j+step_x]\n",
    "            tmp_y[i, j, :] = seq[i, j+step_x:j+step_x+step_y]\n",
    "    \n",
    "    #for i in range(len(seq)-step_x-step_y+1):\n",
    "        #tmp_x[i, :] = seq[i:i+step_x]\n",
    "        #tmp_y[i, :] = seq[i+step_x:i+step_x+step_y]\n",
    "    return tmp_x, tmp_y"
   ]
  },
  {
   "cell_type": "code",
   "execution_count": 236,
   "metadata": {},
   "outputs": [],
   "source": [
    "def container_2d(seq, step_x, step_y):\n",
    "    tmp_x = np.zeros([seq.shape[0], seq.shape[1]+1-step_x-step_y, step_x])\n",
    "    tmp_y = np.zeros([seq.shape[0], seq.shape[1]+1-step_x-step_y, step_y])\n",
    "    return tmp_x, tmp_y"
   ]
  },
  {
   "cell_type": "code",
   "execution_count": 260,
   "metadata": {},
   "outputs": [
    {
     "data": {
      "text/plain": [
       "(2, 7)"
      ]
     },
     "execution_count": 260,
     "metadata": {},
     "output_type": "execute_result"
    }
   ],
   "source": [
    "B = np.array([[1,2,3,4,5,6,7],[7,8,9,10,11,12,13]])\n",
    "B.shape"
   ]
  },
  {
   "cell_type": "code",
   "execution_count": 281,
   "metadata": {},
   "outputs": [],
   "source": [
    "t1, t2 = container_2d(B, 3, 2)\n",
    "#t1, t2 = split_seq_2d(B, 3, 2)\n",
    "t1, t2 = split_seq_2d(B, 3, 2)"
   ]
  },
  {
   "cell_type": "code",
   "execution_count": 282,
   "metadata": {},
   "outputs": [
    {
     "data": {
      "text/plain": [
       "array([[[ 1.,  2.,  3.],\n",
       "        [ 2.,  3.,  4.],\n",
       "        [ 3.,  4.,  5.]],\n",
       "\n",
       "       [[ 7.,  8.,  9.],\n",
       "        [ 8.,  9., 10.],\n",
       "        [ 9., 10., 11.]]])"
      ]
     },
     "execution_count": 282,
     "metadata": {},
     "output_type": "execute_result"
    }
   ],
   "source": [
    "t1"
   ]
  },
  {
   "cell_type": "code",
   "execution_count": 283,
   "metadata": {},
   "outputs": [
    {
     "data": {
      "text/plain": [
       "array([[[ 4.,  5.],\n",
       "        [ 5.,  6.],\n",
       "        [ 6.,  7.]],\n",
       "\n",
       "       [[10., 11.],\n",
       "        [11., 12.],\n",
       "        [12., 13.]]])"
      ]
     },
     "execution_count": 283,
     "metadata": {},
     "output_type": "execute_result"
    }
   ],
   "source": [
    "t2"
   ]
  },
  {
   "cell_type": "code",
   "execution_count": 284,
   "metadata": {},
   "outputs": [
    {
     "name": "stdout",
     "output_type": "stream",
     "text": [
      "(2, 7)\n",
      "(2, 3, 3)\n",
      "(2, 3, 2)\n"
     ]
    }
   ],
   "source": [
    "print(B.shape)\n",
    "print(t1.shape)\n",
    "print(t2.shape)"
   ]
  },
  {
   "cell_type": "code",
   "execution_count": 255,
   "metadata": {},
   "outputs": [
    {
     "data": {
      "text/plain": [
       "(3, 145)"
      ]
     },
     "execution_count": 255,
     "metadata": {},
     "output_type": "execute_result"
    }
   ],
   "source": [
    "A = traj[0:3, :]\n",
    "A.shape"
   ]
  },
  {
   "cell_type": "code",
   "execution_count": 285,
   "metadata": {},
   "outputs": [],
   "source": [
    "t1, t2 = container_2d(A, 15, 9)\n",
    "t1, t2 = split_seq_2d(A, 15, 9)"
   ]
  },
  {
   "cell_type": "code",
   "execution_count": 286,
   "metadata": {},
   "outputs": [
    {
     "name": "stdout",
     "output_type": "stream",
     "text": [
      "(3, 122, 15)\n",
      "(3, 122, 9)\n"
     ]
    }
   ],
   "source": [
    "print(t1.shape)\n",
    "print(t2.shape)"
   ]
  },
  {
   "cell_type": "code",
   "execution_count": 289,
   "metadata": {},
   "outputs": [
    {
     "name": "stdout",
     "output_type": "stream",
     "text": [
      "(3540, 145)\n",
      "(3540, 116, 15)\n",
      "(3540, 116, 15)\n"
     ]
    }
   ],
   "source": [
    "x_train, y_train = container_2d(traj, 15, 15)\n",
    "x_train, y_train = split_seq_2d(traj, 15, 15)\n",
    "print(traj.shape)\n",
    "print(x_train.shape)\n",
    "print(y_train.shape)"
   ]
  },
  {
   "cell_type": "code",
   "execution_count": 290,
   "metadata": {},
   "outputs": [
    {
     "name": "stdout",
     "output_type": "stream",
     "text": [
      "[  1.      108.919   301.744    43.7305  109.827   290.383    46.2671\n",
      " 110.724   277.021    49.0714  111.334   267.009    50.5989  112.211\n",
      " 252.849    52.5245  112.465   242.966    53.1224  112.493   231.433\n",
      "  54.2488  113.122   219.631    54.3632  112.869   208.52     54.4683\n",
      " 113.002   197.198    53.4586  112.605   185.618    53.2659  112.795\n",
      " 175.557    50.9465  112.531   165.883    50.1104  111.674   156.011\n",
      "  48.514   111.404   145.981    45.0985  110.497   134.487    43.5957\n",
      " 110.204   126.021    39.2724  108.914   114.44     37.5008  108.188\n",
      " 107.239    34.4154  107.364    99.6462   28.431   106.045    88.8893\n",
      "  25.876   105.261    81.3033   19.0715  103.766    71.3441   16.0544\n",
      " 102.774    64.1059    8.22109 101.678    56.8142    3.49632 100.131\n",
      "  48.1284    3.94753  98.6115   44.4246    8.63298  96.9431   36.6074\n",
      "  14.3458   95.2703   32.8375   18.3757   93.4944   25.0111   23.1444\n",
      "  91.7746   21.7359   25.8056   90.374    17.4027   28.3971   88.0576\n",
      "  11.334    31.7852   86.6516    6.73103  33.9553   84.8679   -0.82175\n",
      "  37.0388   82.8722   -3.77432  37.1658   81.1012  -11.0636   39.7779\n",
      "  79.0564  -14.0566   39.1442   77.5297  -17.8248   39.4014   75.8817\n",
      " -24.7949   40.97     73.5798  -27.4451   38.9375   72.0661  -34.4775\n",
      "  39.9743   69.6342  -37.0719   36.7475   68.0885  -43.7085   37.2447\n",
      "  67.003   -47.323    37.6073   64.0221  -49.9293   31.2219   62.5816\n",
      " -55.7282   30.7033    0.        0.        0.     ]\n"
     ]
    }
   ],
   "source": [
    "print(traj[1, :])"
   ]
  },
  {
   "cell_type": "code",
   "execution_count": 291,
   "metadata": {},
   "outputs": [
    {
     "name": "stdout",
     "output_type": "stream",
     "text": [
      "[[  1.     108.919  301.744  ...  50.5989 112.211  252.849 ]\n",
      " [108.919  301.744   43.7305 ... 112.211  252.849   52.5245]\n",
      " [301.744   43.7305 109.827  ... 252.849   52.5245 112.465 ]\n",
      " ...\n",
      " [-14.0566  39.1442  77.5297 ... -34.4775  39.9743  69.6342]\n",
      " [ 39.1442  77.5297 -17.8248 ...  39.9743  69.6342 -37.0719]\n",
      " [ 77.5297 -17.8248  39.4014 ...  69.6342 -37.0719  36.7475]]\n"
     ]
    }
   ],
   "source": [
    "print(x_train[1, :, :])"
   ]
  },
  {
   "cell_type": "code",
   "execution_count": 292,
   "metadata": {},
   "outputs": [],
   "source": [
    "dataset = pd.read_csv('./datasets/dataset_20200225_for_prediction.csv')\n",
    "dataset = dataset.fillna(0)"
   ]
  },
  {
   "cell_type": "code",
   "execution_count": 293,
   "metadata": {},
   "outputs": [],
   "source": [
    "dataset = np.array(dataset)"
   ]
  },
  {
   "cell_type": "code",
   "execution_count": 294,
   "metadata": {},
   "outputs": [
    {
     "name": "stdout",
     "output_type": "stream",
     "text": [
      "(3540, 144)\n",
      "(3540, 115, 15)\n",
      "(3540, 115, 15)\n"
     ]
    }
   ],
   "source": [
    "x_train, y_train = container_2d(dataset, 15, 15)\n",
    "x_train, y_train = split_seq_2d(dataset, 15, 15)\n",
    "print(dataset.shape)\n",
    "print(x_train.shape)\n",
    "print(y_train.shape)"
   ]
  },
  {
   "cell_type": "code",
   "execution_count": 298,
   "metadata": {},
   "outputs": [
    {
     "name": "stdout",
     "output_type": "stream",
     "text": [
      "[108.643   304.824    42.4588  109.714   291.945    45.2562  110.357\n",
      " 281.201    47.1818  110.843   272.255    48.5718  111.769   257.836\n",
      "  50.0968  112.027   247.682    50.9953  112.561   235.979    51.2664\n",
      " 112.607   224.858    51.9736  112.959   212.587    51.2097  113.022\n",
      " 204.526    50.4888  112.627   192.513    50.1693  112.808   183.724\n",
      "  47.5524  112.288   171.345    46.8534  112.233   162.69     43.4192\n",
      " 111.337   152.24     41.2016  111.453   142.327    37.5963  110.868\n",
      " 134.702    34.5887  110.022   123.729    32.5556  109.63    115.57\n",
      "  26.7696  108.584   104.427    24.0688  107.945    96.8253   17.2024\n",
      " 106.826    86.577    14.6333  106.149    78.465     7.0065  104.992\n",
      "  73.8841    2.82648 103.663    63.1727    5.07401 102.3      59.0714\n",
      "   9.60417 100.619    50.7707   14.7243   99.314    46.2701   18.3093\n",
      "  97.7961   41.8541   21.4989   96.0541   33.8609   25.6685   94.4366\n",
      "  29.7369   27.9363   92.7192   21.8017   31.4817   90.9287   18.1181\n",
      "  32.4892   89.2632   10.1866   35.0654   87.3987    6.62499  35.3514\n",
      "  85.8706    2.43349  35.7361   84.1084   -5.71904  37.9713   82.2658\n",
      "  -9.07679  36.406    80.5685  -16.0423   37.803    78.4583  -19.5861\n",
      "  35.2657   76.8567  -26.8264   36.1305   74.6217  -29.9512   32.5259\n",
      "  72.9632  -36.8209   32.4545   71.5898  -41.0983   30.9065   68.8301\n",
      " -43.0721   26.9277   67.8084  -50.7076   25.3761    0.        0.\n",
      "   0.        0.        0.        0.     ]\n"
     ]
    }
   ],
   "source": [
    "print(dataset[0, :])"
   ]
  },
  {
   "cell_type": "code",
   "execution_count": 295,
   "metadata": {},
   "outputs": [
    {
     "name": "stdout",
     "output_type": "stream",
     "text": [
      "[[108.643   304.824    42.4588  ... 111.769   257.836    50.0968 ]\n",
      " [304.824    42.4588  109.714   ... 257.836    50.0968  112.027  ]\n",
      " [ 42.4588  109.714   291.945   ...  50.0968  112.027   247.682  ]\n",
      " ...\n",
      " [ -9.07679  36.406    80.5685  ... -29.9512   32.5259   72.9632 ]\n",
      " [ 36.406    80.5685  -16.0423  ...  32.5259   72.9632  -36.8209 ]\n",
      " [ 80.5685  -16.0423   37.803   ...  72.9632  -36.8209   32.4545 ]]\n"
     ]
    }
   ],
   "source": [
    "print(x_train[0, :, :])"
   ]
  },
  {
   "cell_type": "code",
   "execution_count": 296,
   "metadata": {},
   "outputs": [
    {
     "name": "stdout",
     "output_type": "stream",
     "text": [
      "[[112.027  247.682   50.9953 ... 113.022  204.526   50.4888]\n",
      " [247.682   50.9953 112.561  ... 204.526   50.4888 112.627 ]\n",
      " [ 50.9953 112.561  235.979  ...  50.4888 112.627  192.513 ]\n",
      " ...\n",
      " [-36.8209  32.4545  71.5898 ...   0.       0.       0.    ]\n",
      " [ 32.4545  71.5898 -41.0983 ...   0.       0.       0.    ]\n",
      " [ 71.5898 -41.0983  30.9065 ...   0.       0.       0.    ]]\n"
     ]
    }
   ],
   "source": [
    "print(y_train[0, :, :])"
   ]
  }
 ],
 "metadata": {
  "kernelspec": {
   "display_name": "Python 3",
   "language": "python",
   "name": "python3"
  },
  "language_info": {
   "codemirror_mode": {
    "name": "ipython",
    "version": 3
   },
   "file_extension": ".py",
   "mimetype": "text/x-python",
   "name": "python",
   "nbconvert_exporter": "python",
   "pygments_lexer": "ipython3",
   "version": "3.6.9"
  }
 },
 "nbformat": 4,
 "nbformat_minor": 4
}
