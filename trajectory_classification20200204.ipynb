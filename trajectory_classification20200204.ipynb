{
 "cells": [
  {
   "cell_type": "code",
   "execution_count": 88,
   "metadata": {},
   "outputs": [],
   "source": [
    "import pandas as pd\n",
    "import numpy as np"
   ]
  },
  {
   "cell_type": "code",
   "execution_count": 89,
   "metadata": {},
   "outputs": [],
   "source": [
    "from keras.preprocessing import sequence"
   ]
  },
  {
   "cell_type": "code",
   "execution_count": 90,
   "metadata": {},
   "outputs": [],
   "source": [
    "from keras.models import Sequential\n",
    "from keras.layers import Dense, LSTM, Activation"
   ]
  },
  {
   "cell_type": "code",
   "execution_count": 91,
   "metadata": {},
   "outputs": [],
   "source": [
    "import matplotlib.pyplot as plt"
   ]
  },
  {
   "cell_type": "code",
   "execution_count": 92,
   "metadata": {},
   "outputs": [],
   "source": [
    "up1 = np.array(pd.read_csv('./trajectory/up_len36.csv'))\n",
    "up2 = np.array(pd.read_csv('./trajectory/up_len37.csv'))\n",
    "up3 = np.array(pd.read_csv('./trajectory/up_len37_2.csv'))\n",
    "up4 = np.array(pd.read_csv('./trajectory/up_len39.csv'))\n",
    "up_test = np.array(pd.read_csv('./trajectory/up_len35.csv'))\n",
    "\n",
    "right1 = np.array(pd.read_csv('./trajectory/right_len37.csv'))\n",
    "right2 = np.array(pd.read_csv('./trajectory/right_len41_2.csv'))\n",
    "right3 = np.array(pd.read_csv('./trajectory/right_len39.csv'))\n",
    "right4 = np.array(pd.read_csv('./trajectory/right_len41.csv'))\n",
    "right_test = np.array(pd.read_csv('./trajectory/right_len38.csv'))\n",
    "\n",
    "down1 = np.array(pd.read_csv('./trajectory/down_len34.csv'))\n",
    "down2 = np.array(pd.read_csv('./trajectory/down_len35.csv'))\n",
    "down3 = np.array(pd.read_csv('./trajectory/down_len35_2.csv'))\n",
    "down4 = np.array(pd.read_csv('./trajectory/down_len36.csv'))\n",
    "down_test = np.array(pd.read_csv('./trajectory/down_len38.csv'))\n",
    "\n",
    "up1 = up1.reshape(1, up1.shape[0]*up1.shape[1])\n",
    "up2 = up2.reshape(1, up2.shape[0]*up2.shape[1])\n",
    "up3 = up3.reshape(1, up3.shape[0]*up3.shape[1])\n",
    "up4 = up4.reshape(1, up4.shape[0]*up4.shape[1])\n",
    "up_test = up_test.reshape(1, up_test.shape[0]*up_test.shape[1])\n",
    "\n",
    "right1 = right1.reshape(1, right1.shape[0]*right1.shape[1])\n",
    "right2 = right2.reshape(1, right2.shape[0]*right2.shape[1])\n",
    "right3 = right3.reshape(1, right3.shape[0]*right3.shape[1])\n",
    "right4 = right4.reshape(1, right4.shape[0]*right4.shape[1])\n",
    "right_test = right_test.reshape(1, right_test.shape[0]*right_test.shape[1])\n",
    "\n",
    "down1 = down1.reshape(1, down1.shape[0]*down1.shape[1])\n",
    "down2 = down2.reshape(1, down2.shape[0]*down2.shape[1])\n",
    "down3 = down3.reshape(1, down3.shape[0]*down3.shape[1])\n",
    "down4 = down4.reshape(1, down4.shape[0]*down4.shape[1])\n",
    "down_test = down_test.reshape(1, down_test.shape[0]*down_test.shape[1])"
   ]
  },
  {
   "cell_type": "code",
   "execution_count": 93,
   "metadata": {},
   "outputs": [],
   "source": [
    "maxlen = 42*3"
   ]
  },
  {
   "cell_type": "code",
   "execution_count": 94,
   "metadata": {},
   "outputs": [],
   "source": [
    "up1 = sequence.pad_sequences(up1, maxlen=maxlen, padding='post')\n",
    "up2 = sequence.pad_sequences(up2, maxlen=maxlen, padding='post')\n",
    "up3 = sequence.pad_sequences(up3, maxlen=maxlen, padding='post')\n",
    "up4 = sequence.pad_sequences(up4, maxlen=maxlen, padding='post')\n",
    "up_test = sequence.pad_sequences(up_test, maxlen=maxlen, padding='post')\n",
    "\n",
    "right1 = sequence.pad_sequences(right1, maxlen=maxlen, padding='post')\n",
    "right2 = sequence.pad_sequences(right2, maxlen=maxlen, padding='post')\n",
    "right3 = sequence.pad_sequences(right3, maxlen=maxlen, padding='post')\n",
    "right4 = sequence.pad_sequences(right4, maxlen=maxlen, padding='post')\n",
    "right_test = sequence.pad_sequences(right_test, maxlen=maxlen, padding='post')\n",
    "\n",
    "down1 = sequence.pad_sequences(down1, maxlen=maxlen, padding='post')\n",
    "down2 = sequence.pad_sequences(down2, maxlen=maxlen, padding='post')\n",
    "down3 = sequence.pad_sequences(down3, maxlen=maxlen, padding='post')\n",
    "down4 = sequence.pad_sequences(down4, maxlen=maxlen, padding='post')\n",
    "down_test = sequence.pad_sequences(down_test, maxlen=maxlen, padding='post')"
   ]
  },
  {
   "cell_type": "code",
   "execution_count": 95,
   "metadata": {},
   "outputs": [
    {
     "data": {
      "text/plain": [
       "(504, 3)"
      ]
     },
     "execution_count": 95,
     "metadata": {},
     "output_type": "execute_result"
    }
   ],
   "source": [
    "dataset = np.array((up1, up2, up3, up4, right1, right2, right3, right4, down1, down2, down3, down4))\n",
    "dataset = dataset.reshape(12*42, 3)\n",
    "dataset.shape"
   ]
  },
  {
   "cell_type": "code",
   "execution_count": 96,
   "metadata": {},
   "outputs": [],
   "source": [
    "df = pd.DataFrame(data=dataset)\n",
    "#df.to_csv('./trajectory/twelve_trajectory.csv', index=False, header=False)"
   ]
  },
  {
   "cell_type": "code",
   "execution_count": 97,
   "metadata": {},
   "outputs": [
    {
     "name": "stdout",
     "output_type": "stream",
     "text": [
      "0 97 -19 278 0 56\n"
     ]
    }
   ],
   "source": [
    "x_max = max(dataset[:,0])\n",
    "x_min = min(dataset[:,0])\n",
    "y_max = max(dataset[:,1])\n",
    "y_min = min(dataset[:,1])\n",
    "z_max = max(dataset[:,2])\n",
    "z_min = min(dataset[:,2])\n",
    "print(x_min, x_max, y_min, y_max, z_min, z_max)"
   ]
  },
  {
   "cell_type": "code",
   "execution_count": 98,
   "metadata": {},
   "outputs": [
    {
     "data": {
      "text/plain": [
       "(12, 42, 3)"
      ]
     },
     "execution_count": 98,
     "metadata": {},
     "output_type": "execute_result"
    }
   ],
   "source": [
    "dataset = np.array((up1, up2, up3, up4, right1, right2, right3, right4, down1, down2, down3, down4))\n",
    "dataset = dataset.reshape(dataset.shape[0], int(dataset.shape[2]/3), 3)\n",
    "dataset.shape"
   ]
  },
  {
   "cell_type": "code",
   "execution_count": 99,
   "metadata": {},
   "outputs": [],
   "source": [
    "tmp = np.zeros((dataset.shape[0],dataset.shape[1],dataset.shape[2]))\n",
    "for i in range(dataset.shape[0]):\n",
    "    for j in range(dataset.shape[1]):\n",
    "        tmp[i,j,0] = (dataset[i,j,0]-x_min)/(x_max-x_min)\n",
    "        tmp[i,j,1] = (dataset[i,j,1]-y_min)/(y_max-y_min)-0.5\n",
    "        tmp[i,j,2] = (dataset[i,j,2]-z_min)/(z_max-z_min)\n"
   ]
  },
  {
   "cell_type": "code",
   "execution_count": 100,
   "metadata": {},
   "outputs": [],
   "source": [
    "up_test = up_test.reshape(1, int(maxlen/3), 3)\n",
    "right_test = right_test.reshape(1, int(maxlen/3), 3)\n",
    "down_test = down_test.reshape(1, int(maxlen/3), 3)"
   ]
  },
  {
   "cell_type": "code",
   "execution_count": 101,
   "metadata": {},
   "outputs": [],
   "source": [
    "nor_up_test = np.zeros((up_test.shape[0], up_test.shape[1], up_test.shape[2]))\n",
    "nor_right_test = np.zeros((right_test.shape[0], right_test.shape[1], right_test.shape[2]))\n",
    "nor_down_test = np.zeros((down_test.shape[0], down_test.shape[1], down_test.shape[2]))"
   ]
  },
  {
   "cell_type": "code",
   "execution_count": 102,
   "metadata": {},
   "outputs": [],
   "source": [
    "for j in range(35):\n",
    "    nor_up_test[:,j,0] = (up_test[:,j,0]-x_min)/(x_max-x_min)\n",
    "    nor_up_test[:,j,1] = (up_test[:,j,1]-y_min)/(y_max-y_min)-0.5\n",
    "    nor_up_test[:,j,2] = (up_test[:,j,2]-z_min)/(z_max-z_min)\n",
    "    \n",
    "    nor_right_test[:,j,0] = (right_test[:,j,0]-x_min)/(x_max-x_min)\n",
    "    nor_right_test[:,j,1] = (right_test[:,j,1]-y_min)/(y_max-y_min)-0.5\n",
    "    nor_right_test[:,j,2] = (right_test[:,j,2]-z_min)/(z_max-z_min)\n",
    "        \n",
    "    nor_down_test[:,j,0] = (down_test[:,j,0]-x_min)/(x_max-x_min)\n",
    "    nor_down_test[:,j,1] = (down_test[:,j,1]-y_min)/(y_max-y_min)-0.5\n",
    "    nor_down_test[:,j,2] = (down_test[:,j,2]-z_min)/(z_max-z_min)"
   ]
  },
  {
   "cell_type": "code",
   "execution_count": 103,
   "metadata": {
    "scrolled": true
   },
   "outputs": [
    {
     "data": {
      "text/plain": [
       "array([[[ 0.81443299,  0.46632997,  0.94642857],\n",
       "        [ 0.81443299,  0.42929293,  0.96428571],\n",
       "        [ 0.81443299,  0.38888889,  0.98214286],\n",
       "        [ 0.80412371,  0.36868687,  1.        ],\n",
       "        [ 0.80412371,  0.34511785,  0.98214286],\n",
       "        [ 0.80412371,  0.2979798 ,  1.        ],\n",
       "        [ 0.79381443,  0.26430976,  0.98214286],\n",
       "        [ 0.79381443,  0.23737374,  0.96428571],\n",
       "        [ 0.79381443,  0.2003367 ,  0.96428571],\n",
       "        [ 0.79381443,  0.17003367,  0.92857143],\n",
       "        [ 0.78350515,  0.13973064,  0.91071429],\n",
       "        [ 0.78350515,  0.10942761,  0.875     ],\n",
       "        [ 0.78350515,  0.07575758,  0.83928571],\n",
       "        [ 0.78350515,  0.04882155,  0.78571429],\n",
       "        [ 0.77319588,  0.02861953,  0.71428571],\n",
       "        [ 0.77319588, -0.00505051,  0.67857143],\n",
       "        [ 0.77319588, -0.03198653,  0.60714286],\n",
       "        [ 0.77319588, -0.05892256,  0.53571429],\n",
       "        [ 0.77319588, -0.08922559,  0.48214286],\n",
       "        [ 0.77319588, -0.11952862,  0.41071429],\n",
       "        [ 0.77319588, -0.14646465,  0.33928571],\n",
       "        [ 0.7628866 , -0.17340067,  0.25      ],\n",
       "        [ 0.7628866 , -0.19023569,  0.125     ],\n",
       "        [ 0.7628866 , -0.22053872,  0.05357143],\n",
       "        [ 0.7628866 , -0.24747475,  0.03571429],\n",
       "        [ 0.7628866 , -0.27777778,  0.125     ],\n",
       "        [ 0.75257732, -0.3013468 ,  0.21428571],\n",
       "        [ 0.75257732, -0.33164983,  0.28571429],\n",
       "        [ 0.75257732, -0.35521886,  0.35714286],\n",
       "        [ 0.75257732, -0.38552189,  0.42857143],\n",
       "        [ 0.75257732, -0.40909091,  0.48214286],\n",
       "        [ 0.74226804, -0.43602694,  0.53571429],\n",
       "        [ 0.74226804, -0.45959596,  0.57142857],\n",
       "        [ 0.74226804, -0.48316498,  0.625     ],\n",
       "        [ 0.        , -0.43602694,  0.        ],\n",
       "        [ 0.        ,  0.        ,  0.        ],\n",
       "        [ 0.        ,  0.        ,  0.        ],\n",
       "        [ 0.        ,  0.        ,  0.        ],\n",
       "        [ 0.        ,  0.        ,  0.        ],\n",
       "        [ 0.        ,  0.        ,  0.        ],\n",
       "        [ 0.        ,  0.        ,  0.        ],\n",
       "        [ 0.        ,  0.        ,  0.        ]]])"
      ]
     },
     "execution_count": 103,
     "metadata": {},
     "output_type": "execute_result"
    }
   ],
   "source": [
    "nor_up_test"
   ]
  },
  {
   "cell_type": "code",
   "execution_count": 104,
   "metadata": {},
   "outputs": [],
   "source": [
    "y_train = np.array(pd.read_csv('./trajectory/twelve_ytrain.csv', header=None))"
   ]
  },
  {
   "cell_type": "code",
   "execution_count": 105,
   "metadata": {},
   "outputs": [],
   "source": [
    "n_hidden = 512\n",
    "n_classes = 3"
   ]
  },
  {
   "cell_type": "code",
   "execution_count": 106,
   "metadata": {},
   "outputs": [],
   "source": [
    "from keras.layers import RepeatVector"
   ]
  },
  {
   "cell_type": "code",
   "execution_count": 107,
   "metadata": {},
   "outputs": [],
   "source": [
    "n_step = tmp.shape[1]\n",
    "n_input = tmp.shape[2]\n",
    "model = Sequential()\n",
    "model.add(LSTM(units=n_hidden, activation='tanh', batch_size=(None, n_step, n_input), unroll=True, return_sequences=True))\n",
    "#model.add(LSTM(units=n_hidden, activation='tanh', batch_size=(None, n_step, n_input), unroll=True))\n",
    "#model.add(RepeatVector(3))\n",
    "model.add(LSTM(units=128, activation='tanh', unroll=True, return_sequences=True))\n",
    "model.add(LSTM(units=64, activation='tanh', unroll=True, return_sequences=True))\n",
    "model.add(LSTM(units=32, activation='tanh', unroll=True, return_sequences=True))\n",
    "#model.add(LSTM(units=16, activation='tanh', unroll=True, return_sequences=True))\n",
    "#model.add(LSTM(units=128, activation='tanh', unroll=True))\n",
    "#model.add(RepeatVector(3))\n",
    "model.add(LSTM(units=16, activation='tanh', unroll=True))\n",
    "model.add(Dense(units=n_classes, activation='softmax'))\n",
    "model.compile(loss='categorical_crossentropy', optimizer='adam', metrics=['accuracy'])"
   ]
  },
  {
   "cell_type": "code",
   "execution_count": 108,
   "metadata": {
    "scrolled": true
   },
   "outputs": [
    {
     "name": "stdout",
     "output_type": "stream",
     "text": [
      "Epoch 1/80\n",
      "12/12 [==============================] - 34s 3s/step - loss: 1.0960 - acc: 0.3333\n",
      "Epoch 2/80\n",
      "12/12 [==============================] - 0s 15ms/step - loss: 1.0848 - acc: 0.3333\n",
      "Epoch 3/80\n",
      "12/12 [==============================] - 0s 16ms/step - loss: 1.0976 - acc: 0.4167\n",
      "Epoch 4/80\n",
      "12/12 [==============================] - 0s 16ms/step - loss: 1.0678 - acc: 0.3333\n",
      "Epoch 5/80\n",
      "12/12 [==============================] - 0s 16ms/step - loss: 1.0427 - acc: 0.5000\n",
      "Epoch 6/80\n",
      "12/12 [==============================] - 0s 16ms/step - loss: 1.0626 - acc: 0.3333\n",
      "Epoch 7/80\n",
      "12/12 [==============================] - 0s 16ms/step - loss: 1.0063 - acc: 0.5833\n",
      "Epoch 8/80\n",
      "12/12 [==============================] - 0s 16ms/step - loss: 1.0126 - acc: 0.6667\n",
      "Epoch 9/80\n",
      "12/12 [==============================] - 0s 16ms/step - loss: 0.9289 - acc: 0.6667\n",
      "Epoch 10/80\n",
      "12/12 [==============================] - 0s 16ms/step - loss: 0.9151 - acc: 0.5833\n",
      "Epoch 11/80\n",
      "12/12 [==============================] - 0s 16ms/step - loss: 1.0844 - acc: 0.5000\n",
      "Epoch 12/80\n",
      "12/12 [==============================] - 0s 16ms/step - loss: 0.8818 - acc: 0.7500\n",
      "Epoch 13/80\n",
      "12/12 [==============================] - 0s 16ms/step - loss: 0.9014 - acc: 0.8333\n",
      "Epoch 14/80\n",
      "12/12 [==============================] - 0s 16ms/step - loss: 0.8358 - acc: 0.8333\n",
      "Epoch 15/80\n",
      "12/12 [==============================] - 0s 16ms/step - loss: 0.8024 - acc: 0.8333\n",
      "Epoch 16/80\n",
      "12/12 [==============================] - 0s 16ms/step - loss: 0.7161 - acc: 0.9167\n",
      "Epoch 17/80\n",
      "12/12 [==============================] - 0s 16ms/step - loss: 0.6601 - acc: 0.9167\n",
      "Epoch 18/80\n",
      "12/12 [==============================] - 0s 16ms/step - loss: 0.5880 - acc: 0.9167\n",
      "Epoch 19/80\n",
      "12/12 [==============================] - 0s 16ms/step - loss: 0.5651 - acc: 0.9167\n",
      "Epoch 20/80\n",
      "12/12 [==============================] - 0s 16ms/step - loss: 0.5418 - acc: 0.8333\n",
      "Epoch 21/80\n",
      "12/12 [==============================] - 0s 16ms/step - loss: 0.5455 - acc: 0.7500\n",
      "Epoch 22/80\n",
      "12/12 [==============================] - 0s 16ms/step - loss: 0.6176 - acc: 0.7500\n",
      "Epoch 23/80\n",
      "12/12 [==============================] - 0s 16ms/step - loss: 0.6908 - acc: 0.5833\n",
      "Epoch 24/80\n",
      "12/12 [==============================] - 0s 16ms/step - loss: 0.5846 - acc: 0.8333\n",
      "Epoch 25/80\n",
      "12/12 [==============================] - 0s 16ms/step - loss: 0.3766 - acc: 0.9167\n",
      "Epoch 26/80\n",
      "12/12 [==============================] - 0s 16ms/step - loss: 0.4206 - acc: 0.8333\n",
      "Epoch 27/80\n",
      "12/12 [==============================] - 0s 16ms/step - loss: 0.4008 - acc: 0.8333\n",
      "Epoch 28/80\n",
      "12/12 [==============================] - 0s 16ms/step - loss: 0.3356 - acc: 1.0000\n",
      "Epoch 29/80\n",
      "12/12 [==============================] - 0s 16ms/step - loss: 0.3256 - acc: 0.9167\n",
      "Epoch 30/80\n",
      "12/12 [==============================] - 0s 16ms/step - loss: 0.3049 - acc: 1.0000\n",
      "Epoch 31/80\n",
      "12/12 [==============================] - 0s 16ms/step - loss: 0.2789 - acc: 1.0000\n",
      "Epoch 32/80\n",
      "12/12 [==============================] - 0s 15ms/step - loss: 0.2608 - acc: 1.0000\n",
      "Epoch 33/80\n",
      "12/12 [==============================] - 0s 16ms/step - loss: 0.2182 - acc: 1.0000\n",
      "Epoch 34/80\n",
      "12/12 [==============================] - 0s 16ms/step - loss: 0.2272 - acc: 1.0000\n",
      "Epoch 35/80\n",
      "12/12 [==============================] - 0s 16ms/step - loss: 0.1533 - acc: 1.0000\n",
      "Epoch 36/80\n",
      "12/12 [==============================] - 0s 16ms/step - loss: 0.2943 - acc: 0.8333\n",
      "Epoch 37/80\n",
      "12/12 [==============================] - 0s 16ms/step - loss: 0.7760 - acc: 0.6667\n",
      "Epoch 38/80\n",
      "12/12 [==============================] - 0s 16ms/step - loss: 0.4396 - acc: 0.8333\n",
      "Epoch 39/80\n",
      "12/12 [==============================] - 0s 16ms/step - loss: 0.6255 - acc: 0.7500\n",
      "Epoch 40/80\n",
      "12/12 [==============================] - 0s 16ms/step - loss: 0.5027 - acc: 0.8333\n",
      "Epoch 41/80\n",
      "12/12 [==============================] - 0s 16ms/step - loss: 0.3280 - acc: 0.8333\n",
      "Epoch 42/80\n",
      "12/12 [==============================] - 0s 16ms/step - loss: 0.3435 - acc: 0.8333\n",
      "Epoch 43/80\n",
      "12/12 [==============================] - 0s 16ms/step - loss: 0.2265 - acc: 0.9167\n",
      "Epoch 44/80\n",
      "12/12 [==============================] - 0s 16ms/step - loss: 0.2007 - acc: 0.9167\n",
      "Epoch 45/80\n",
      "12/12 [==============================] - 0s 16ms/step - loss: 0.2102 - acc: 0.9167\n",
      "Epoch 46/80\n",
      "12/12 [==============================] - 0s 16ms/step - loss: 0.1792 - acc: 1.0000\n",
      "Epoch 47/80\n",
      "12/12 [==============================] - 0s 16ms/step - loss: 0.1680 - acc: 1.0000\n",
      "Epoch 48/80\n",
      "12/12 [==============================] - 0s 16ms/step - loss: 0.1764 - acc: 0.9167\n",
      "Epoch 49/80\n",
      "12/12 [==============================] - 0s 16ms/step - loss: 0.1640 - acc: 1.0000\n",
      "Epoch 50/80\n",
      "12/12 [==============================] - 0s 16ms/step - loss: 0.1402 - acc: 1.0000\n",
      "Epoch 51/80\n",
      "12/12 [==============================] - 0s 16ms/step - loss: 0.1316 - acc: 1.0000\n",
      "Epoch 52/80\n",
      "12/12 [==============================] - 0s 16ms/step - loss: 0.1143 - acc: 1.0000\n",
      "Epoch 53/80\n",
      "12/12 [==============================] - 0s 16ms/step - loss: 0.1075 - acc: 1.0000\n",
      "Epoch 54/80\n",
      "12/12 [==============================] - 0s 16ms/step - loss: 0.0949 - acc: 1.0000\n",
      "Epoch 55/80\n",
      "12/12 [==============================] - 0s 16ms/step - loss: 0.0788 - acc: 1.0000\n",
      "Epoch 56/80\n",
      "12/12 [==============================] - 0s 16ms/step - loss: 0.0740 - acc: 1.0000\n",
      "Epoch 57/80\n",
      "12/12 [==============================] - 0s 16ms/step - loss: 0.0657 - acc: 1.0000\n",
      "Epoch 58/80\n",
      "12/12 [==============================] - 0s 16ms/step - loss: 0.0574 - acc: 1.0000\n",
      "Epoch 59/80\n",
      "12/12 [==============================] - 0s 16ms/step - loss: 0.0512 - acc: 1.0000\n",
      "Epoch 60/80\n",
      "12/12 [==============================] - 0s 16ms/step - loss: 0.0469 - acc: 1.0000\n",
      "Epoch 61/80\n",
      "12/12 [==============================] - 0s 16ms/step - loss: 0.0448 - acc: 1.0000\n",
      "Epoch 62/80\n",
      "12/12 [==============================] - 0s 16ms/step - loss: 0.0409 - acc: 1.0000\n",
      "Epoch 63/80\n",
      "12/12 [==============================] - 0s 16ms/step - loss: 0.0373 - acc: 1.0000\n",
      "Epoch 64/80\n",
      "12/12 [==============================] - 0s 16ms/step - loss: 0.0351 - acc: 1.0000\n",
      "Epoch 65/80\n",
      "12/12 [==============================] - 0s 16ms/step - loss: 0.0335 - acc: 1.0000\n",
      "Epoch 66/80\n",
      "12/12 [==============================] - 0s 16ms/step - loss: 0.0320 - acc: 1.0000\n",
      "Epoch 67/80\n",
      "12/12 [==============================] - 0s 16ms/step - loss: 0.0302 - acc: 1.0000\n",
      "Epoch 68/80\n",
      "12/12 [==============================] - 0s 16ms/step - loss: 0.0284 - acc: 1.0000\n",
      "Epoch 69/80\n",
      "12/12 [==============================] - 0s 16ms/step - loss: 0.0271 - acc: 1.0000\n",
      "Epoch 70/80\n",
      "12/12 [==============================] - 0s 16ms/step - loss: 0.0262 - acc: 1.0000\n",
      "Epoch 71/80\n",
      "12/12 [==============================] - 0s 16ms/step - loss: 0.0252 - acc: 1.0000\n",
      "Epoch 72/80\n",
      "12/12 [==============================] - 0s 16ms/step - loss: 0.0243 - acc: 1.0000\n",
      "Epoch 73/80\n",
      "12/12 [==============================] - 0s 16ms/step - loss: 0.0235 - acc: 1.0000\n",
      "Epoch 74/80\n",
      "12/12 [==============================] - 0s 16ms/step - loss: 0.0225 - acc: 1.0000\n",
      "Epoch 75/80\n",
      "12/12 [==============================] - 0s 16ms/step - loss: 0.0217 - acc: 1.0000\n",
      "Epoch 76/80\n",
      "12/12 [==============================] - 0s 16ms/step - loss: 0.0211 - acc: 1.0000\n",
      "Epoch 77/80\n",
      "12/12 [==============================] - 0s 16ms/step - loss: 0.0205 - acc: 1.0000\n",
      "Epoch 78/80\n",
      "12/12 [==============================] - 0s 16ms/step - loss: 0.0199 - acc: 1.0000\n",
      "Epoch 79/80\n",
      "12/12 [==============================] - 0s 16ms/step - loss: 0.0193 - acc: 1.0000\n",
      "Epoch 80/80\n",
      "12/12 [==============================] - 0s 16ms/step - loss: 0.0187 - acc: 1.0000\n"
     ]
    }
   ],
   "source": [
    "batch_size = 6\n",
    "training_iters = 80\n",
    "history = model.fit(tmp, y_train, batch_size=batch_size, epochs=training_iters)"
   ]
  },
  {
   "cell_type": "code",
   "execution_count": 109,
   "metadata": {},
   "outputs": [
    {
     "data": {
      "image/png": "[encoded data removed]",
      "text/plain": [
       "<Figure size 432x288 with 1 Axes>"
      ]
     },
     "metadata": {
      "needs_background": "light"
     },
     "output_type": "display_data"
    }
   ],
   "source": [
    "# summarize history for accuracy\n",
    "plt.plot(history.history['acc'])\n",
    "#plt.plot(history.history['val_accuracy'])\n",
    "plt.title('model accuracy')\n",
    "plt.ylabel('accuracy')\n",
    "plt.xlabel('epoch')\n",
    "plt.legend(['train', 'test'], loc='upper left')\n",
    "plt.show()"
   ]
  },
  {
   "cell_type": "code",
   "execution_count": 110,
   "metadata": {},
   "outputs": [
    {
     "data": {
      "image/png": "[encoded data removed]",
      "text/plain": [
       "<Figure size 432x288 with 1 Axes>"
      ]
     },
     "metadata": {
      "needs_background": "light"
     },
     "output_type": "display_data"
    }
   ],
   "source": [
    "# summarize history for loss\n",
    "plt.plot(history.history['loss'])\n",
    "#plt.plot(history.history['val_loss'])\n",
    "plt.title('model loss')\n",
    "plt.ylabel('loss')\n",
    "plt.xlabel('epoch')\n",
    "plt.legend(['train', 'test'], loc='upper left')\n",
    "plt.show()"
   ]
  },
  {
   "cell_type": "code",
   "execution_count": 111,
   "metadata": {},
   "outputs": [
    {
     "name": "stdout",
     "output_type": "stream",
     "text": [
      "_________________________________________________________________\n",
      "Layer (type)                 Output Shape              Param #   \n",
      "=================================================================\n",
      "lstm_18 (LSTM)               (None, 42, 512)           1056768   \n",
      "_________________________________________________________________\n",
      "lstm_19 (LSTM)               (None, 42, 128)           328192    \n",
      "_________________________________________________________________\n",
      "lstm_20 (LSTM)               (None, 42, 64)            49408     \n",
      "_________________________________________________________________\n",
      "lstm_21 (LSTM)               (None, 42, 32)            12416     \n",
      "_________________________________________________________________\n",
      "lstm_22 (LSTM)               (None, 16)                3136      \n",
      "_________________________________________________________________\n",
      "dense_4 (Dense)              (None, 3)                 51        \n",
      "=================================================================\n",
      "Total params: 1,449,971\n",
      "Trainable params: 1,449,971\n",
      "Non-trainable params: 0\n",
      "_________________________________________________________________\n"
     ]
    }
   ],
   "source": [
    "model.summary()"
   ]
  },
  {
   "cell_type": "code",
   "execution_count": 112,
   "metadata": {},
   "outputs": [
    {
     "name": "stdout",
     "output_type": "stream",
     "text": [
      "0 [[0.98244953 0.00955761 0.00799295]]\n",
      "1 [[0.9834269  0.00972302 0.00685008]]\n",
      "2 [[0.98257184 0.01029516 0.00713292]]\n",
      "3 [[0.97998315 0.01203771 0.00797914]]\n",
      "4 [[0.01031773 0.9853629  0.00431946]]\n",
      "5 [[0.0182305  0.97041196 0.0113576 ]]\n",
      "6 [[0.01509493 0.9752715  0.00963354]]\n",
      "7 [[0.01320993 0.98166627 0.00512379]]\n",
      "8 [[0.00792891 0.00687636 0.98519474]]\n",
      "9 [[0.00714718 0.00696048 0.98589236]]\n",
      "10 [[0.00731849 0.00693828 0.9857432 ]]\n",
      "11 [[0.0079716  0.00727061 0.9847578 ]]\n"
     ]
    }
   ],
   "source": [
    "np.set_printoptions(suppress=True)\n",
    "for i in range(tmp.shape[0]):\n",
    "    t = tmp[i,:,:]\n",
    "    t = t.reshape(1,int(maxlen/3),3)\n",
    "    p = model.predict(t)\n",
    "    print(i, p)"
   ]
  },
  {
   "cell_type": "code",
   "execution_count": 113,
   "metadata": {},
   "outputs": [
    {
     "data": {
      "text/plain": [
       "array([[1, 0, 0],\n",
       "       [1, 0, 0],\n",
       "       [1, 0, 0],\n",
       "       [1, 0, 0],\n",
       "       [0, 1, 0],\n",
       "       [0, 1, 0],\n",
       "       [0, 1, 0],\n",
       "       [0, 1, 0],\n",
       "       [0, 0, 1],\n",
       "       [0, 0, 1],\n",
       "       [0, 0, 1],\n",
       "       [0, 0, 1]])"
      ]
     },
     "execution_count": 113,
     "metadata": {},
     "output_type": "execute_result"
    }
   ],
   "source": [
    "y_train"
   ]
  },
  {
   "cell_type": "code",
   "execution_count": 114,
   "metadata": {
    "scrolled": true
   },
   "outputs": [
    {
     "name": "stdout",
     "output_type": "stream",
     "text": [
      "[[0.981925   0.00934569 0.0087294 ]]\n",
      "[[0.02892124 0.9247117  0.04636705]]\n",
      "[[0.00890752 0.00846401 0.98262846]]\n"
     ]
    }
   ],
   "source": [
    "pred_up = model.predict(nor_up_test)\n",
    "pred_right = model.predict(nor_right_test)\n",
    "pred_down = model.predict(nor_down_test)\n",
    "\n",
    "np.set_printoptions(suppress=True)\n",
    "print(pred_up)\n",
    "print(pred_right)\n",
    "print(pred_down)"
   ]
  },
  {
   "cell_type": "code",
   "execution_count": 115,
   "metadata": {},
   "outputs": [
    {
     "name": "stdout",
     "output_type": "stream",
     "text": [
      "[[1. 0. 0.]]\n",
      "[[0. 1. 0.]]\n",
      "[[0. 0. 1.]]\n"
     ]
    }
   ],
   "source": [
    "for i in range(pred_up.shape[1]):\n",
    "    if pred_up[0][i] == max(pred_up[0][:]):\n",
    "        pred_up[0][i] = 1\n",
    "    else:\n",
    "        pred_up[0][i] = 0\n",
    "        \n",
    "    if pred_right[0][i] == max(pred_right[0][:]):\n",
    "        pred_right[0][i] = 1\n",
    "    else:\n",
    "        pred_right[0][i] = 0\n",
    "        \n",
    "    if pred_down[0][i] == max(pred_down[0][:]):\n",
    "        pred_down[0][i] = 1\n",
    "    else:\n",
    "        pred_down[0][i] = 0\n",
    "    \n",
    "print(pred_up)\n",
    "print(pred_right)\n",
    "print(pred_down)"
   ]
  },
  {
   "cell_type": "code",
   "execution_count": 116,
   "metadata": {},
   "outputs": [],
   "source": [
    "#model.save('./saved model/classifier12_97_95_86.h5')"
   ]
  }
 ],
 "metadata": {
  "kernelspec": {
   "display_name": "Python 3",
   "language": "python",
   "name": "python3"
  },
  "language_info": {
   "codemirror_mode": {
    "name": "ipython",
    "version": 3
   },
   "file_extension": ".py",
   "mimetype": "text/x-python",
   "name": "python",
   "nbconvert_exporter": "python",
   "pygments_lexer": "ipython3",
   "version": "3.6.9"
  }
 },
 "nbformat": 4,
 "nbformat_minor": 4
}
