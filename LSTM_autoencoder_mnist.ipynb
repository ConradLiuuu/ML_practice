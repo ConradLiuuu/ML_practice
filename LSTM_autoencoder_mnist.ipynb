{
 "cells": [
  {
   "cell_type": "code",
   "execution_count": 16,
   "metadata": {},
   "outputs": [],
   "source": [
    "from keras.layers import Input, Dense, Conv2D, MaxPooling2D, UpSampling2D, LSTM, RepeatVector\n",
    "from keras.models import Model"
   ]
  },
  {
   "cell_type": "code",
   "execution_count": 17,
   "metadata": {},
   "outputs": [],
   "source": [
    "input_img = Input(shape=(28, 28))  # adapt this if using `channels_first` image data format"
   ]
  },
  {
   "cell_type": "code",
   "execution_count": 18,
   "metadata": {},
   "outputs": [],
   "source": [
    "#x = Conv2D(16, (3, 3), activation='relu', padding='same')(input_img)\n",
    "#x = MaxPooling2D((2, 2), padding='same')(x)\n",
    "#x = Conv2D(8, (3, 3), activation='relu', padding='same')(x)\n",
    "#x = MaxPooling2D((2, 2), padding='same')(x)\n",
    "#x = Conv2D(8, (3, 3), activation='relu', padding='same')(x)\n",
    "#encoded = MaxPooling2D((2, 2), padding='same')(x)"
   ]
  },
  {
   "cell_type": "code",
   "execution_count": 19,
   "metadata": {},
   "outputs": [],
   "source": [
    "# at this point the representation is (4, 4, 8) i.e. 128-dimensional\n",
    "\n",
    "#x = Conv2D(8, (3, 3), activation='relu', padding='same')(encoded)\n",
    "#x = UpSampling2D((2, 2))(x)\n",
    "#x = Conv2D(8, (3, 3), activation='relu', padding='same')(x)\n",
    "#x = UpSampling2D((2, 2))(x)\n",
    "#x = Conv2D(16, (3, 3), activation='relu')(x)\n",
    "#x = UpSampling2D((2, 2))(x)\n",
    "#decoded = Conv2D(1, (3, 3), activation='sigmoid', padding='same')(x)"
   ]
  },
  {
   "cell_type": "code",
   "execution_count": 20,
   "metadata": {},
   "outputs": [],
   "source": [
    "#x = LSTM(64, activation='relu', return_sequences=True)(input_img)\n",
    "#x = RepeatVector(28)(x)\n",
    "#decoded = LSTM(28, activation='relu', return_sequences=True)(x)"
   ]
  },
  {
   "cell_type": "code",
   "execution_count": 21,
   "metadata": {},
   "outputs": [],
   "source": [
    "\n",
    "x = LSTM(128, activation='relu', return_sequences=True)(input_img)\n",
    "#x = RepeatVector(28)(x)\n",
    "#x = LSTM(64, activation='relu', return_sequences=True)(x)\n",
    "x = LSTM(32, activation='relu', return_sequences=True)(x)\n",
    "#x = RepeatVector(28)(x)\n",
    "#x = LSTM(64, activation='relu', return_sequences=True)(x)\n",
    "x = LSTM(128, activation='relu', return_sequences=True)(x)\n",
    "#x = RepeatVector(28)(x)\n",
    "decoded = LSTM(28, activation='relu', return_sequences=True)(x)\n"
   ]
  },
  {
   "cell_type": "code",
   "execution_count": 22,
   "metadata": {},
   "outputs": [],
   "source": [
    "autoencoder = Model(input_img, decoded)"
   ]
  },
  {
   "cell_type": "code",
   "execution_count": 23,
   "metadata": {},
   "outputs": [
    {
     "name": "stdout",
     "output_type": "stream",
     "text": [
      "_________________________________________________________________\n",
      "Layer (type)                 Output Shape              Param #   \n",
      "=================================================================\n",
      "input_2 (InputLayer)         (None, 28, 28)            0         \n",
      "_________________________________________________________________\n",
      "lstm_5 (LSTM)                (None, 28, 128)           80384     \n",
      "_________________________________________________________________\n",
      "lstm_6 (LSTM)                (None, 28, 32)            20608     \n",
      "_________________________________________________________________\n",
      "lstm_7 (LSTM)                (None, 28, 128)           82432     \n",
      "_________________________________________________________________\n",
      "lstm_8 (LSTM)                (None, 28, 28)            17584     \n",
      "=================================================================\n",
      "Total params: 201,008\n",
      "Trainable params: 201,008\n",
      "Non-trainable params: 0\n",
      "_________________________________________________________________\n"
     ]
    }
   ],
   "source": [
    "autoencoder.summary()"
   ]
  },
  {
   "cell_type": "code",
   "execution_count": 24,
   "metadata": {},
   "outputs": [],
   "source": [
    "#autoencoder = Model(input_img, decoded)\n",
    "autoencoder.compile(optimizer='adam', loss='binary_crossentropy', metrics=['accuracy'])"
   ]
  },
  {
   "cell_type": "code",
   "execution_count": 25,
   "metadata": {},
   "outputs": [],
   "source": [
    "from keras.datasets import mnist\n",
    "import numpy as np\n",
    "\n",
    "(x_train, _), (x_test, _) = mnist.load_data()\n",
    "\n",
    "x_train = x_train.astype('float32') / 255.\n",
    "x_test = x_test.astype('float32') / 255.\n",
    "x_train = np.reshape(x_train, (len(x_train), 28, 28))  # adapt this if using `channels_first` image data format\n",
    "x_test = np.reshape(x_test, (len(x_test), 28, 28))  # adapt this if using `channels_first` image data format"
   ]
  },
  {
   "cell_type": "code",
   "execution_count": 26,
   "metadata": {
    "scrolled": true
   },
   "outputs": [
    {
     "name": "stdout",
     "output_type": "stream",
     "text": [
      "Epoch 1/30\n",
      "60000/60000 [==============================] - 7s 122us/step - loss: 0.4068 - acc: 0.8063\n",
      "Epoch 2/30\n",
      "60000/60000 [==============================] - 6s 100us/step - loss: 0.2713 - acc: 0.7991\n",
      "Epoch 3/30\n",
      "60000/60000 [==============================] - 6s 100us/step - loss: 0.2993 - acc: 0.8034\n",
      "Epoch 4/30\n",
      "60000/60000 [==============================] - 6s 100us/step - loss: 0.2731 - acc: 0.8007\n",
      "Epoch 5/30\n",
      "60000/60000 [==============================] - 6s 100us/step - loss: 0.2672 - acc: 0.8004\n",
      "Epoch 6/30\n",
      "60000/60000 [==============================] - 6s 100us/step - loss: 0.2547 - acc: 0.8000\n",
      "Epoch 7/30\n",
      "60000/60000 [==============================] - 6s 100us/step - loss: 0.2528 - acc: 0.8001\n",
      "Epoch 8/30\n",
      "60000/60000 [==============================] - 6s 100us/step - loss: 0.2492 - acc: 0.8016\n",
      "Epoch 9/30\n",
      "60000/60000 [==============================] - 6s 100us/step - loss: 0.2694 - acc: 0.8015 0s - loss: 0.2686 - acc: 0.801\n",
      "Epoch 10/30\n",
      "60000/60000 [==============================] - 6s 100us/step - loss: 0.2849 - acc: 0.8064\n",
      "Epoch 11/30\n",
      "60000/60000 [==============================] - 6s 100us/step - loss: 0.2529 - acc: 0.8002\n",
      "Epoch 12/30\n",
      "60000/60000 [==============================] - 6s 100us/step - loss: 0.2583 - acc: 0.8036 2s\n",
      "Epoch 13/30\n",
      "60000/60000 [==============================] - 6s 100us/step - loss: 0.2437 - acc: 0.8002 3\n",
      "Epoch 14/30\n",
      "60000/60000 [==============================] - 6s 100us/step - loss: 0.2261 - acc: 0.7999\n",
      "Epoch 15/30\n",
      "60000/60000 [==============================] - 6s 100us/step - loss: 0.2206 - acc: 0.8023\n",
      "Epoch 16/30\n",
      "60000/60000 [==============================] - 6s 100us/step - loss: 0.2016 - acc: 0.8048 1s - loss: 0.2028 - a\n",
      "Epoch 17/30\n",
      "60000/60000 [==============================] - 6s 100us/step - loss: 0.1886 - acc: 0.8069\n",
      "Epoch 18/30\n",
      "60000/60000 [==============================] - 6s 100us/step - loss: 0.1900 - acc: 0.8077\n",
      "Epoch 19/30\n",
      "60000/60000 [==============================] - 6s 100us/step - loss: 0.1639 - acc: 0.8105\n",
      "Epoch 20/30\n",
      "60000/60000 [==============================] - 6s 100us/step - loss: 0.1759 - acc: 0.8098\n",
      "Epoch 21/30\n",
      "60000/60000 [==============================] - 6s 101us/step - loss: 0.1604 - acc: 0.8104\n",
      "Epoch 22/30\n",
      "60000/60000 [==============================] - 6s 100us/step - loss: 0.1686 - acc: 0.8095 1s - loss: 0.1707 - a\n",
      "Epoch 23/30\n",
      "60000/60000 [==============================] - 6s 101us/step - loss: 0.1463 - acc: 0.8120\n",
      "Epoch 24/30\n",
      "60000/60000 [==============================] - 6s 101us/step - loss: 0.1366 - acc: 0.8127 1s - loss: 0.1\n",
      "Epoch 25/30\n",
      "60000/60000 [==============================] - 6s 101us/step - loss: 0.1312 - acc: 0.8129\n",
      "Epoch 26/30\n",
      "60000/60000 [==============================] - 6s 100us/step - loss: 0.1223 - acc: 0.8135\n",
      "Epoch 27/30\n",
      "60000/60000 [==============================] - 6s 101us/step - loss: 0.1536 - acc: 0.8113\n",
      "Epoch 28/30\n",
      "60000/60000 [==============================] - 6s 100us/step - loss: 0.1344 - acc: 0.8125\n",
      "Epoch 29/30\n",
      "60000/60000 [==============================] - 6s 101us/step - loss: 0.1275 - acc: 0.8131\n",
      "Epoch 30/30\n",
      "60000/60000 [==============================] - 6s 101us/step - loss: 0.1263 - acc: 0.8131\n"
     ]
    },
    {
     "data": {
      "text/plain": [
       "<keras.callbacks.History at 0x7fd65c3be780>"
      ]
     },
     "execution_count": 26,
     "metadata": {},
     "output_type": "execute_result"
    }
   ],
   "source": [
    "autoencoder.fit(x_train, x_train,\n",
    "                epochs=30,\n",
    "                batch_size=1000)"
   ]
  },
  {
   "cell_type": "code",
   "execution_count": 27,
   "metadata": {},
   "outputs": [
    {
     "data": {
      "text/plain": [
       "(10, 28, 28)"
      ]
     },
     "execution_count": 27,
     "metadata": {},
     "output_type": "execute_result"
    }
   ],
   "source": [
    "x_test1 = x_test[:10]\n",
    "x_test1.shape"
   ]
  },
  {
   "cell_type": "code",
   "execution_count": 28,
   "metadata": {},
   "outputs": [
    {
     "data": {
      "text/plain": [
       "(10, 28, 28)"
      ]
     },
     "execution_count": 28,
     "metadata": {},
     "output_type": "execute_result"
    }
   ],
   "source": [
    "x_test2 = x_test[10:20]\n",
    "x_test2.shape"
   ]
  },
  {
   "cell_type": "code",
   "execution_count": 29,
   "metadata": {},
   "outputs": [
    {
     "data": {
      "image/png": "[encoded data removed]",
      "text/plain": [
       "<Figure size 1440x288 with 20 Axes>"
      ]
     },
     "metadata": {
      "needs_background": "light"
     },
     "output_type": "display_data"
    }
   ],
   "source": [
    "import matplotlib.pyplot as plt\n",
    "decoded_imgs = autoencoder.predict(x_test)\n",
    "\n",
    "n = 10\n",
    "plt.figure(figsize=(20, 4))\n",
    "for i in range(n):\n",
    "    # display original\n",
    "    ax = plt.subplot(2, n, i+1)\n",
    "    plt.imshow(x_test1[i].reshape(28, 28))\n",
    "    plt.gray()\n",
    "    ax.get_xaxis().set_visible(False)\n",
    "    ax.get_yaxis().set_visible(False)\n",
    "\n",
    "    # display reconstruction\n",
    "    ax = plt.subplot(2, n, i + n + 1)\n",
    "    plt.imshow(decoded_imgs[i].reshape(28, 28))\n",
    "    plt.gray()\n",
    "    ax.get_xaxis().set_visible(False)\n",
    "    ax.get_yaxis().set_visible(False)\n",
    "plt.show()"
   ]
  },
  {
   "cell_type": "code",
   "execution_count": 30,
   "metadata": {},
   "outputs": [
    {
     "data": {
      "image/png": "[encoded data removed]",
      "text/plain": [
       "<Figure size 1440x288 with 20 Axes>"
      ]
     },
     "metadata": {
      "needs_background": "light"
     },
     "output_type": "display_data"
    }
   ],
   "source": [
    "import matplotlib.pyplot as plt\n",
    "\n",
    "x_test2 = x_test[40:50]\n",
    "decoded_imgs = autoencoder.predict(x_test2)\n",
    "\n",
    "n = 10\n",
    "plt.figure(figsize=(20, 4))\n",
    "for i in range(n):\n",
    "    # display original\n",
    "    ax = plt.subplot(2, n, i+1)\n",
    "    plt.imshow(x_test2[i].reshape(28, 28))\n",
    "    plt.gray()\n",
    "    ax.get_xaxis().set_visible(False)\n",
    "    ax.get_yaxis().set_visible(False)\n",
    "\n",
    "    # display reconstruction\n",
    "    ax = plt.subplot(2, n, i + n + 1)\n",
    "    plt.imshow(decoded_imgs[i].reshape(28, 28))\n",
    "    plt.gray()\n",
    "    ax.get_xaxis().set_visible(False)\n",
    "    ax.get_yaxis().set_visible(False)\n",
    "plt.show()"
   ]
  }
 ],
 "metadata": {
  "kernelspec": {
   "display_name": "Python 3",
   "language": "python",
   "name": "python3"
  },
  "language_info": {
   "codemirror_mode": {
    "name": "ipython",
    "version": 3
   },
   "file_extension": ".py",
   "mimetype": "text/x-python",
   "name": "python",
   "nbconvert_exporter": "python",
   "pygments_lexer": "ipython3",
   "version": "3.6.9"
  }
 },
 "nbformat": 4,
 "nbformat_minor": 4
}
