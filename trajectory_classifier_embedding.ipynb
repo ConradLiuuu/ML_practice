{
 "cells": [
  {
   "cell_type": "code",
   "execution_count": 103,
   "metadata": {},
   "outputs": [],
   "source": [
    "import pandas as pd\n",
    "import numpy as np"
   ]
  },
  {
   "cell_type": "code",
   "execution_count": 104,
   "metadata": {},
   "outputs": [],
   "source": [
    "from keras.preprocessing import sequence"
   ]
  },
  {
   "cell_type": "code",
   "execution_count": 105,
   "metadata": {},
   "outputs": [],
   "source": [
    "from keras.models import Sequential\n",
    "from keras.layers import Dense, LSTM, Activation, Embedding"
   ]
  },
  {
   "cell_type": "code",
   "execution_count": 106,
   "metadata": {},
   "outputs": [],
   "source": [
    "import matplotlib.pyplot as plt"
   ]
  },
  {
   "cell_type": "code",
   "execution_count": 107,
   "metadata": {},
   "outputs": [
    {
     "data": {
      "text/plain": [
       "(504, 3)"
      ]
     },
     "execution_count": 107,
     "metadata": {},
     "output_type": "execute_result"
    }
   ],
   "source": [
    "x_train = np.array(pd.read_csv('./trajectory/twelve_trajectory.csv', header=None))\n",
    "x_train.shape"
   ]
  },
  {
   "cell_type": "code",
   "execution_count": 108,
   "metadata": {},
   "outputs": [
    {
     "data": {
      "text/plain": [
       "(12, 3)"
      ]
     },
     "execution_count": 108,
     "metadata": {},
     "output_type": "execute_result"
    }
   ],
   "source": [
    "y_train = np.array(pd.read_csv('./trajectory/twelve_ytrain.csv', header=None))\n",
    "y_train.shape"
   ]
  },
  {
   "cell_type": "code",
   "execution_count": 109,
   "metadata": {},
   "outputs": [
    {
     "name": "stdout",
     "output_type": "stream",
     "text": [
      "0 96 -19 278 0 56\n"
     ]
    }
   ],
   "source": [
    "x_max = max(x_train[:,0])\n",
    "x_min = min(x_train[:,0])\n",
    "y_max = max(x_train[:,1])\n",
    "y_min = min(x_train[:,1])\n",
    "z_max = max(x_train[:,2])\n",
    "z_min = min(x_train[:,2])\n",
    "print(x_min, x_max, y_min, y_max, z_min, z_max)"
   ]
  },
  {
   "cell_type": "code",
   "execution_count": 110,
   "metadata": {},
   "outputs": [],
   "source": [
    "x_train = x_train.reshape(12, 126)"
   ]
  },
  {
   "cell_type": "code",
   "execution_count": 111,
   "metadata": {},
   "outputs": [],
   "source": [
    "n_classes = 3"
   ]
  },
  {
   "cell_type": "code",
   "execution_count": 112,
   "metadata": {},
   "outputs": [],
   "source": [
    "model = Sequential()\n",
    "model.add(Embedding(1000, 3, input_length=126))\n",
    "model.add(LSTM(units=128, activation='tanh', unroll=True, return_sequences=True))\n",
    "model.add(LSTM(units=64, activation='tanh', unroll=True, return_sequences=True))\n",
    "model.add(LSTM(units=32, activation='tanh', unroll=True, return_sequences=True))\n",
    "model.add(LSTM(units=16, activation='tanh', unroll=True))\n",
    "model.add(Dense(units=n_classes, activation='softmax'))\n",
    "model.compile(loss='categorical_crossentropy', optimizer='adam', metrics=['accuracy'])"
   ]
  },
  {
   "cell_type": "code",
   "execution_count": 113,
   "metadata": {},
   "outputs": [
    {
     "name": "stdout",
     "output_type": "stream",
     "text": [
      "_________________________________________________________________\n",
      "Layer (type)                 Output Shape              Param #   \n",
      "=================================================================\n",
      "embedding_4 (Embedding)      (None, 126, 3)            3000      \n",
      "_________________________________________________________________\n",
      "lstm_13 (LSTM)               (None, 126, 128)          67584     \n",
      "_________________________________________________________________\n",
      "lstm_14 (LSTM)               (None, 126, 64)           49408     \n",
      "_________________________________________________________________\n",
      "lstm_15 (LSTM)               (None, 126, 32)           12416     \n",
      "_________________________________________________________________\n",
      "lstm_16 (LSTM)               (None, 16)                3136      \n",
      "_________________________________________________________________\n",
      "dense_4 (Dense)              (None, 3)                 51        \n",
      "=================================================================\n",
      "Total params: 135,595\n",
      "Trainable params: 135,595\n",
      "Non-trainable params: 0\n",
      "_________________________________________________________________\n"
     ]
    }
   ],
   "source": [
    "model.summary()"
   ]
  },
  {
   "cell_type": "code",
   "execution_count": 114,
   "metadata": {
    "scrolled": true
   },
   "outputs": [
    {
     "name": "stdout",
     "output_type": "stream",
     "text": [
      "Epoch 1/80\n",
      "12/12 [==============================] - 124s 10s/step - loss: 1.1006 - acc: 0.2500\n",
      "Epoch 2/80\n",
      "12/12 [==============================] - 0s 37ms/step - loss: 1.0982 - acc: 0.1667\n",
      "Epoch 3/80\n",
      "12/12 [==============================] - 0s 37ms/step - loss: 1.0979 - acc: 0.3333\n",
      "Epoch 4/80\n",
      "12/12 [==============================] - 0s 37ms/step - loss: 1.0963 - acc: 0.3333\n",
      "Epoch 5/80\n",
      "12/12 [==============================] - 0s 37ms/step - loss: 1.0932 - acc: 0.5000\n",
      "Epoch 6/80\n",
      "12/12 [==============================] - 0s 38ms/step - loss: 1.0913 - acc: 0.5000\n",
      "Epoch 7/80\n",
      "12/12 [==============================] - 0s 37ms/step - loss: 1.0804 - acc: 0.5000\n",
      "Epoch 8/80\n",
      "12/12 [==============================] - 0s 37ms/step - loss: 1.0629 - acc: 0.5000\n",
      "Epoch 9/80\n",
      "12/12 [==============================] - 0s 37ms/step - loss: 1.0080 - acc: 0.5833\n",
      "Epoch 10/80\n",
      "12/12 [==============================] - 0s 37ms/step - loss: 1.0255 - acc: 0.5833\n",
      "Epoch 11/80\n",
      "12/12 [==============================] - 0s 38ms/step - loss: 0.8792 - acc: 0.7500\n",
      "Epoch 12/80\n",
      "12/12 [==============================] - 0s 37ms/step - loss: 0.8583 - acc: 0.8333\n",
      "Epoch 13/80\n",
      "12/12 [==============================] - 0s 37ms/step - loss: 0.8134 - acc: 0.6667\n",
      "Epoch 14/80\n",
      "12/12 [==============================] - 0s 37ms/step - loss: 0.7547 - acc: 0.6667\n",
      "Epoch 15/80\n",
      "12/12 [==============================] - 0s 37ms/step - loss: 0.6817 - acc: 0.6667\n",
      "Epoch 16/80\n",
      "12/12 [==============================] - 0s 36ms/step - loss: 0.6057 - acc: 0.6667\n",
      "Epoch 17/80\n",
      "12/12 [==============================] - 0s 37ms/step - loss: 0.5548 - acc: 0.6667\n",
      "Epoch 18/80\n",
      "12/12 [==============================] - 0s 37ms/step - loss: 0.5501 - acc: 0.6667\n",
      "Epoch 19/80\n",
      "12/12 [==============================] - 0s 37ms/step - loss: 0.5234 - acc: 0.7500\n",
      "Epoch 20/80\n",
      "12/12 [==============================] - 0s 37ms/step - loss: 0.5587 - acc: 0.6667\n",
      "Epoch 21/80\n",
      "12/12 [==============================] - 0s 37ms/step - loss: 0.5334 - acc: 0.6667\n",
      "Epoch 22/80\n",
      "12/12 [==============================] - 0s 37ms/step - loss: 0.5114 - acc: 0.7500\n",
      "Epoch 23/80\n",
      "12/12 [==============================] - 0s 37ms/step - loss: 0.4532 - acc: 0.7500\n",
      "Epoch 24/80\n",
      "12/12 [==============================] - 0s 37ms/step - loss: 0.4735 - acc: 0.9167\n",
      "Epoch 25/80\n",
      "12/12 [==============================] - 0s 37ms/step - loss: 0.3846 - acc: 1.0000\n",
      "Epoch 26/80\n",
      "12/12 [==============================] - 0s 37ms/step - loss: 0.3842 - acc: 0.8333\n",
      "Epoch 27/80\n",
      "12/12 [==============================] - 0s 37ms/step - loss: 0.3406 - acc: 1.0000\n",
      "Epoch 28/80\n",
      "12/12 [==============================] - 0s 38ms/step - loss: 0.3136 - acc: 1.0000\n",
      "Epoch 29/80\n",
      "12/12 [==============================] - 0s 37ms/step - loss: 0.3100 - acc: 0.9167\n",
      "Epoch 30/80\n",
      "12/12 [==============================] - 0s 37ms/step - loss: 0.2693 - acc: 1.0000\n",
      "Epoch 31/80\n",
      "12/12 [==============================] - 0s 37ms/step - loss: 0.2635 - acc: 1.0000\n",
      "Epoch 32/80\n",
      "12/12 [==============================] - 0s 37ms/step - loss: 0.2406 - acc: 1.0000\n",
      "Epoch 33/80\n",
      "12/12 [==============================] - 0s 37ms/step - loss: 0.2086 - acc: 1.0000\n",
      "Epoch 34/80\n",
      "12/12 [==============================] - 0s 37ms/step - loss: 0.1779 - acc: 1.0000\n",
      "Epoch 35/80\n",
      "12/12 [==============================] - 0s 37ms/step - loss: 0.1646 - acc: 1.0000\n",
      "Epoch 36/80\n",
      "12/12 [==============================] - 0s 37ms/step - loss: 0.1465 - acc: 1.0000\n",
      "Epoch 37/80\n",
      "12/12 [==============================] - 0s 37ms/step - loss: 0.1345 - acc: 1.0000\n",
      "Epoch 38/80\n",
      "12/12 [==============================] - 0s 37ms/step - loss: 0.1236 - acc: 1.0000\n",
      "Epoch 39/80\n",
      "12/12 [==============================] - 0s 37ms/step - loss: 0.1130 - acc: 1.0000\n",
      "Epoch 40/80\n",
      "12/12 [==============================] - 0s 37ms/step - loss: 0.1046 - acc: 1.0000\n",
      "Epoch 41/80\n",
      "12/12 [==============================] - 0s 37ms/step - loss: 0.0947 - acc: 1.0000\n",
      "Epoch 42/80\n",
      "12/12 [==============================] - 0s 37ms/step - loss: 0.0858 - acc: 1.0000\n",
      "Epoch 43/80\n",
      "12/12 [==============================] - 0s 37ms/step - loss: 0.0792 - acc: 1.0000\n",
      "Epoch 44/80\n",
      "12/12 [==============================] - 0s 37ms/step - loss: 0.0736 - acc: 1.0000\n",
      "Epoch 45/80\n",
      "12/12 [==============================] - 0s 37ms/step - loss: 0.0677 - acc: 1.0000\n",
      "Epoch 46/80\n",
      "12/12 [==============================] - 0s 37ms/step - loss: 0.0626 - acc: 1.0000\n",
      "Epoch 47/80\n",
      "12/12 [==============================] - 0s 37ms/step - loss: 0.0663 - acc: 1.0000\n",
      "Epoch 48/80\n",
      "12/12 [==============================] - 0s 37ms/step - loss: 0.0531 - acc: 1.0000\n",
      "Epoch 49/80\n",
      "12/12 [==============================] - 0s 37ms/step - loss: 0.0499 - acc: 1.0000\n",
      "Epoch 50/80\n",
      "12/12 [==============================] - 0s 37ms/step - loss: 0.0465 - acc: 1.0000\n",
      "Epoch 51/80\n",
      "12/12 [==============================] - 0s 37ms/step - loss: 0.0432 - acc: 1.0000\n",
      "Epoch 52/80\n",
      "12/12 [==============================] - 0s 37ms/step - loss: 0.0405 - acc: 1.0000\n",
      "Epoch 53/80\n",
      "12/12 [==============================] - 0s 37ms/step - loss: 0.0384 - acc: 1.0000\n",
      "Epoch 54/80\n",
      "12/12 [==============================] - 0s 37ms/step - loss: 0.0361 - acc: 1.0000\n",
      "Epoch 55/80\n",
      "12/12 [==============================] - 0s 37ms/step - loss: 0.0341 - acc: 1.0000\n",
      "Epoch 56/80\n",
      "12/12 [==============================] - 0s 37ms/step - loss: 0.0326 - acc: 1.0000\n",
      "Epoch 57/80\n",
      "12/12 [==============================] - 0s 37ms/step - loss: 0.0310 - acc: 1.0000\n",
      "Epoch 58/80\n",
      "12/12 [==============================] - 0s 36ms/step - loss: 0.0296 - acc: 1.0000\n",
      "Epoch 59/80\n",
      "12/12 [==============================] - 0s 37ms/step - loss: 0.0284 - acc: 1.0000\n",
      "Epoch 60/80\n",
      "12/12 [==============================] - 0s 37ms/step - loss: 0.0273 - acc: 1.0000\n",
      "Epoch 61/80\n",
      "12/12 [==============================] - 0s 37ms/step - loss: 0.0262 - acc: 1.0000\n",
      "Epoch 62/80\n",
      "12/12 [==============================] - 0s 36ms/step - loss: 0.0252 - acc: 1.0000\n",
      "Epoch 63/80\n",
      "12/12 [==============================] - 0s 37ms/step - loss: 0.0244 - acc: 1.0000\n",
      "Epoch 64/80\n",
      "12/12 [==============================] - 0s 37ms/step - loss: 0.0236 - acc: 1.0000\n",
      "Epoch 65/80\n",
      "12/12 [==============================] - 0s 37ms/step - loss: 0.0229 - acc: 1.0000\n",
      "Epoch 66/80\n",
      "12/12 [==============================] - 0s 37ms/step - loss: 0.0222 - acc: 1.0000\n",
      "Epoch 67/80\n",
      "12/12 [==============================] - 0s 37ms/step - loss: 0.0215 - acc: 1.0000\n",
      "Epoch 68/80\n",
      "12/12 [==============================] - 0s 37ms/step - loss: 0.0210 - acc: 1.0000\n",
      "Epoch 69/80\n",
      "12/12 [==============================] - 0s 37ms/step - loss: 0.0204 - acc: 1.0000\n",
      "Epoch 70/80\n",
      "12/12 [==============================] - 0s 37ms/step - loss: 0.0199 - acc: 1.0000\n",
      "Epoch 71/80\n",
      "12/12 [==============================] - 0s 37ms/step - loss: 0.0194 - acc: 1.0000\n",
      "Epoch 72/80\n",
      "12/12 [==============================] - 0s 37ms/step - loss: 0.0190 - acc: 1.0000\n",
      "Epoch 73/80\n",
      "12/12 [==============================] - 0s 37ms/step - loss: 0.0186 - acc: 1.0000\n",
      "Epoch 74/80\n",
      "12/12 [==============================] - 0s 37ms/step - loss: 0.0182 - acc: 1.0000\n",
      "Epoch 75/80\n",
      "12/12 [==============================] - 0s 37ms/step - loss: 0.0178 - acc: 1.0000\n",
      "Epoch 76/80\n",
      "12/12 [==============================] - 0s 37ms/step - loss: 0.0174 - acc: 1.0000\n",
      "Epoch 77/80\n",
      "12/12 [==============================] - 0s 37ms/step - loss: 0.0171 - acc: 1.0000\n",
      "Epoch 78/80\n",
      "12/12 [==============================] - 0s 37ms/step - loss: 0.0168 - acc: 1.0000\n",
      "Epoch 79/80\n",
      "12/12 [==============================] - 0s 37ms/step - loss: 0.0165 - acc: 1.0000\n",
      "Epoch 80/80\n",
      "12/12 [==============================] - 0s 37ms/step - loss: 0.0161 - acc: 1.0000\n"
     ]
    }
   ],
   "source": [
    "batch_size = 6\n",
    "training_iters = 80\n",
    "history = model.fit(x_train, y_train, batch_size=batch_size, epochs=training_iters)"
   ]
  },
  {
   "cell_type": "code",
   "execution_count": 115,
   "metadata": {},
   "outputs": [
    {
     "data": {
      "image/png": "[encoded data removed]",
      "text/plain": [
       "<Figure size 432x288 with 1 Axes>"
      ]
     },
     "metadata": {
      "needs_background": "light"
     },
     "output_type": "display_data"
    }
   ],
   "source": [
    "# summarize history for accuracy\n",
    "plt.plot(history.history['acc'])\n",
    "#plt.plot(history.history['val_accuracy'])\n",
    "plt.title('model accuracy')\n",
    "plt.ylabel('accuracy')\n",
    "plt.xlabel('epoch')\n",
    "plt.legend(['train', 'test'], loc='upper left')\n",
    "plt.show()"
   ]
  },
  {
   "cell_type": "code",
   "execution_count": 116,
   "metadata": {},
   "outputs": [
    {
     "data": {
      "image/png": "[encoded data removed]",
      "text/plain": [
       "<Figure size 432x288 with 1 Axes>"
      ]
     },
     "metadata": {
      "needs_background": "light"
     },
     "output_type": "display_data"
    }
   ],
   "source": [
    "# summarize history for loss\n",
    "plt.plot(history.history['loss'])\n",
    "#plt.plot(history.history['val_loss'])\n",
    "plt.title('model loss')\n",
    "plt.ylabel('loss')\n",
    "plt.xlabel('epoch')\n",
    "plt.legend(['train', 'test'], loc='upper left')\n",
    "plt.show()"
   ]
  },
  {
   "cell_type": "code",
   "execution_count": 130,
   "metadata": {},
   "outputs": [
    {
     "name": "stdout",
     "output_type": "stream",
     "text": [
      "training up:\n",
      " [[0.98603696 0.00309041 0.01087269]\n",
      " [0.9859557  0.00313333 0.01091084]\n",
      " [0.9861113  0.00305179 0.0108369 ]\n",
      " [0.9858336  0.00319308 0.01097342]]\n",
      "training right:\n",
      " [[0.00450649 0.99331313 0.00218036]\n",
      " [0.00492169 0.9909322  0.00414606]\n",
      " [0.00631975 0.9876721  0.00600814]\n",
      " [0.00793274 0.9850818  0.00698544]]\n",
      "training down:\n",
      " [[0.02033814 0.00225268 0.9774091 ]\n",
      " [0.02034337 0.00225134 0.97740525]\n",
      " [0.02034023 0.00225185 0.9774079 ]\n",
      " [0.0203551  0.00224934 0.9773956 ]]\n"
     ]
    }
   ],
   "source": [
    "vali = model.predict(x_train)\n",
    "print(\"training up:\\n\", vali[0:4,:])\n",
    "print(\"training right:\\n\", vali[4:8,:])\n",
    "print(\"training down:\\n\", vali[8:12,:])"
   ]
  },
  {
   "cell_type": "code",
   "execution_count": 180,
   "metadata": {},
   "outputs": [],
   "source": [
    "#model.save('./saved model/classifierEmbedding_98_99_97.h5')"
   ]
  },
  {
   "cell_type": "code",
   "execution_count": 198,
   "metadata": {},
   "outputs": [
    {
     "data": {
      "text/plain": [
       "(1, 126)"
      ]
     },
     "execution_count": 198,
     "metadata": {},
     "output_type": "execute_result"
    }
   ],
   "source": [
    "maxlen = 42*3\n",
    "\n",
    "up_test = np.array(pd.read_csv('./trajectory/up_len37_2.csv'))\n",
    "right_test = np.array(pd.read_csv('./trajectory/right_len38.csv'))\n",
    "down_test = np.array(pd.read_csv('./trajectory/down_len38.csv'))\n",
    "\n",
    "#35\n",
    "#38\n",
    "#38\n",
    "\n",
    "up_test1 = up_test\n",
    "right_test1 = right_test\n",
    "down_test1 = down_test\n",
    "\n",
    "up_test1 = np.reshape(up_test1,(1,up_test1.shape[0]*up_test1.shape[1]))\n",
    "right_test1 = np.reshape(right_test1,(1,right_test1.shape[0]*right_test1.shape[1]))\n",
    "down_test1 = np.reshape(down_test1,(1,down_test1.shape[0]*down_test1.shape[1]))\n",
    "\n",
    "up_test1 = sequence.pad_sequences(up_test1, maxlen=maxlen, padding='post')\n",
    "right_test1 = sequence.pad_sequences(right_test1, maxlen=maxlen, padding='post')\n",
    "down_test1 = sequence.pad_sequences(down_test1, maxlen=maxlen, padding='post')\n",
    "\n",
    "#up_test = np.reshape(up_test,(int(up_test.shape[1]/3),3))\n",
    "#right_test = np.reshape(right_test,(int(right_test.shape[1]/3),3))\n",
    "#down_test = np.reshape(down_test,(int(down_test.shape[1]/3),3))\n",
    "right_test1.shape"
   ]
  },
  {
   "cell_type": "code",
   "execution_count": 199,
   "metadata": {},
   "outputs": [
    {
     "name": "stdout",
     "output_type": "stream",
     "text": [
      "[[0.9861113 0.0030518 0.0108369]]\n",
      "[[0.00492169 0.9909322  0.00414606]]\n",
      "[[0.02041701 0.00225192 0.97733104]]\n"
     ]
    }
   ],
   "source": [
    "# 80epoch\n",
    "pred_up = model.predict(up_test1)\n",
    "pred_right = model.predict(right_test1)\n",
    "pred_down = model.predict(down_test1)\n",
    "\n",
    "np.set_printoptions(suppress=True)\n",
    "print(pred_up)\n",
    "print(pred_right)\n",
    "print(pred_down)"
   ]
  },
  {
   "cell_type": "code",
   "execution_count": 200,
   "metadata": {},
   "outputs": [
    {
     "name": "stdout",
     "output_type": "stream",
     "text": [
      "number of balls = 1 , probability = [[0.9601517  0.00264558 0.03720275]]\n",
      "top spin\n",
      "number of balls = 2 , probability = [[0.96019024 0.00264108 0.03716857]]\n",
      "top spin\n",
      "number of balls = 3 , probability = [[0.9601974  0.0026408  0.03716181]]\n",
      "top spin\n",
      "number of balls = 4 , probability = [[0.9602065  0.00264052 0.037153  ]]\n",
      "top spin\n",
      "number of balls = 5 , probability = [[0.9602233  0.00264013 0.03713664]]\n",
      "top spin\n",
      "number of balls = 6 , probability = [[0.9602716  0.00263925 0.03708918]]\n",
      "top spin\n",
      "number of balls = 7 , probability = [[0.96048975 0.00263594 0.03687433]]\n",
      "top spin\n",
      "number of balls = 8 , probability = [[0.9613914  0.00262267 0.03598598]]\n",
      "top spin\n",
      "number of balls = 9 , probability = [[0.9645626  0.00257539 0.03286198]]\n",
      "top spin\n",
      "number of balls = 10 , probability = [[0.9769505  0.00251664 0.02053283]]\n",
      "top spin\n",
      "number of balls = 11 , probability = [[0.9860589  0.00295074 0.01099032]]\n",
      "top spin\n",
      "number of balls = 12 , probability = [[0.9861113 0.0030518 0.0108369]]\n",
      "top spin\n",
      "number of balls = 13 , probability = [[0.9861113 0.0030518 0.0108369]]\n",
      "top spin\n",
      "number of balls = 14 , probability = [[0.9861113 0.0030518 0.0108369]]\n",
      "top spin\n",
      "number of balls = 15 , probability = [[0.9861113 0.0030518 0.0108369]]\n",
      "top spin\n",
      "number of balls = 16 , probability = [[0.9861113 0.0030518 0.0108369]]\n",
      "top spin\n",
      "number of balls = 17 , probability = [[0.9861113 0.0030518 0.0108369]]\n",
      "top spin\n",
      "number of balls = 18 , probability = [[0.9861113 0.0030518 0.0108369]]\n",
      "top spin\n",
      "number of balls = 19 , probability = [[0.9861113 0.0030518 0.0108369]]\n",
      "top spin\n",
      "number of balls = 20 , probability = [[0.9861113 0.0030518 0.0108369]]\n",
      "top spin\n",
      "number of balls = 21 , probability = [[0.9861113 0.0030518 0.0108369]]\n",
      "top spin\n",
      "number of balls = 22 , probability = [[0.9861113 0.0030518 0.0108369]]\n",
      "top spin\n",
      "number of balls = 23 , probability = [[0.9861113 0.0030518 0.0108369]]\n",
      "top spin\n",
      "number of balls = 24 , probability = [[0.9861113 0.0030518 0.0108369]]\n",
      "top spin\n",
      "number of balls = 25 , probability = [[0.9861113 0.0030518 0.0108369]]\n",
      "top spin\n",
      "number of balls = 26 , probability = [[0.9861113 0.0030518 0.0108369]]\n",
      "top spin\n",
      "number of balls = 27 , probability = [[0.9861113 0.0030518 0.0108369]]\n",
      "top spin\n",
      "number of balls = 28 , probability = [[0.9861113 0.0030518 0.0108369]]\n",
      "top spin\n",
      "number of balls = 29 , probability = [[0.9861113 0.0030518 0.0108369]]\n",
      "top spin\n",
      "number of balls = 30 , probability = [[0.9861113 0.0030518 0.0108369]]\n",
      "top spin\n"
     ]
    }
   ],
   "source": [
    "## top spin\n",
    "for i in range(3,91,3):\n",
    "    up_test5 = up_test[:i,:]\n",
    "    up_test5 = np.reshape(up_test5,(1,up_test5.shape[0]*up_test5.shape[1]))\n",
    "    up_test5 = sequence.pad_sequences(up_test5, maxlen=maxlen, padding='post')\n",
    "    \n",
    "    pred_up5 = model.predict(up_test5)\n",
    "    \n",
    "    #print(\"i = %d, probability = %f\" , (i,pred_up5))\n",
    "    print(\"number of balls =\", int(i/3), \", probability =\", pred_up5)\n",
    "    if max(pred_up5[0,:]) == pred_up5[:,0]:\n",
    "        print(\"top spin\")\n",
    "    elif max(pred_up5[0,:]) == pred_up5[:,1]:\n",
    "        print(\"right spin\")\n",
    "    else:\n",
    "        print(\"back spin\")"
   ]
  },
  {
   "cell_type": "code",
   "execution_count": 201,
   "metadata": {},
   "outputs": [
    {
     "name": "stdout",
     "output_type": "stream",
     "text": [
      "number of balls = 1 , probability = [[0.02031177 0.00226173 0.9774265 ]]\n",
      "back spin\n",
      "number of balls = 2 , probability = [[0.02031191 0.00226161 0.97742647]]\n",
      "back spin\n",
      "number of balls = 3 , probability = [[0.96018296 0.00264262 0.03717436]]\n",
      "top spin\n",
      "number of balls = 4 , probability = [[0.96020377 0.00264073 0.0371555 ]]\n",
      "top spin\n",
      "number of balls = 5 , probability = [[0.9602152  0.00264042 0.03714443]]\n",
      "top spin\n",
      "number of balls = 6 , probability = [[0.96024793 0.00263995 0.03711218]]\n",
      "top spin\n",
      "number of balls = 7 , probability = [[0.9604898  0.00263582 0.03687439]]\n",
      "top spin\n",
      "number of balls = 8 , probability = [[0.9613494  0.00262237 0.0360283 ]]\n",
      "top spin\n",
      "number of balls = 9 , probability = [[0.9660086  0.00254987 0.03144151]]\n",
      "top spin\n",
      "number of balls = 10 , probability = [[0.98176944 0.00260801 0.01562253]]\n",
      "top spin\n",
      "number of balls = 11 , probability = [[0.98612773 0.00302772 0.01084448]]\n",
      "top spin\n",
      "number of balls = 12 , probability = [[0.00900238 0.987856   0.00314167]]\n",
      "right spin\n",
      "number of balls = 13 , probability = [[0.00492169 0.9909322  0.00414606]]\n",
      "right spin\n",
      "number of balls = 14 , probability = [[0.00492169 0.9909322  0.00414606]]\n",
      "right spin\n",
      "number of balls = 15 , probability = [[0.00492169 0.9909322  0.00414606]]\n",
      "right spin\n",
      "number of balls = 16 , probability = [[0.00492169 0.9909322  0.00414606]]\n",
      "right spin\n",
      "number of balls = 17 , probability = [[0.00492169 0.9909322  0.00414606]]\n",
      "right spin\n",
      "number of balls = 18 , probability = [[0.00492169 0.9909322  0.00414606]]\n",
      "right spin\n",
      "number of balls = 19 , probability = [[0.00492169 0.9909322  0.00414606]]\n",
      "right spin\n",
      "number of balls = 20 , probability = [[0.00492169 0.9909322  0.00414606]]\n",
      "right spin\n",
      "number of balls = 21 , probability = [[0.00492169 0.9909322  0.00414606]]\n",
      "right spin\n",
      "number of balls = 22 , probability = [[0.00492169 0.9909322  0.00414606]]\n",
      "right spin\n",
      "number of balls = 23 , probability = [[0.00492169 0.9909322  0.00414606]]\n",
      "right spin\n",
      "number of balls = 24 , probability = [[0.00492169 0.9909322  0.00414606]]\n",
      "right spin\n",
      "number of balls = 25 , probability = [[0.00492169 0.9909322  0.00414606]]\n",
      "right spin\n",
      "number of balls = 26 , probability = [[0.00492169 0.9909322  0.00414606]]\n",
      "right spin\n",
      "number of balls = 27 , probability = [[0.00492169 0.9909322  0.00414606]]\n",
      "right spin\n",
      "number of balls = 28 , probability = [[0.00492169 0.9909322  0.00414606]]\n",
      "right spin\n",
      "number of balls = 29 , probability = [[0.00492169 0.9909322  0.00414606]]\n",
      "right spin\n",
      "number of balls = 30 , probability = [[0.00492169 0.9909322  0.00414606]]\n",
      "right spin\n"
     ]
    }
   ],
   "source": [
    "## right spin\n",
    "for i in range(3,91,3):\n",
    "    up_test5 = right_test[:i,:]\n",
    "    up_test5 = np.reshape(up_test5,(1,up_test5.shape[0]*up_test5.shape[1]))\n",
    "    up_test5 = sequence.pad_sequences(up_test5, maxlen=maxlen, padding='post')\n",
    "    \n",
    "    pred_up5 = model.predict(up_test5)\n",
    "    \n",
    "    #print(\"i = %d, probability = %f\" , (i,pred_up5))\n",
    "    print(\"number of balls =\", int(i/3), \", probability =\", pred_up5)\n",
    "    if max(pred_up5[0,:]) == pred_up5[:,0]:\n",
    "        print(\"top spin\")\n",
    "    elif max(pred_up5[0,:]) == pred_up5[:,1]:\n",
    "        print(\"right spin\")\n",
    "    else:\n",
    "        print(\"back spin\")"
   ]
  },
  {
   "cell_type": "code",
   "execution_count": 202,
   "metadata": {},
   "outputs": [
    {
     "name": "stdout",
     "output_type": "stream",
     "text": [
      "number of balls = 1 , probability = [[0.02031174 0.00226173 0.9774265 ]]\n",
      "back spin\n",
      "number of balls = 2 , probability = [[0.02031191 0.00226161 0.97742647]]\n",
      "back spin\n",
      "number of balls = 3 , probability = [[0.9598019  0.00269183 0.03750628]]\n",
      "top spin\n",
      "number of balls = 4 , probability = [[0.9601595  0.00264612 0.03719448]]\n",
      "top spin\n",
      "number of balls = 5 , probability = [[0.9598479  0.00268701 0.03746511]]\n",
      "top spin\n",
      "number of balls = 6 , probability = [[0.02031327 0.0022606  0.9774261 ]]\n",
      "back spin\n",
      "number of balls = 7 , probability = [[0.02031446 0.00226054 0.977425  ]]\n",
      "back spin\n",
      "number of balls = 8 , probability = [[0.02031668 0.0022602  0.97742313]]\n",
      "back spin\n",
      "number of balls = 9 , probability = [[0.0203196  0.00225963 0.97742075]]\n",
      "back spin\n",
      "number of balls = 10 , probability = [[0.02032433 0.00225787 0.97741777]]\n",
      "back spin\n",
      "number of balls = 11 , probability = [[0.02033592 0.00225325 0.97741085]]\n",
      "back spin\n",
      "number of balls = 12 , probability = [[0.02037705 0.00224743 0.9773755 ]]\n",
      "back spin\n",
      "number of balls = 13 , probability = [[0.02041701 0.00225192 0.97733104]]\n",
      "back spin\n",
      "number of balls = 14 , probability = [[0.02041701 0.00225192 0.97733104]]\n",
      "back spin\n",
      "number of balls = 15 , probability = [[0.02041701 0.00225192 0.97733104]]\n",
      "back spin\n",
      "number of balls = 16 , probability = [[0.02041701 0.00225192 0.97733104]]\n",
      "back spin\n",
      "number of balls = 17 , probability = [[0.02041701 0.00225192 0.97733104]]\n",
      "back spin\n",
      "number of balls = 18 , probability = [[0.02041701 0.00225192 0.97733104]]\n",
      "back spin\n",
      "number of balls = 19 , probability = [[0.02041701 0.00225192 0.97733104]]\n",
      "back spin\n",
      "number of balls = 20 , probability = [[0.02041701 0.00225192 0.97733104]]\n",
      "back spin\n",
      "number of balls = 21 , probability = [[0.02041701 0.00225192 0.97733104]]\n",
      "back spin\n",
      "number of balls = 22 , probability = [[0.02041701 0.00225192 0.97733104]]\n",
      "back spin\n",
      "number of balls = 23 , probability = [[0.02041701 0.00225192 0.97733104]]\n",
      "back spin\n",
      "number of balls = 24 , probability = [[0.02041701 0.00225192 0.97733104]]\n",
      "back spin\n",
      "number of balls = 25 , probability = [[0.02041701 0.00225192 0.97733104]]\n",
      "back spin\n",
      "number of balls = 26 , probability = [[0.02041701 0.00225192 0.97733104]]\n",
      "back spin\n",
      "number of balls = 27 , probability = [[0.02041701 0.00225192 0.97733104]]\n",
      "back spin\n",
      "number of balls = 28 , probability = [[0.02041701 0.00225192 0.97733104]]\n",
      "back spin\n",
      "number of balls = 29 , probability = [[0.02041701 0.00225192 0.97733104]]\n",
      "back spin\n",
      "number of balls = 30 , probability = [[0.02041701 0.00225192 0.97733104]]\n",
      "back spin\n"
     ]
    }
   ],
   "source": [
    "## dwon spin\n",
    "for i in range(3,91,3):\n",
    "    up_test5 = down_test[:i,:]\n",
    "    up_test5 = np.reshape(up_test5,(1,up_test5.shape[0]*up_test5.shape[1]))\n",
    "    up_test5 = sequence.pad_sequences(up_test5, maxlen=maxlen, padding='post')\n",
    "    \n",
    "    pred_up5 = model.predict(up_test5)\n",
    "    \n",
    "    #print(\"i = %d, probability = %f\" , (i,pred_up5))\n",
    "    print(\"number of balls =\", int(i/3), \", probability =\", pred_up5)\n",
    "    if max(pred_up5[0,:]) == pred_up5[:,0]:\n",
    "        print(\"top spin\")\n",
    "    elif max(pred_up5[0,:]) == pred_up5[:,1]:\n",
    "        print(\"right spin\")\n",
    "    else:\n",
    "        print(\"back spin\")"
   ]
  }
 ],
 "metadata": {
  "kernelspec": {
   "display_name": "Python 3",
   "language": "python",
   "name": "python3"
  },
  "language_info": {
   "codemirror_mode": {
    "name": "ipython",
    "version": 3
   },
   "file_extension": ".py",
   "mimetype": "text/x-python",
   "name": "python",
   "nbconvert_exporter": "python",
   "pygments_lexer": "ipython3",
   "version": "3.6.9"
  }
 },
 "nbformat": 4,
 "nbformat_minor": 4
}
