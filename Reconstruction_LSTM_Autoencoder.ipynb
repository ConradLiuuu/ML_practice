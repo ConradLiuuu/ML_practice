{
 "cells": [
  {
   "cell_type": "code",
   "execution_count": 50,
   "metadata": {},
   "outputs": [],
   "source": [
    "import numpy as np\n",
    "from keras.models import Sequential\n",
    "from keras.layers import LSTM, Dense, RepeatVector, TimeDistributed"
   ]
  },
  {
   "cell_type": "code",
   "execution_count": 51,
   "metadata": {},
   "outputs": [
    {
     "name": "stdout",
     "output_type": "stream",
     "text": [
      "[0.1 0.2 0.3 0.4 0.5 0.6 0.7 0.8 0.9]\n"
     ]
    }
   ],
   "source": [
    "seq = np.array([.1, .2 , .3, .4, .5, .6, .7, .8, .9])\n",
    "print(seq)"
   ]
  },
  {
   "cell_type": "code",
   "execution_count": 52,
   "metadata": {},
   "outputs": [
    {
     "name": "stdout",
     "output_type": "stream",
     "text": [
      "9\n"
     ]
    }
   ],
   "source": [
    "time_steps = len(seq)\n",
    "print(time_steps)\n",
    "\n",
    "samples = 1 # batch_size\n",
    "features = 1 # n_input\n",
    "hidden_layer = 100\n",
    "epochs = 300"
   ]
  },
  {
   "cell_type": "code",
   "execution_count": 53,
   "metadata": {},
   "outputs": [
    {
     "name": "stdout",
     "output_type": "stream",
     "text": [
      "[[[0.1]\n",
      "  [0.2]\n",
      "  [0.3]\n",
      "  [0.4]\n",
      "  [0.5]\n",
      "  [0.6]\n",
      "  [0.7]\n",
      "  [0.8]\n",
      "  [0.9]]]\n"
     ]
    }
   ],
   "source": [
    "seq = seq.reshape(samples, time_steps, features)\n",
    "print(seq)"
   ]
  },
  {
   "cell_type": "code",
   "execution_count": 54,
   "metadata": {},
   "outputs": [],
   "source": [
    "model = Sequential()\n",
    "model.add(LSTM(hidden_layer, activation='relu', input_shape=(time_steps, features)))\n",
    "model.add(RepeatVector(time_steps))\n",
    "model.add(LSTM(hidden_layer, activation='relu', return_sequences=True))\n",
    "model.add(TimeDistributed(Dense(1)))"
   ]
  },
  {
   "cell_type": "code",
   "execution_count": 55,
   "metadata": {},
   "outputs": [
    {
     "name": "stdout",
     "output_type": "stream",
     "text": [
      "1/1 [==============================] - 0s 485ms/step\n",
      "\n",
      "Training accuracy: 0.0\n"
     ]
    }
   ],
   "source": [
    "model.compile(loss='mse', optimizer='adam', metrics=['accuracy'])\n",
    "model.fit(seq, seq, epochs=epochs, verbose=0)\n",
    "\n",
    "result = model.evaluate(seq, seq)\n",
    "print(\"\\nTraining accuracy:\", result[1])"
   ]
  },
  {
   "cell_type": "code",
   "execution_count": 56,
   "metadata": {},
   "outputs": [
    {
     "name": "stdout",
     "output_type": "stream",
     "text": [
      "[[[0.10459806]\n",
      "  [0.20002319]\n",
      "  [0.2984058 ]\n",
      "  [0.39874393]\n",
      "  [0.50036997]\n",
      "  [0.60088265]\n",
      "  [0.7004344 ]\n",
      "  [0.7997957 ]\n",
      "  [0.8997754 ]]]\n"
     ]
    }
   ],
   "source": [
    "yhat = model.predict(seq, verbose=0)\n",
    "print(yhat)"
   ]
  },
  {
   "cell_type": "code",
   "execution_count": 57,
   "metadata": {},
   "outputs": [
    {
     "name": "stdout",
     "output_type": "stream",
     "text": [
      "_________________________________________________________________\n",
      "Layer (type)                 Output Shape              Param #   \n",
      "=================================================================\n",
      "lstm_9 (LSTM)                (None, 100)               40800     \n",
      "_________________________________________________________________\n",
      "repeat_vector_5 (RepeatVecto (None, 9, 100)            0         \n",
      "_________________________________________________________________\n",
      "lstm_10 (LSTM)               (None, 9, 100)            80400     \n",
      "_________________________________________________________________\n",
      "time_distributed_5 (TimeDist (None, 9, 1)              101       \n",
      "=================================================================\n",
      "Total params: 121,301\n",
      "Trainable params: 121,301\n",
      "Non-trainable params: 0\n",
      "_________________________________________________________________\n"
     ]
    }
   ],
   "source": [
    "model.summary()"
   ]
  },
  {
   "cell_type": "code",
   "execution_count": 58,
   "metadata": {},
   "outputs": [
    {
     "data": {
      "image/svg+xml": [
       "<svg height=\"337pt\" viewBox=\"0.00 0.00 321.00 337.00\" width=\"321pt\" xmlns=\"http://www.w3.org/2000/svg\" xmlns:xlink=\"http://www.w3.org/1999/xlink\">\n",
       "<g class=\"graph\" id=\"graph0\" transform=\"scale(1 1) rotate(0) translate(4 333)\">\n",
       "<title>G</title>\n",
       "<polygon fill=\"#ffffff\" points=\"-4,4 -4,-333 317,-333 317,4 -4,4\" stroke=\"transparent\"/>\n",
       "<!-- 140328208478840 -->\n",
       "<g class=\"node\" id=\"node1\">\n",
       "<title>140328208478840</title>\n",
       "<polygon fill=\"none\" points=\"107.5,-219.5 107.5,-255.5 205.5,-255.5 205.5,-219.5 107.5,-219.5\" stroke=\"#000000\"/>\n",
       "<text fill=\"#000000\" font-family=\"Times,serif\" font-size=\"14.00\" text-anchor=\"middle\" x=\"156.5\" y=\"-233.8\">lstm_9: LSTM</text>\n",
       "</g>\n",
       "<!-- 140328208478728 -->\n",
       "<g class=\"node\" id=\"node2\">\n",
       "<title>140328208478728</title>\n",
       "<polygon fill=\"none\" points=\"64,-146.5 64,-182.5 249,-182.5 249,-146.5 64,-146.5\" stroke=\"#000000\"/>\n",
       "<text fill=\"#000000\" font-family=\"Times,serif\" font-size=\"14.00\" text-anchor=\"middle\" x=\"156.5\" y=\"-160.8\">repeat_vector_5: RepeatVector</text>\n",
       "</g>\n",
       "<!-- 140328208478840&#45;&gt;140328208478728 -->\n",
       "<g class=\"edge\" id=\"edge2\">\n",
       "<title>140328208478840-&gt;140328208478728</title>\n",
       "<path d=\"M156.5,-219.4551C156.5,-211.3828 156.5,-201.6764 156.5,-192.6817\" fill=\"none\" stroke=\"#000000\"/>\n",
       "<polygon fill=\"#000000\" points=\"160.0001,-192.5903 156.5,-182.5904 153.0001,-192.5904 160.0001,-192.5903\" stroke=\"#000000\"/>\n",
       "</g>\n",
       "<!-- 140328208482256 -->\n",
       "<g class=\"node\" id=\"node3\">\n",
       "<title>140328208482256</title>\n",
       "<polygon fill=\"none\" points=\"104,-73.5 104,-109.5 209,-109.5 209,-73.5 104,-73.5\" stroke=\"#000000\"/>\n",
       "<text fill=\"#000000\" font-family=\"Times,serif\" font-size=\"14.00\" text-anchor=\"middle\" x=\"156.5\" y=\"-87.8\">lstm_10: LSTM</text>\n",
       "</g>\n",
       "<!-- 140328208478728&#45;&gt;140328208482256 -->\n",
       "<g class=\"edge\" id=\"edge3\">\n",
       "<title>140328208478728-&gt;140328208482256</title>\n",
       "<path d=\"M156.5,-146.4551C156.5,-138.3828 156.5,-128.6764 156.5,-119.6817\" fill=\"none\" stroke=\"#000000\"/>\n",
       "<polygon fill=\"#000000\" points=\"160.0001,-119.5903 156.5,-109.5904 153.0001,-119.5904 160.0001,-119.5903\" stroke=\"#000000\"/>\n",
       "</g>\n",
       "<!-- 140328196112168 -->\n",
       "<g class=\"node\" id=\"node4\">\n",
       "<title>140328196112168</title>\n",
       "<polygon fill=\"none\" points=\"0,-.5 0,-36.5 313,-36.5 313,-.5 0,-.5\" stroke=\"#000000\"/>\n",
       "<text fill=\"#000000\" font-family=\"Times,serif\" font-size=\"14.00\" text-anchor=\"middle\" x=\"156.5\" y=\"-14.8\">time_distributed_5(dense_5): TimeDistributed(Dense)</text>\n",
       "</g>\n",
       "<!-- 140328208482256&#45;&gt;140328196112168 -->\n",
       "<g class=\"edge\" id=\"edge4\">\n",
       "<title>140328208482256-&gt;140328196112168</title>\n",
       "<path d=\"M156.5,-73.4551C156.5,-65.3828 156.5,-55.6764 156.5,-46.6817\" fill=\"none\" stroke=\"#000000\"/>\n",
       "<polygon fill=\"#000000\" points=\"160.0001,-46.5903 156.5,-36.5904 153.0001,-46.5904 160.0001,-46.5903\" stroke=\"#000000\"/>\n",
       "</g>\n",
       "<!-- 140328208479848 -->\n",
       "<g class=\"node\" id=\"node5\">\n",
       "<title>140328208479848</title>\n",
       "<polygon fill=\"none\" points=\"97.5,-292.5 97.5,-328.5 215.5,-328.5 215.5,-292.5 97.5,-292.5\" stroke=\"#000000\"/>\n",
       "<text fill=\"#000000\" font-family=\"Times,serif\" font-size=\"14.00\" text-anchor=\"middle\" x=\"156.5\" y=\"-306.8\">140328208479848</text>\n",
       "</g>\n",
       "<!-- 140328208479848&#45;&gt;140328208478840 -->\n",
       "<g class=\"edge\" id=\"edge1\">\n",
       "<title>140328208479848-&gt;140328208478840</title>\n",
       "<path d=\"M156.5,-292.4551C156.5,-284.3828 156.5,-274.6764 156.5,-265.6817\" fill=\"none\" stroke=\"#000000\"/>\n",
       "<polygon fill=\"#000000\" points=\"160.0001,-265.5903 156.5,-255.5904 153.0001,-265.5904 160.0001,-265.5903\" stroke=\"#000000\"/>\n",
       "</g>\n",
       "</g>\n",
       "</svg>"
      ],
      "text/plain": [
       "<IPython.core.display.SVG object>"
      ]
     },
     "execution_count": 58,
     "metadata": {},
     "output_type": "execute_result"
    }
   ],
   "source": [
    "from IPython.display import SVG\n",
    "from keras.utils.vis_utils import model_to_dot\n",
    "SVG(model_to_dot(model).create(prog='dot', format='svg'))"
   ]
  },
  {
   "cell_type": "code",
   "execution_count": 59,
   "metadata": {},
   "outputs": [
    {
     "data": {
      "image/png": "[encoded data removed]",
      "text/plain": [
       "<IPython.core.display.Image object>"
      ]
     },
     "execution_count": 59,
     "metadata": {
      "image/png": {
       "height": 251,
       "width": 315
      }
     },
     "output_type": "execute_result"
    }
   ],
   "source": [
    "from keras.utils import plot_model\n",
    "from IPython.display import Image\n",
    "plot_model(model, show_shapes=True, to_file='reconstruct_lstm_autoencoder.png')\n",
    "Image(retina=True, filename='reconstruct_lstm_autoencoder.png')"
   ]
  }
 ],
 "metadata": {
  "kernelspec": {
   "display_name": "Python 3",
   "language": "python",
   "name": "python3"
  },
  "language_info": {
   "codemirror_mode": {
    "name": "ipython",
    "version": 3
   },
   "file_extension": ".py",
   "mimetype": "text/x-python",
   "name": "python",
   "nbconvert_exporter": "python",
   "pygments_lexer": "ipython3",
   "version": "3.6.9"
  }
 },
 "nbformat": 4,
 "nbformat_minor": 4
}
