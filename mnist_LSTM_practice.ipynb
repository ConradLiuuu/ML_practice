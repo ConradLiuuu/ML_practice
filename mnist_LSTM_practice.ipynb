{
 "cells": [
  {
   "cell_type": "code",
   "execution_count": 1,
   "metadata": {},
   "outputs": [
    {
     "name": "stderr",
     "output_type": "stream",
     "text": [
      "Using TensorFlow backend.\n",
      "/home/lab606a/.virtualenvs/keras/lib/python3.6/site-packages/tensorflow/python/framework/dtypes.py:523: FutureWarning: Passing (type, 1) or '1type' as a synonym of type is deprecated; in a future version of numpy, it will be understood as (type, (1,)) / '(1,)type'.\n",
      "  _np_qint8 = np.dtype([(\"qint8\", np.int8, 1)])\n",
      "/home/lab606a/.virtualenvs/keras/lib/python3.6/site-packages/tensorflow/python/framework/dtypes.py:524: FutureWarning: Passing (type, 1) or '1type' as a synonym of type is deprecated; in a future version of numpy, it will be understood as (type, (1,)) / '(1,)type'.\n",
      "  _np_quint8 = np.dtype([(\"quint8\", np.uint8, 1)])\n",
      "/home/lab606a/.virtualenvs/keras/lib/python3.6/site-packages/tensorflow/python/framework/dtypes.py:525: FutureWarning: Passing (type, 1) or '1type' as a synonym of type is deprecated; in a future version of numpy, it will be understood as (type, (1,)) / '(1,)type'.\n",
      "  _np_qint16 = np.dtype([(\"qint16\", np.int16, 1)])\n",
      "/home/lab606a/.virtualenvs/keras/lib/python3.6/site-packages/tensorflow/python/framework/dtypes.py:526: FutureWarning: Passing (type, 1) or '1type' as a synonym of type is deprecated; in a future version of numpy, it will be understood as (type, (1,)) / '(1,)type'.\n",
      "  _np_quint16 = np.dtype([(\"quint16\", np.uint16, 1)])\n",
      "/home/lab606a/.virtualenvs/keras/lib/python3.6/site-packages/tensorflow/python/framework/dtypes.py:527: FutureWarning: Passing (type, 1) or '1type' as a synonym of type is deprecated; in a future version of numpy, it will be understood as (type, (1,)) / '(1,)type'.\n",
      "  _np_qint32 = np.dtype([(\"qint32\", np.int32, 1)])\n",
      "/home/lab606a/.virtualenvs/keras/lib/python3.6/site-packages/tensorflow/python/framework/dtypes.py:532: FutureWarning: Passing (type, 1) or '1type' as a synonym of type is deprecated; in a future version of numpy, it will be understood as (type, (1,)) / '(1,)type'.\n",
      "  np_resource = np.dtype([(\"resource\", np.ubyte, 1)])\n"
     ]
    }
   ],
   "source": [
    "import numpy as np\n",
    "from keras.models import Sequential\n",
    "from keras.layers.core import Dense, Activation\n",
    "from keras.layers import LSTM\n",
    "from keras.optimizers import SGD, Adam\n",
    "from keras.utils import np_utils\n",
    "from keras.datasets import mnist"
   ]
  },
  {
   "cell_type": "code",
   "execution_count": 2,
   "metadata": {},
   "outputs": [],
   "source": [
    "lr = 0.001\n",
    "training_iters = 20\n",
    "batch_size = 1000\n",
    "display_step = 10\n",
    "\n",
    "n_input = 28\n",
    "n_step = 28\n",
    "n_hidden = 256\n",
    "n_classes = 10"
   ]
  },
  {
   "cell_type": "code",
   "execution_count": 3,
   "metadata": {},
   "outputs": [],
   "source": [
    "def load_data():\n",
    "    (x_train, y_train), (x_test, y_test) = mnist.load_data()\n",
    "    print(\"shape of x_train\", x_train.shape)\n",
    "    print(\"shape of y_train\", y_train.shape)\n",
    "    print(\"shape of x_test\", x_test.shape)\n",
    "    print(\"shape of y_test\", y_test.shape)\n",
    "    number = 60000\n",
    "    x_train = x_train[0:number]\n",
    "    y_train = y_train[0:number]\n",
    "    #x_train = x_train.reshape(-1, n_step, n_input)\n",
    "    #x_test = x_test.reshape(-1, n_step, n_input)\n",
    "    x_train = x_train.astype('float32')\n",
    "    x_test = x_test.astype('float32')\n",
    "    \n",
    "    ## convert class vectors to binary class matrices\n",
    "    ## y_train and y_test doing one-hot-encoding by np_utils.to_categorial()\n",
    "    y_train = np_utils.to_categorical(y_train, 10)\n",
    "    y_test = np_utils.to_categorical(y_test, 10)\n",
    "    x_train = x_train\n",
    "    x_test = x_test\n",
    "    print(\"converted shape of x_train\", x_train.shape)\n",
    "    print(\"converted shape of y_train\", y_train.shape)\n",
    "    print(\"converted shape of x_test\", x_test.shape)\n",
    "    print(\"converted shape of y_test\", y_test.shape)\n",
    "    \n",
    "    #normalization\n",
    "    x_train = x_train / 255\n",
    "    x_test = x_test /255\n",
    "    \n",
    "    ## add noise\n",
    "    #x_test = np.random.normal(x_test)\n",
    "    \n",
    "    return (x_train, y_train), (x_test, y_test)"
   ]
  },
  {
   "cell_type": "code",
   "execution_count": 4,
   "metadata": {},
   "outputs": [
    {
     "name": "stdout",
     "output_type": "stream",
     "text": [
      "shape of x_train (60000, 28, 28)\n",
      "shape of y_train (60000,)\n",
      "shape of x_test (10000, 28, 28)\n",
      "shape of y_test (10000,)\n",
      "converted shape of x_train (60000, 28, 28)\n",
      "converted shape of y_train (60000, 10)\n",
      "converted shape of x_test (10000, 28, 28)\n",
      "converted shape of y_test (10000, 10)\n"
     ]
    }
   ],
   "source": [
    "(x_train, y_train), (x_test, y_test) = load_data()"
   ]
  },
  {
   "cell_type": "code",
   "execution_count": 5,
   "metadata": {},
   "outputs": [],
   "source": [
    "model = Sequential()\n",
    "model.add(LSTM(units=n_hidden, batch_size=(None, n_step, n_input), unroll=True))\n",
    "#model.add(LSTM(units=n_hidden, input_shape=(n_step, n_input), unroll=True))\n",
    "#model.add(LSTM(units=n_hidden, batch_input_shape=(batch_size, n_step, n_input), unroll=True))\n",
    "model.add(Dense(units=n_classes, activation='softmax'))"
   ]
  },
  {
   "cell_type": "code",
   "execution_count": 6,
   "metadata": {},
   "outputs": [
    {
     "name": "stdout",
     "output_type": "stream",
     "text": [
      "Epoch 1/20\n",
      "60000/60000 [==============================] - 4s 74us/step - loss: 1.2810 - acc: 0.5574\n",
      "Epoch 2/20\n",
      "60000/60000 [==============================] - 2s 29us/step - loss: 0.3438 - acc: 0.8922\n",
      "Epoch 3/20\n",
      "60000/60000 [==============================] - 2s 29us/step - loss: 0.1881 - acc: 0.9428\n",
      "Epoch 4/20\n",
      "60000/60000 [==============================] - 2s 29us/step - loss: 0.1444 - acc: 0.9560\n",
      "Epoch 5/20\n",
      "60000/60000 [==============================] - 2s 29us/step - loss: 0.1160 - acc: 0.9648\n",
      "Epoch 6/20\n",
      "60000/60000 [==============================] - 2s 29us/step - loss: 0.0951 - acc: 0.9706\n",
      "Epoch 7/20\n",
      "60000/60000 [==============================] - 2s 29us/step - loss: 0.0865 - acc: 0.9729\n",
      "Epoch 8/20\n",
      "60000/60000 [==============================] - 2s 29us/step - loss: 0.0720 - acc: 0.9776\n",
      "Epoch 9/20\n",
      "60000/60000 [==============================] - 2s 30us/step - loss: 0.0643 - acc: 0.9797\n",
      "Epoch 10/20\n",
      "60000/60000 [==============================] - 2s 29us/step - loss: 0.0568 - acc: 0.9820\n",
      "Epoch 11/20\n",
      "60000/60000 [==============================] - 2s 29us/step - loss: 0.0482 - acc: 0.9847\n",
      "Epoch 12/20\n",
      "60000/60000 [==============================] - 2s 29us/step - loss: 0.0422 - acc: 0.9868\n",
      "Epoch 13/20\n",
      "60000/60000 [==============================] - 2s 29us/step - loss: 0.0402 - acc: 0.9874\n",
      "Epoch 14/20\n",
      "60000/60000 [==============================] - 2s 29us/step - loss: 0.0368 - acc: 0.9881\n",
      "Epoch 15/20\n",
      "60000/60000 [==============================] - 2s 29us/step - loss: 0.0321 - acc: 0.9897\n",
      "Epoch 16/20\n",
      "60000/60000 [==============================] - 2s 30us/step - loss: 0.0272 - acc: 0.9913\n",
      "Epoch 17/20\n",
      "60000/60000 [==============================] - 2s 29us/step - loss: 0.0241 - acc: 0.9925\n",
      "Epoch 18/20\n",
      "60000/60000 [==============================] - 2s 29us/step - loss: 0.0227 - acc: 0.9929\n",
      "Epoch 19/20\n",
      "60000/60000 [==============================] - 2s 29us/step - loss: 0.0198 - acc: 0.9937\n",
      "Epoch 20/20\n",
      "60000/60000 [==============================] - 2s 29us/step - loss: 0.0184 - acc: 0.9944\n",
      "60000/60000 [==============================] - 1s 14us/step\n",
      "\n",
      "Training accuracy: 0.9948833286762238\n",
      "10000/10000 [==============================] - 0s 12us/step\n",
      "\n",
      "Test accuracy: 0.9819000065326691\n"
     ]
    }
   ],
   "source": [
    "model.compile(loss='categorical_crossentropy', optimizer='adam', metrics=['accuracy'])\n",
    "model.fit(x_train, y_train, batch_size=batch_size, epochs=training_iters)\n",
    "\n",
    "result = model.evaluate(x_train, y_train, batch_size=batch_size)\n",
    "print ('\\nTraining accuracy:', result[1])\n",
    "\n",
    "result = model.evaluate(x_test, y_test, batch_size=batch_size)\n",
    "print ('\\nTest accuracy:', result[1])"
   ]
  },
  {
   "cell_type": "code",
   "execution_count": 7,
   "metadata": {},
   "outputs": [
    {
     "name": "stdout",
     "output_type": "stream",
     "text": [
      "_________________________________________________________________\n",
      "Layer (type)                 Output Shape              Param #   \n",
      "=================================================================\n",
      "lstm_1 (LSTM)                (None, 256)               291840    \n",
      "_________________________________________________________________\n",
      "dense_1 (Dense)              (None, 10)                2570      \n",
      "=================================================================\n",
      "Total params: 294,410\n",
      "Trainable params: 294,410\n",
      "Non-trainable params: 0\n",
      "_________________________________________________________________\n"
     ]
    }
   ],
   "source": [
    "model.summary()"
   ]
  },
  {
   "cell_type": "code",
   "execution_count": 8,
   "metadata": {},
   "outputs": [],
   "source": [
    "## unit = 128\n",
    "# 10000 data\n",
    "# training accuarcy = 0.9934\n",
    "# testing accuracy = 0.9524\n",
    "\n",
    "# 30000 data\n",
    "# training accuarcy = 0.9941\n",
    "# testing accuracy = 0.9791\n",
    "\n",
    "# 60000 data, batch_size = 200\n",
    "# training accuarcy = 0.9965\n",
    "# testing accuracy = 0.9849\n",
    "# 60000 data, batch_size = 1000\n",
    "# training accuarcy = 0.98695\n",
    "# testing accuracy = 0.9768\n",
    "\n",
    "## unit = 256\n",
    "# 60000 data, batch_size = 1000\n",
    "# training accuarcy = 0.9958\n",
    "# testing accuracy = 0.9838"
   ]
  },
  {
   "cell_type": "code",
   "execution_count": 9,
   "metadata": {},
   "outputs": [
    {
     "data": {
      "image/svg+xml": [
       "<svg height=\"191pt\" viewBox=\"0.00 0.00 126.00 191.00\" width=\"126pt\" xmlns=\"http://www.w3.org/2000/svg\" xmlns:xlink=\"http://www.w3.org/1999/xlink\">\n",
       "<g class=\"graph\" id=\"graph0\" transform=\"scale(1 1) rotate(0) translate(4 187)\">\n",
       "<title>G</title>\n",
       "<polygon fill=\"#ffffff\" points=\"-4,4 -4,-187 122,-187 122,4 -4,4\" stroke=\"transparent\"/>\n",
       "<!-- 139623990488480 -->\n",
       "<g class=\"node\" id=\"node1\">\n",
       "<title>139623990488480</title>\n",
       "<polygon fill=\"none\" points=\"10,-73.5 10,-109.5 108,-109.5 108,-73.5 10,-73.5\" stroke=\"#000000\"/>\n",
       "<text fill=\"#000000\" font-family=\"Times,serif\" font-size=\"14.00\" text-anchor=\"middle\" x=\"59\" y=\"-87.8\">lstm_1: LSTM</text>\n",
       "</g>\n",
       "<!-- 139626575337624 -->\n",
       "<g class=\"node\" id=\"node2\">\n",
       "<title>139626575337624</title>\n",
       "<polygon fill=\"none\" points=\"8,-.5 8,-36.5 110,-36.5 110,-.5 8,-.5\" stroke=\"#000000\"/>\n",
       "<text fill=\"#000000\" font-family=\"Times,serif\" font-size=\"14.00\" text-anchor=\"middle\" x=\"59\" y=\"-14.8\">dense_1: Dense</text>\n",
       "</g>\n",
       "<!-- 139623990488480&#45;&gt;139626575337624 -->\n",
       "<g class=\"edge\" id=\"edge2\">\n",
       "<title>139623990488480-&gt;139626575337624</title>\n",
       "<path d=\"M59,-73.4551C59,-65.3828 59,-55.6764 59,-46.6817\" fill=\"none\" stroke=\"#000000\"/>\n",
       "<polygon fill=\"#000000\" points=\"62.5001,-46.5903 59,-36.5904 55.5001,-46.5904 62.5001,-46.5903\" stroke=\"#000000\"/>\n",
       "</g>\n",
       "<!-- 139623990589200 -->\n",
       "<g class=\"node\" id=\"node3\">\n",
       "<title>139623990589200</title>\n",
       "<polygon fill=\"none\" points=\"0,-146.5 0,-182.5 118,-182.5 118,-146.5 0,-146.5\" stroke=\"#000000\"/>\n",
       "<text fill=\"#000000\" font-family=\"Times,serif\" font-size=\"14.00\" text-anchor=\"middle\" x=\"59\" y=\"-160.8\">139623990589200</text>\n",
       "</g>\n",
       "<!-- 139623990589200&#45;&gt;139623990488480 -->\n",
       "<g class=\"edge\" id=\"edge1\">\n",
       "<title>139623990589200-&gt;139623990488480</title>\n",
       "<path d=\"M59,-146.4551C59,-138.3828 59,-128.6764 59,-119.6817\" fill=\"none\" stroke=\"#000000\"/>\n",
       "<polygon fill=\"#000000\" points=\"62.5001,-119.5903 59,-109.5904 55.5001,-119.5904 62.5001,-119.5903\" stroke=\"#000000\"/>\n",
       "</g>\n",
       "</g>\n",
       "</svg>"
      ],
      "text/plain": [
       "<IPython.core.display.SVG object>"
      ]
     },
     "execution_count": 9,
     "metadata": {},
     "output_type": "execute_result"
    }
   ],
   "source": [
    "from IPython.display import SVG\n",
    "from keras.utils.vis_utils import model_to_dot\n",
    "SVG(model_to_dot(model).create(prog='dot', format='svg'))"
   ]
  }
 ],
 "metadata": {
  "kernelspec": {
   "display_name": "Python 3",
   "language": "python",
   "name": "python3"
  },
  "language_info": {
   "codemirror_mode": {
    "name": "ipython",
    "version": 3
   },
   "file_extension": ".py",
   "mimetype": "text/x-python",
   "name": "python",
   "nbconvert_exporter": "python",
   "pygments_lexer": "ipython3",
   "version": "3.6.9"
  }
 },
 "nbformat": 4,
 "nbformat_minor": 4
}
