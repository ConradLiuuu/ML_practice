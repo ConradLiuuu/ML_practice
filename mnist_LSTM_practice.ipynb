{
 "cells": [
  {
   "cell_type": "code",
   "execution_count": 63,
   "metadata": {},
   "outputs": [],
   "source": [
    "import numpy as np\n",
    "from keras.models import Sequential\n",
    "from keras.layers.core import Dense, Activation\n",
    "from keras.layers import LSTM\n",
    "from keras.optimizers import SGD, Adam\n",
    "from keras.utils import np_utils\n",
    "from keras.datasets import mnist"
   ]
  },
  {
   "cell_type": "code",
   "execution_count": 64,
   "metadata": {},
   "outputs": [],
   "source": [
    "lr = 0.001\n",
    "training_iters = 20\n",
    "batch_size = 1000\n",
    "display_step = 10\n",
    "\n",
    "n_input = 28\n",
    "n_step = 28\n",
    "n_hidden = 256\n",
    "n_classes = 10"
   ]
  },
  {
   "cell_type": "code",
   "execution_count": 65,
   "metadata": {},
   "outputs": [],
   "source": [
    "def load_data():\n",
    "    (x_train, y_train), (x_test, y_test) = mnist.load_data()\n",
    "    print(\"shape of x_train\", x_train.shape)\n",
    "    print(\"shape of y_train\", y_train.shape)\n",
    "    print(\"shape of x_test\", x_test.shape)\n",
    "    print(\"shape of y_test\", y_test.shape)\n",
    "    number = 60000\n",
    "    x_train = x_train[0:number]\n",
    "    y_train = y_train[0:number]\n",
    "    #x_train = x_train.reshape(-1, n_step, n_input)\n",
    "    #x_test = x_test.reshape(-1, n_step, n_input)\n",
    "    x_train = x_train.astype('float32')\n",
    "    x_test = x_test.astype('float32')\n",
    "    \n",
    "    ## convert class vectors to binary class matrices\n",
    "    ## y_train and y_test doing one-hot-encoding by np_utils.to_categorial()\n",
    "    y_train = np_utils.to_categorical(y_train, 10)\n",
    "    y_test = np_utils.to_categorical(y_test, 10)\n",
    "    x_train = x_train\n",
    "    x_test = x_test\n",
    "    print(\"converted shape of x_train\", x_train.shape)\n",
    "    print(\"converted shape of y_train\", y_train.shape)\n",
    "    print(\"converted shape of x_test\", x_test.shape)\n",
    "    print(\"converted shape of y_test\", y_test.shape)\n",
    "    \n",
    "    #normalization\n",
    "    x_train = x_train / 255\n",
    "    x_test = x_test /255\n",
    "    \n",
    "    ## add noise\n",
    "    #x_test = np.random.normal(x_test)\n",
    "    \n",
    "    return (x_train, y_train), (x_test, y_test)"
   ]
  },
  {
   "cell_type": "code",
   "execution_count": 66,
   "metadata": {},
   "outputs": [
    {
     "name": "stdout",
     "output_type": "stream",
     "text": [
      "shape of x_train (60000, 28, 28)\n",
      "shape of y_train (60000,)\n",
      "shape of x_test (10000, 28, 28)\n",
      "shape of y_test (10000,)\n",
      "converted shape of x_train (60000, 28, 28)\n",
      "converted shape of y_train (60000, 10)\n",
      "converted shape of x_test (10000, 28, 28)\n",
      "converted shape of y_test (10000, 10)\n"
     ]
    }
   ],
   "source": [
    "(x_train, y_train), (x_test, y_test) = load_data()"
   ]
  },
  {
   "cell_type": "code",
   "execution_count": 67,
   "metadata": {},
   "outputs": [],
   "source": [
    "model = Sequential()\n",
    "model.add(LSTM(units=n_hidden, batch_size=(None, n_step, n_input), unroll=True))\n",
    "model.add(Dense(units=n_classes, activation='softmax'))"
   ]
  },
  {
   "cell_type": "code",
   "execution_count": 68,
   "metadata": {},
   "outputs": [
    {
     "name": "stdout",
     "output_type": "stream",
     "text": [
      "Epoch 1/20\n",
      "60000/60000 [==============================] - 7s 125us/step - loss: 1.2231 - acc: 0.5829\n",
      "Epoch 2/20\n",
      "60000/60000 [==============================] - 2s 30us/step - loss: 0.3415 - acc: 0.8930\n",
      "Epoch 3/20\n",
      "60000/60000 [==============================] - 2s 30us/step - loss: 0.1949 - acc: 0.9399\n",
      "Epoch 4/20\n",
      "60000/60000 [==============================] - 2s 30us/step - loss: 0.1531 - acc: 0.9532\n",
      "Epoch 5/20\n",
      "60000/60000 [==============================] - 2s 30us/step - loss: 0.1180 - acc: 0.9644\n",
      "Epoch 6/20\n",
      "60000/60000 [==============================] - 2s 30us/step - loss: 0.0984 - acc: 0.9700\n",
      "Epoch 7/20\n",
      "60000/60000 [==============================] - 2s 30us/step - loss: 0.0878 - acc: 0.9732\n",
      "Epoch 8/20\n",
      "60000/60000 [==============================] - 2s 30us/step - loss: 0.0753 - acc: 0.9767\n",
      "Epoch 9/20\n",
      "60000/60000 [==============================] - 2s 30us/step - loss: 0.0662 - acc: 0.9794\n",
      "Epoch 10/20\n",
      "60000/60000 [==============================] - 2s 30us/step - loss: 0.0551 - acc: 0.9831\n",
      "Epoch 11/20\n",
      "60000/60000 [==============================] - 2s 30us/step - loss: 0.0504 - acc: 0.9845\n",
      "Epoch 12/20\n",
      "60000/60000 [==============================] - 2s 30us/step - loss: 0.0469 - acc: 0.9855\n",
      "Epoch 13/20\n",
      "60000/60000 [==============================] - 2s 30us/step - loss: 0.0432 - acc: 0.9862\n",
      "Epoch 14/20\n",
      "60000/60000 [==============================] - 2s 30us/step - loss: 0.0351 - acc: 0.9889\n",
      "Epoch 15/20\n",
      "60000/60000 [==============================] - 2s 30us/step - loss: 0.0307 - acc: 0.9904\n",
      "Epoch 16/20\n",
      "60000/60000 [==============================] - 2s 30us/step - loss: 0.0302 - acc: 0.9907\n",
      "Epoch 17/20\n",
      "60000/60000 [==============================] - 2s 30us/step - loss: 0.0242 - acc: 0.9925\n",
      "Epoch 18/20\n",
      "60000/60000 [==============================] - 2s 30us/step - loss: 0.0238 - acc: 0.9929\n",
      "Epoch 19/20\n",
      "60000/60000 [==============================] - 2s 30us/step - loss: 0.0241 - acc: 0.9925\n",
      "Epoch 20/20\n",
      "60000/60000 [==============================] - 2s 30us/step - loss: 0.0217 - acc: 0.9930\n",
      "60000/60000 [==============================] - 3s 45us/step\n",
      "\n",
      "Training accuracy: 0.9958166658878327\n",
      "10000/10000 [==============================] - 0s 17us/step\n",
      "\n",
      "Test accuracy: 0.9837999999523163\n"
     ]
    }
   ],
   "source": [
    "model.compile(loss='categorical_crossentropy', optimizer='adam', metrics=['accuracy'])\n",
    "model.fit(x_train, y_train, batch_size=batch_size, epochs=training_iters)\n",
    "\n",
    "result = model.evaluate(x_train, y_train, batch_size=batch_size)\n",
    "print ('\\nTraining accuracy:', result[1])\n",
    "\n",
    "result = model.evaluate(x_test, y_test, batch_size=batch_size)\n",
    "print ('\\nTest accuracy:', result[1])"
   ]
  },
  {
   "cell_type": "code",
   "execution_count": 69,
   "metadata": {},
   "outputs": [],
   "source": [
    "## unit = 128\n",
    "# 10000 data\n",
    "# training accuarcy = 0.9934\n",
    "# testing accuracy = 0.9524\n",
    "\n",
    "# 30000 data\n",
    "# training accuarcy = 0.9941\n",
    "# testing accuracy = 0.9791\n",
    "\n",
    "# 60000 data, batch_size = 200\n",
    "# training accuarcy = 0.9965\n",
    "# testing accuracy = 0.9849\n",
    "# 60000 data, batch_size = 1000\n",
    "# training accuarcy = 0.98695\n",
    "# testing accuracy = 0.9768\n",
    "\n",
    "## unit = 256\n",
    "# 60000 data, batch_size = 1000\n",
    "# training accuarcy = 0.9958\n",
    "# testing accuracy = 0.9838"
   ]
  }
 ],
 "metadata": {
  "kernelspec": {
   "display_name": "Python 3",
   "language": "python",
   "name": "python3"
  },
  "language_info": {
   "codemirror_mode": {
    "name": "ipython",
    "version": 3
   },
   "file_extension": ".py",
   "mimetype": "text/x-python",
   "name": "python",
   "nbconvert_exporter": "python",
   "pygments_lexer": "ipython3",
   "version": "3.6.9"
  }
 },
 "nbformat": 4,
 "nbformat_minor": 4
}
