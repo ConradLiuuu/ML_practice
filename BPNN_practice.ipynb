{
 "cells": [
  {
   "cell_type": "code",
   "execution_count": 199,
   "metadata": {},
   "outputs": [],
   "source": [
    "from keras.models import Sequential\n",
    "from keras.layers import Dense, Activation\n",
    "from keras.optimizers import SGD, adam\n",
    "import numpy as np"
   ]
  },
  {
   "cell_type": "code",
   "execution_count": 200,
   "metadata": {},
   "outputs": [
    {
     "name": "stdout",
     "output_type": "stream",
     "text": [
      "I =  [[0.  ]\n",
      " [0.01]\n",
      " [0.02]\n",
      " [0.03]\n",
      " [0.04]\n",
      " [0.05]\n",
      " [0.06]\n",
      " [0.07]\n",
      " [0.08]\n",
      " [0.09]\n",
      " [0.1 ]]\n",
      "normalize I =  [[0. ]\n",
      " [0.1]\n",
      " [0.2]\n",
      " [0.3]\n",
      " [0.4]\n",
      " [0.5]\n",
      " [0.6]\n",
      " [0.7]\n",
      " [0.8]\n",
      " [0.9]\n",
      " [1. ]]\n",
      "shape of noralize I: (11, 1)\n"
     ]
    }
   ],
   "source": [
    "'''\n",
    "I = []\n",
    "a = 0\n",
    "I.append(a)\n",
    "for i in range(10):\n",
    "    a += 0.01\n",
    "    I.append(a)\n",
    "print(\"I = \", I)\n",
    "'''\n",
    "I = np.zeros([11, 1])\n",
    "tmp = 0\n",
    "for i in range(len(I)):\n",
    "    I[i] = tmp\n",
    "    tmp += 0.01\n",
    "print(\"I = \", I)\n",
    "\n",
    "nor_I = np.zeros([len(I), 1])\n",
    "for i in range(len(I)):\n",
    "    nor_I[i] = ((I[i]-min(I))/(max(I)-min(I)))\n",
    "    #print(I[i])\n",
    "print(\"normalize I = \", nor_I)\n",
    "\n",
    "print(\"shape of noralize I:\",nor_I.shape)"
   ]
  },
  {
   "cell_type": "code",
   "execution_count": 201,
   "metadata": {
    "scrolled": true
   },
   "outputs": [
    {
     "name": "stdout",
     "output_type": "stream",
     "text": [
      "V =  [[ 20]\n",
      " [ 58]\n",
      " [ 88]\n",
      " [109]\n",
      " [130]\n",
      " [146]\n",
      " [162]\n",
      " [177]\n",
      " [187]\n",
      " [196]\n",
      " [201]]\n",
      "normalize V =  [[0.        ]\n",
      " [0.20994475]\n",
      " [0.37569061]\n",
      " [0.49171271]\n",
      " [0.60773481]\n",
      " [0.6961326 ]\n",
      " [0.78453039]\n",
      " [0.86740331]\n",
      " [0.92265193]\n",
      " [0.97237569]\n",
      " [1.        ]]\n",
      "shape of noralize V: (11, 1)\n"
     ]
    }
   ],
   "source": [
    "V = [20, 58, 88, 109, 130, 146, 162, 177, 187, 196, 201]\n",
    "V = np.array(V)\n",
    "V = V.reshape(11,1)\n",
    "#print(V.shape)\n",
    "print(\"V = \", V)\n",
    "\n",
    "nor_V = np.zeros([len(V), 1])\n",
    "for i in range(len(V)):\n",
    "    nor_V[i] = ((V[i]-min(V))/(max(V)-min(V)))\n",
    "print(\"normalize V = \", nor_V)\n",
    "print(\"shape of noralize V:\",nor_V.shape)"
   ]
  },
  {
   "cell_type": "code",
   "execution_count": 202,
   "metadata": {},
   "outputs": [],
   "source": [
    "model = Sequential()\n",
    "model.add(Dense(input_dim=1*1, units=10, activation='tanh'))\n",
    "model.add(Dense(units=10, activation='tanh'))\n",
    "model.add(Dense(units=1, activation='tanh'))"
   ]
  },
  {
   "cell_type": "code",
   "execution_count": 203,
   "metadata": {
    "scrolled": true
   },
   "outputs": [
    {
     "name": "stdout",
     "output_type": "stream",
     "text": [
      "Epoch 1/10\n",
      "11/11 [==============================] - 1s 84ms/step - loss: 0.1496 - acc: 0.0909\n",
      "Epoch 2/10\n",
      "11/11 [==============================] - 0s 2ms/step - loss: 0.0726 - acc: 0.1818\n",
      "Epoch 3/10\n",
      "11/11 [==============================] - 0s 2ms/step - loss: 0.0422 - acc: 0.1818\n",
      "Epoch 4/10\n",
      "11/11 [==============================] - 0s 2ms/step - loss: 0.0243 - acc: 0.1818\n",
      "Epoch 5/10\n",
      "11/11 [==============================] - 0s 2ms/step - loss: 0.0186 - acc: 0.1818\n",
      "Epoch 6/10\n",
      "11/11 [==============================] - 0s 2ms/step - loss: 0.0167 - acc: 0.1818\n",
      "Epoch 7/10\n",
      "11/11 [==============================] - 0s 2ms/step - loss: 0.0153 - acc: 0.1818\n",
      "Epoch 8/10\n",
      "11/11 [==============================] - 0s 2ms/step - loss: 0.0136 - acc: 0.1818    \n",
      "Epoch 9/10\n",
      "11/11 [==============================] - 0s 2ms/step - loss: 0.0123 - acc: 0.1818\n",
      "Epoch 10/10\n",
      "11/11 [==============================] - 0s 2ms/step - loss: 0.0109 - acc: 0.1818    \n",
      "11/11 [==============================] - 0s 36ms/step\n",
      "\n",
      "Training accuracy: 0.18181818181818182\n"
     ]
    }
   ],
   "source": [
    "#model.compile(loss='mse', optimizer='adam', metrics=['accuracy'])\n",
    "model.compile(loss='mean_squared_error', optimizer='adam', metrics=['accuracy'])\n",
    "#for i in range(len(nor_I)):\n",
    "    #model.fit(np.array(nor_I[i]), np.array(nor_V[i]), batch_size=1, epochs=20)\n",
    "\n",
    "model.fit(nor_I, nor_V, batch_size=1, epochs=10)\n",
    "res = model.evaluate(nor_I, nor_V, batch_size=1)\n",
    "print('\\nTraining accuracy:', res[1])"
   ]
  },
  {
   "cell_type": "code",
   "execution_count": 209,
   "metadata": {},
   "outputs": [
    {
     "name": "stdout",
     "output_type": "stream",
     "text": [
      "res =  [[ 52.17460676]\n",
      " [ 76.47869   ]\n",
      " [ 98.22232294]\n",
      " [116.72418588]\n",
      " [131.86106944]\n",
      " [143.90670872]\n",
      " [153.32998013]\n",
      " [160.63984996]\n",
      " [166.29880786]\n",
      " [170.68980032]\n",
      " [174.11378169]]\n",
      "actual res =  [[ 20]\n",
      " [ 58]\n",
      " [ 88]\n",
      " [109]\n",
      " [130]\n",
      " [146]\n",
      " [162]\n",
      " [177]\n",
      " [187]\n",
      " [196]\n",
      " [201]]\n"
     ]
    }
   ],
   "source": [
    "#test_I = np.array([1,1])\n",
    "#test_I = (test_I-min(I))/(max(I)-min(I))\n",
    "#print(test_I)\n",
    "\n",
    "pred = model.predict(nor_I)\n",
    "ans = pred*(max(V)-min(V))+min(V)\n",
    "print(\"res = \", ans)\n",
    "print(\"actual res = \", np.array(V))"
   ]
  },
  {
   "cell_type": "code",
   "execution_count": 205,
   "metadata": {},
   "outputs": [
    {
     "data": {
      "text/plain": [
       "<matplotlib.legend.Legend at 0x7f6196fdeac8>"
      ]
     },
     "execution_count": 205,
     "metadata": {},
     "output_type": "execute_result"
    },
    {
     "data": {
      "image/png": "[encoded data removed]",
      "text/plain": [
       "<Figure size 432x288 with 1 Axes>"
      ]
     },
     "metadata": {
      "needs_background": "light"
     },
     "output_type": "display_data"
    }
   ],
   "source": [
    "from matplotlib import pyplot as plt\n",
    "\n",
    "plt.xlabel('I')\n",
    "plt.ylabel('V')\n",
    "\n",
    "#plt.plot(I,V,'b')\n",
    "#plt.show\n",
    "line1 = plt.plot(I, V, color='blue', label='Actual voltage')\n",
    "\n",
    "#plt.plot(I,ans,'r')\n",
    "line2 = plt.plot(I, ans, color='red', label='Prediction voltage')\n",
    "\n",
    "plt.show\n",
    "plt.legend(loc='upper left')\n"
   ]
  }
 ],
 "metadata": {
  "kernelspec": {
   "display_name": "Python 3",
   "language": "python",
   "name": "python3"
  },
  "language_info": {
   "codemirror_mode": {
    "name": "ipython",
    "version": 3
   },
   "file_extension": ".py",
   "mimetype": "text/x-python",
   "name": "python",
   "nbconvert_exporter": "python",
   "pygments_lexer": "ipython3",
   "version": "3.6.9"
  }
 },
 "nbformat": 4,
 "nbformat_minor": 4
}
