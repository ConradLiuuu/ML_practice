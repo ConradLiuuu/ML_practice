{
 "cells": [
  {
   "cell_type": "code",
   "execution_count": 1,
   "metadata": {},
   "outputs": [
    {
     "name": "stderr",
     "output_type": "stream",
     "text": [
      "Using TensorFlow backend.\n",
      "/home/lab606a/.virtualenvs/keras/lib/python3.6/site-packages/tensorflow/python/framework/dtypes.py:523: FutureWarning: Passing (type, 1) or '1type' as a synonym of type is deprecated; in a future version of numpy, it will be understood as (type, (1,)) / '(1,)type'.\n",
      "  _np_qint8 = np.dtype([(\"qint8\", np.int8, 1)])\n",
      "/home/lab606a/.virtualenvs/keras/lib/python3.6/site-packages/tensorflow/python/framework/dtypes.py:524: FutureWarning: Passing (type, 1) or '1type' as a synonym of type is deprecated; in a future version of numpy, it will be understood as (type, (1,)) / '(1,)type'.\n",
      "  _np_quint8 = np.dtype([(\"quint8\", np.uint8, 1)])\n",
      "/home/lab606a/.virtualenvs/keras/lib/python3.6/site-packages/tensorflow/python/framework/dtypes.py:525: FutureWarning: Passing (type, 1) or '1type' as a synonym of type is deprecated; in a future version of numpy, it will be understood as (type, (1,)) / '(1,)type'.\n",
      "  _np_qint16 = np.dtype([(\"qint16\", np.int16, 1)])\n",
      "/home/lab606a/.virtualenvs/keras/lib/python3.6/site-packages/tensorflow/python/framework/dtypes.py:526: FutureWarning: Passing (type, 1) or '1type' as a synonym of type is deprecated; in a future version of numpy, it will be understood as (type, (1,)) / '(1,)type'.\n",
      "  _np_quint16 = np.dtype([(\"quint16\", np.uint16, 1)])\n",
      "/home/lab606a/.virtualenvs/keras/lib/python3.6/site-packages/tensorflow/python/framework/dtypes.py:527: FutureWarning: Passing (type, 1) or '1type' as a synonym of type is deprecated; in a future version of numpy, it will be understood as (type, (1,)) / '(1,)type'.\n",
      "  _np_qint32 = np.dtype([(\"qint32\", np.int32, 1)])\n",
      "/home/lab606a/.virtualenvs/keras/lib/python3.6/site-packages/tensorflow/python/framework/dtypes.py:532: FutureWarning: Passing (type, 1) or '1type' as a synonym of type is deprecated; in a future version of numpy, it will be understood as (type, (1,)) / '(1,)type'.\n",
      "  np_resource = np.dtype([(\"resource\", np.ubyte, 1)])\n"
     ]
    }
   ],
   "source": [
    "from keras.models import Sequential\n",
    "from keras.layers import Dense, Activation\n",
    "from keras.optimizers import SGD, adam\n",
    "import numpy as np"
   ]
  },
  {
   "cell_type": "code",
   "execution_count": 2,
   "metadata": {},
   "outputs": [
    {
     "name": "stdout",
     "output_type": "stream",
     "text": [
      "I =  [[0.  ]\n",
      " [0.01]\n",
      " [0.02]\n",
      " [0.03]\n",
      " [0.04]\n",
      " [0.05]\n",
      " [0.06]\n",
      " [0.07]\n",
      " [0.08]\n",
      " [0.09]\n",
      " [0.1 ]]\n",
      "normalize I =  [[0. ]\n",
      " [0.1]\n",
      " [0.2]\n",
      " [0.3]\n",
      " [0.4]\n",
      " [0.5]\n",
      " [0.6]\n",
      " [0.7]\n",
      " [0.8]\n",
      " [0.9]\n",
      " [1. ]]\n",
      "shape of noralize I: (11, 1)\n"
     ]
    }
   ],
   "source": [
    "'''\n",
    "I = []\n",
    "a = 0\n",
    "I.append(a)\n",
    "for i in range(10):\n",
    "    a += 0.01\n",
    "    I.append(a)\n",
    "print(\"I = \", I)\n",
    "'''\n",
    "I = np.zeros([11, 1])\n",
    "tmp = 0\n",
    "for i in range(len(I)):\n",
    "    I[i] = tmp\n",
    "    tmp += 0.01\n",
    "print(\"I = \", I)\n",
    "\n",
    "nor_I = np.zeros([len(I), 1])\n",
    "for i in range(len(I)):\n",
    "    nor_I[i] = ((I[i]-min(I))/(max(I)-min(I)))\n",
    "    #print(I[i])\n",
    "print(\"normalize I = \", nor_I)\n",
    "\n",
    "print(\"shape of noralize I:\",nor_I.shape)"
   ]
  },
  {
   "cell_type": "code",
   "execution_count": 3,
   "metadata": {
    "scrolled": true
   },
   "outputs": [
    {
     "name": "stdout",
     "output_type": "stream",
     "text": [
      "V =  [[ 20]\n",
      " [ 58]\n",
      " [ 88]\n",
      " [109]\n",
      " [130]\n",
      " [146]\n",
      " [162]\n",
      " [177]\n",
      " [187]\n",
      " [196]\n",
      " [201]]\n",
      "normalize V =  [[0.        ]\n",
      " [0.20994475]\n",
      " [0.37569061]\n",
      " [0.49171271]\n",
      " [0.60773481]\n",
      " [0.6961326 ]\n",
      " [0.78453039]\n",
      " [0.86740331]\n",
      " [0.92265193]\n",
      " [0.97237569]\n",
      " [1.        ]]\n",
      "shape of noralize V: (11, 1)\n"
     ]
    }
   ],
   "source": [
    "V = [20, 58, 88, 109, 130, 146, 162, 177, 187, 196, 201]\n",
    "V = np.array(V)\n",
    "V = V.reshape(11,1)\n",
    "#print(V.shape)\n",
    "print(\"V = \", V)\n",
    "\n",
    "nor_V = np.zeros([len(V), 1])\n",
    "for i in range(len(V)):\n",
    "    nor_V[i] = ((V[i]-min(V))/(max(V)-min(V)))\n",
    "print(\"normalize V = \", nor_V)\n",
    "print(\"shape of noralize V:\",nor_V.shape)"
   ]
  },
  {
   "cell_type": "code",
   "execution_count": 4,
   "metadata": {},
   "outputs": [],
   "source": [
    "model = Sequential()\n",
    "model.add(Dense(input_dim=1*1, units=10, activation='tanh'))\n",
    "#model.add(Dense(units=10, activation='tanh'))\n",
    "for i in range(3):\n",
    "    model.add(Dense(input_dim=1*1, units=10, activation='tanh'))\n",
    "model.add(Dense(units=1, activation='tanh'))"
   ]
  },
  {
   "cell_type": "code",
   "execution_count": 5,
   "metadata": {
    "scrolled": true
   },
   "outputs": [
    {
     "name": "stdout",
     "output_type": "stream",
     "text": [
      "Epoch 1/100\n",
      "11/11 [==============================] - 1s 53ms/step - loss: 0.2552 - acc: 0.0909\n",
      "Epoch 2/100\n",
      "11/11 [==============================] - 0s 1ms/step - loss: 0.1152 - acc: 0.0909\n",
      "Epoch 3/100\n",
      "11/11 [==============================] - 0s 1ms/step - loss: 0.0826 - acc: 0.1818\n",
      "Epoch 4/100\n",
      "11/11 [==============================] - 0s 1ms/step - loss: 0.0718 - acc: 0.1818\n",
      "Epoch 5/100\n",
      "11/11 [==============================] - 0s 1ms/step - loss: 0.0666 - acc: 0.1818\n",
      "Epoch 6/100\n",
      "11/11 [==============================] - 0s 1ms/step - loss: 0.0630 - acc: 0.1818\n",
      "Epoch 7/100\n",
      "11/11 [==============================] - 0s 1ms/step - loss: 0.0602 - acc: 0.1818\n",
      "Epoch 8/100\n",
      "11/11 [==============================] - 0s 1ms/step - loss: 0.0574 - acc: 0.1818\n",
      "Epoch 9/100\n",
      "11/11 [==============================] - 0s 1ms/step - loss: 0.0549 - acc: 0.1818\n",
      "Epoch 10/100\n",
      "11/11 [==============================] - 0s 1ms/step - loss: 0.0524 - acc: 0.1818\n",
      "Epoch 11/100\n",
      "11/11 [==============================] - 0s 1ms/step - loss: 0.0499 - acc: 0.1818\n",
      "Epoch 12/100\n",
      "11/11 [==============================] - 0s 1ms/step - loss: 0.0470 - acc: 0.1818\n",
      "Epoch 13/100\n",
      "11/11 [==============================] - 0s 1ms/step - loss: 0.0446 - acc: 0.1818\n",
      "Epoch 14/100\n",
      "11/11 [==============================] - 0s 1ms/step - loss: 0.0421 - acc: 0.1818\n",
      "Epoch 15/100\n",
      "11/11 [==============================] - 0s 1ms/step - loss: 0.0394 - acc: 0.1818    \n",
      "Epoch 16/100\n",
      "11/11 [==============================] - 0s 1ms/step - loss: 0.0368 - acc: 0.1818\n",
      "Epoch 17/100\n",
      "11/11 [==============================] - 0s 1ms/step - loss: 0.0342 - acc: 0.1818\n",
      "Epoch 18/100\n",
      "11/11 [==============================] - 0s 1ms/step - loss: 0.0321 - acc: 0.1818\n",
      "Epoch 19/100\n",
      "11/11 [==============================] - 0s 1ms/step - loss: 0.0295 - acc: 0.1818\n",
      "Epoch 20/100\n",
      "11/11 [==============================] - 0s 1ms/step - loss: 0.0271 - acc: 0.1818\n",
      "Epoch 21/100\n",
      "11/11 [==============================] - 0s 1ms/step - loss: 0.0251 - acc: 0.1818\n",
      "Epoch 22/100\n",
      "11/11 [==============================] - 0s 1ms/step - loss: 0.0229 - acc: 0.1818\n",
      "Epoch 23/100\n",
      "11/11 [==============================] - 0s 1ms/step - loss: 0.0210 - acc: 0.1818\n",
      "Epoch 24/100\n",
      "11/11 [==============================] - 0s 1ms/step - loss: 0.0192 - acc: 0.1818\n",
      "Epoch 25/100\n",
      "11/11 [==============================] - 0s 1ms/step - loss: 0.0175 - acc: 0.1818\n",
      "Epoch 26/100\n",
      "11/11 [==============================] - 0s 1ms/step - loss: 0.0160 - acc: 0.1818\n",
      "Epoch 27/100\n",
      "11/11 [==============================] - 0s 1ms/step - loss: 0.0146 - acc: 0.1818    \n",
      "Epoch 28/100\n",
      "11/11 [==============================] - 0s 1ms/step - loss: 0.0132 - acc: 0.1818\n",
      "Epoch 29/100\n",
      "11/11 [==============================] - 0s 1ms/step - loss: 0.0120 - acc: 0.1818\n",
      "Epoch 30/100\n",
      "11/11 [==============================] - 0s 1ms/step - loss: 0.0110 - acc: 0.1818\n",
      "Epoch 31/100\n",
      "11/11 [==============================] - 0s 1ms/step - loss: 0.0100 - acc: 0.1818    \n",
      "Epoch 32/100\n",
      "11/11 [==============================] - 0s 1ms/step - loss: 0.0091 - acc: 0.1818    \n",
      "Epoch 33/100\n",
      "11/11 [==============================] - 0s 1ms/step - loss: 0.0084 - acc: 0.1818    \n",
      "Epoch 34/100\n",
      "11/11 [==============================] - 0s 1ms/step - loss: 0.0077 - acc: 0.1818\n",
      "Epoch 35/100\n",
      "11/11 [==============================] - 0s 1ms/step - loss: 0.0070 - acc: 0.1818\n",
      "Epoch 36/100\n",
      "11/11 [==============================] - 0s 1ms/step - loss: 0.0065 - acc: 0.1818    \n",
      "Epoch 37/100\n",
      "11/11 [==============================] - 0s 1ms/step - loss: 0.0060 - acc: 0.1818\n",
      "Epoch 38/100\n",
      "11/11 [==============================] - 0s 1ms/step - loss: 0.0056 - acc: 0.1818    \n",
      "Epoch 39/100\n",
      "11/11 [==============================] - 0s 1ms/step - loss: 0.0052 - acc: 0.1818\n",
      "Epoch 40/100\n",
      "11/11 [==============================] - 0s 1ms/step - loss: 0.0048 - acc: 0.1818    \n",
      "Epoch 41/100\n",
      "11/11 [==============================] - 0s 1ms/step - loss: 0.0046 - acc: 0.1818    \n",
      "Epoch 42/100\n",
      "11/11 [==============================] - 0s 1ms/step - loss: 0.0043 - acc: 0.1818    \n",
      "Epoch 43/100\n",
      "11/11 [==============================] - 0s 1ms/step - loss: 0.0040 - acc: 0.1818    \n",
      "Epoch 44/100\n",
      "11/11 [==============================] - 0s 1ms/step - loss: 0.0039 - acc: 0.1818\n",
      "Epoch 45/100\n",
      "11/11 [==============================] - 0s 1ms/step - loss: 0.0037 - acc: 0.1818\n",
      "Epoch 46/100\n",
      "11/11 [==============================] - 0s 1ms/step - loss: 0.0035 - acc: 0.1818    \n",
      "Epoch 47/100\n",
      "11/11 [==============================] - 0s 1ms/step - loss: 0.0034 - acc: 0.1818    \n",
      "Epoch 48/100\n",
      "11/11 [==============================] - 0s 1ms/step - loss: 0.0032 - acc: 0.1818    \n",
      "Epoch 49/100\n",
      "11/11 [==============================] - 0s 1ms/step - loss: 0.0031 - acc: 0.1818\n",
      "Epoch 50/100\n",
      "11/11 [==============================] - 0s 1ms/step - loss: 0.0030 - acc: 0.1818    \n",
      "Epoch 51/100\n",
      "11/11 [==============================] - 0s 1ms/step - loss: 0.0029 - acc: 0.1818\n",
      "Epoch 52/100\n",
      "11/11 [==============================] - 0s 1ms/step - loss: 0.0029 - acc: 0.1818    \n",
      "Epoch 53/100\n",
      "11/11 [==============================] - 0s 1ms/step - loss: 0.0028 - acc: 0.1818\n",
      "Epoch 54/100\n",
      "11/11 [==============================] - 0s 1ms/step - loss: 0.0027 - acc: 0.1818    \n",
      "Epoch 55/100\n",
      "11/11 [==============================] - 0s 1ms/step - loss: 0.0027 - acc: 0.1818\n",
      "Epoch 56/100\n",
      "11/11 [==============================] - 0s 1ms/step - loss: 0.0026 - acc: 0.1818    \n",
      "Epoch 57/100\n",
      "11/11 [==============================] - 0s 1ms/step - loss: 0.0026 - acc: 0.1818    \n",
      "Epoch 58/100\n",
      "11/11 [==============================] - 0s 1ms/step - loss: 0.0025 - acc: 0.1818    \n",
      "Epoch 59/100\n",
      "11/11 [==============================] - 0s 1ms/step - loss: 0.0025 - acc: 0.1818    \n",
      "Epoch 60/100\n",
      "11/11 [==============================] - 0s 1ms/step - loss: 0.0025 - acc: 0.1818\n",
      "Epoch 61/100\n",
      "11/11 [==============================] - 0s 1ms/step - loss: 0.0025 - acc: 0.1818\n",
      "Epoch 62/100\n",
      "11/11 [==============================] - 0s 1ms/step - loss: 0.0024 - acc: 0.1818\n",
      "Epoch 63/100\n",
      "11/11 [==============================] - 0s 1ms/step - loss: 0.0024 - acc: 0.1818    \n",
      "Epoch 64/100\n",
      "11/11 [==============================] - 0s 1ms/step - loss: 0.0024 - acc: 0.1818\n",
      "Epoch 65/100\n",
      "11/11 [==============================] - 0s 1ms/step - loss: 0.0024 - acc: 0.1818\n",
      "Epoch 66/100\n",
      "11/11 [==============================] - 0s 1ms/step - loss: 0.0024 - acc: 0.1818\n",
      "Epoch 67/100\n",
      "11/11 [==============================] - 0s 1ms/step - loss: 0.0023 - acc: 0.1818\n",
      "Epoch 68/100\n",
      "11/11 [==============================] - 0s 1ms/step - loss: 0.0023 - acc: 0.1818    \n",
      "Epoch 69/100\n",
      "11/11 [==============================] - 0s 1ms/step - loss: 0.0023 - acc: 0.1818    \n",
      "Epoch 70/100\n",
      "11/11 [==============================] - 0s 1ms/step - loss: 0.0023 - acc: 0.1818\n",
      "Epoch 71/100\n",
      "11/11 [==============================] - 0s 1ms/step - loss: 0.0023 - acc: 0.1818\n",
      "Epoch 72/100\n",
      "11/11 [==============================] - 0s 1ms/step - loss: 0.0023 - acc: 0.1818\n",
      "Epoch 73/100\n",
      "11/11 [==============================] - 0s 1ms/step - loss: 0.0023 - acc: 0.1818\n",
      "Epoch 74/100\n",
      "11/11 [==============================] - 0s 1ms/step - loss: 0.0023 - acc: 0.1818    \n",
      "Epoch 75/100\n",
      "11/11 [==============================] - 0s 1ms/step - loss: 0.0023 - acc: 0.1818\n",
      "Epoch 76/100\n",
      "11/11 [==============================] - 0s 1ms/step - loss: 0.0023 - acc: 0.1818    \n",
      "Epoch 77/100\n",
      "11/11 [==============================] - 0s 1ms/step - loss: 0.0022 - acc: 0.1818\n",
      "Epoch 78/100\n",
      "11/11 [==============================] - 0s 1ms/step - loss: 0.0022 - acc: 0.1818\n",
      "Epoch 79/100\n",
      "11/11 [==============================] - 0s 1ms/step - loss: 0.0022 - acc: 0.1818\n",
      "Epoch 80/100\n",
      "11/11 [==============================] - 0s 1ms/step - loss: 0.0022 - acc: 0.1818\n",
      "Epoch 81/100\n",
      "11/11 [==============================] - 0s 1ms/step - loss: 0.0022 - acc: 0.1818    \n",
      "Epoch 82/100\n",
      "11/11 [==============================] - 0s 1ms/step - loss: 0.0022 - acc: 0.1818\n",
      "Epoch 83/100\n",
      "11/11 [==============================] - 0s 1ms/step - loss: 0.0022 - acc: 0.1818\n",
      "Epoch 84/100\n",
      "11/11 [==============================] - 0s 1ms/step - loss: 0.0022 - acc: 0.1818\n",
      "Epoch 85/100\n",
      "11/11 [==============================] - 0s 1ms/step - loss: 0.0022 - acc: 0.1818\n",
      "Epoch 86/100\n"
     ]
    },
    {
     "name": "stdout",
     "output_type": "stream",
     "text": [
      "11/11 [==============================] - 0s 1ms/step - loss: 0.0022 - acc: 0.1818    \n",
      "Epoch 87/100\n",
      "11/11 [==============================] - 0s 1ms/step - loss: 0.0022 - acc: 0.1818\n",
      "Epoch 88/100\n",
      "11/11 [==============================] - 0s 1ms/step - loss: 0.0022 - acc: 0.1818    \n",
      "Epoch 89/100\n",
      "11/11 [==============================] - 0s 1ms/step - loss: 0.0022 - acc: 0.1818\n",
      "Epoch 90/100\n",
      "11/11 [==============================] - 0s 1ms/step - loss: 0.0022 - acc: 0.1818\n",
      "Epoch 91/100\n",
      "11/11 [==============================] - 0s 1ms/step - loss: 0.0022 - acc: 0.1818\n",
      "Epoch 92/100\n",
      "11/11 [==============================] - 0s 1ms/step - loss: 0.0022 - acc: 0.1818\n",
      "Epoch 93/100\n",
      "11/11 [==============================] - 0s 1ms/step - loss: 0.0022 - acc: 0.1818    \n",
      "Epoch 94/100\n",
      "11/11 [==============================] - 0s 1ms/step - loss: 0.0022 - acc: 0.1818    \n",
      "Epoch 95/100\n",
      "11/11 [==============================] - 0s 1ms/step - loss: 0.0022 - acc: 0.1818    \n",
      "Epoch 96/100\n",
      "11/11 [==============================] - 0s 1ms/step - loss: 0.0021 - acc: 0.1818\n",
      "Epoch 97/100\n",
      "11/11 [==============================] - 0s 1ms/step - loss: 0.0021 - acc: 0.1818    \n",
      "Epoch 98/100\n",
      "11/11 [==============================] - 0s 1ms/step - loss: 0.0022 - acc: 0.1818\n",
      "Epoch 99/100\n",
      "11/11 [==============================] - 0s 1ms/step - loss: 0.0022 - acc: 0.1818    \n",
      "Epoch 100/100\n",
      "11/11 [==============================] - 0s 1ms/step - loss: 0.0022 - acc: 0.1818\n",
      "11/11 [==============================] - 0s 2ms/step\n",
      "\n",
      "Training accuracy: 0.18181818181818182\n"
     ]
    }
   ],
   "source": [
    "#model.compile(loss='mse', optimizer='adam', metrics=['accuracy'])\n",
    "model.compile(loss='mean_squared_error', optimizer='SGD', metrics=['accuracy'])\n",
    "#for i in range(len(nor_I)):\n",
    "    #model.fit(np.array(nor_I[i]), np.array(nor_V[i]), batch_size=1, epochs=20)\n",
    "\n",
    "model.fit(nor_I, nor_V, batch_size=1, epochs=100)\n",
    "res = model.evaluate(nor_I, nor_V, batch_size=1)\n",
    "print('\\nTraining accuracy:', res[1])"
   ]
  },
  {
   "cell_type": "code",
   "execution_count": 6,
   "metadata": {},
   "outputs": [
    {
     "name": "stdout",
     "output_type": "stream",
     "text": [
      "_________________________________________________________________\n",
      "Layer (type)                 Output Shape              Param #   \n",
      "=================================================================\n",
      "dense_1 (Dense)              (None, 10)                20        \n",
      "_________________________________________________________________\n",
      "dense_2 (Dense)              (None, 10)                110       \n",
      "_________________________________________________________________\n",
      "dense_3 (Dense)              (None, 10)                110       \n",
      "_________________________________________________________________\n",
      "dense_4 (Dense)              (None, 10)                110       \n",
      "_________________________________________________________________\n",
      "dense_5 (Dense)              (None, 1)                 11        \n",
      "=================================================================\n",
      "Total params: 361\n",
      "Trainable params: 361\n",
      "Non-trainable params: 0\n",
      "_________________________________________________________________\n"
     ]
    }
   ],
   "source": [
    "model.summary()"
   ]
  },
  {
   "cell_type": "code",
   "execution_count": 7,
   "metadata": {},
   "outputs": [
    {
     "name": "stdout",
     "output_type": "stream",
     "text": [
      "res =  [[ 19.23640411]\n",
      " [ 53.45398636]\n",
      " [ 86.68424743]\n",
      " [115.4088484 ]\n",
      " [137.84123158]\n",
      " [154.115767  ]\n",
      " [165.42787862]\n",
      " [173.15986776]\n",
      " [178.45241785]\n",
      " [182.1199159 ]\n",
      " [184.70636904]]\n",
      "actual res =  [[ 20]\n",
      " [ 58]\n",
      " [ 88]\n",
      " [109]\n",
      " [130]\n",
      " [146]\n",
      " [162]\n",
      " [177]\n",
      " [187]\n",
      " [196]\n",
      " [201]]\n"
     ]
    }
   ],
   "source": [
    "#test_I = np.array([1,1])\n",
    "#test_I = (test_I-min(I))/(max(I)-min(I))\n",
    "#print(test_I)\n",
    "\n",
    "pred = model.predict(nor_I)\n",
    "ans = pred*(max(V)-min(V))+min(V)\n",
    "print(\"res = \", ans)\n",
    "print(\"actual res = \", np.array(V))"
   ]
  },
  {
   "cell_type": "code",
   "execution_count": 8,
   "metadata": {},
   "outputs": [
    {
     "data": {
      "text/plain": [
       "<matplotlib.legend.Legend at 0x7fbf702a3898>"
      ]
     },
     "execution_count": 8,
     "metadata": {},
     "output_type": "execute_result"
    },
    {
     "data": {
      "image/png": "[encoded data removed]",
      "text/plain": [
       "<Figure size 432x288 with 1 Axes>"
      ]
     },
     "metadata": {
      "needs_background": "light"
     },
     "output_type": "display_data"
    }
   ],
   "source": [
    "from matplotlib import pyplot as plt\n",
    "\n",
    "plt.xlabel('I')\n",
    "plt.ylabel('V')\n",
    "\n",
    "#plt.plot(I,V,'b')\n",
    "#plt.show\n",
    "line1 = plt.plot(I, V, color='blue', label='Actual voltage')\n",
    "\n",
    "#plt.plot(I,ans,'r')\n",
    "line2 = plt.plot(I, ans, color='red', label='Prediction voltage')\n",
    "\n",
    "plt.show\n",
    "plt.legend(loc='upper left')\n"
   ]
  },
  {
   "cell_type": "code",
   "execution_count": 9,
   "metadata": {},
   "outputs": [
    {
     "name": "stdout",
     "output_type": "stream",
     "text": [
      "[[0.5]]\n",
      "predction V =  [[154.115767]]\n"
     ]
    }
   ],
   "source": [
    "test_I = 0.05\n",
    "test_I = (test_I-min(I))/(max(I)-min(I))\n",
    "test_I = np.array([test_I])\n",
    "print(test_I)\n",
    "pred_V = model.predict(test_I)\n",
    "pred_V = pred_V*(max(V)-min(V))+min(V)\n",
    "print(\"predction V = \", pred_V)"
   ]
  }
 ],
 "metadata": {
  "kernelspec": {
   "display_name": "Python 3",
   "language": "python",
   "name": "python3"
  },
  "language_info": {
   "codemirror_mode": {
    "name": "ipython",
    "version": 3
   },
   "file_extension": ".py",
   "mimetype": "text/x-python",
   "name": "python",
   "nbconvert_exporter": "python",
   "pygments_lexer": "ipython3",
   "version": "3.6.9"
  }
 },
 "nbformat": 4,
 "nbformat_minor": 4
}
